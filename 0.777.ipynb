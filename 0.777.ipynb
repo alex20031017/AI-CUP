{
  "cells": [
    {
      "cell_type": "code",
      "execution_count": null,
      "metadata": {},
      "outputs": [],
      "source": [
        "\n",
        "import torch\n",
        "\n",
        "print(torch.cuda.current_device())\n",
        "print(torch.cuda.get_device_name(0))\n",
        "\n",
        "device = torch.device(\"cuda\" if torch.cuda.is_available() else \"cpu\")\n",
        "print(device)  # 你會看到：cuda\n"
      ]
    },
    {
      "cell_type": "code",
      "execution_count": null,
      "metadata": {},
      "outputs": [
        {
          "name": "stderr",
          "output_type": "stream",
          "text": [
            "100%|██████████| 1955/1955 [00:08<00:00, 221.83it/s]\n"
          ]
        },
        {
          "name": "stdout",
          "output_type": "stream",
          "text": [
            "Number of segments collected: 52785\n",
            "✅ Scaler 已儲存到： AICUP\\scaler.pkl\n"
          ]
        },
        {
          "name": "stderr",
          "output_type": "stream",
          "text": [
            "100%|██████████| 52785/52785 [00:27<00:00, 1889.64it/s]"
          ]
        },
        {
          "name": "stdout",
          "output_type": "stream",
          "text": [
            "✅ 共儲存 52785 筆正規化後的 (85,6) .npy 至：AICUP\\sequence_data_train\n"
          ]
        },
        {
          "name": "stderr",
          "output_type": "stream",
          "text": [
            "\n"
          ]
        }
      ],
      "source": [
        "import os\n",
        "import re\n",
        "import numpy as np\n",
        "import pandas as pd\n",
        "from pathlib import Path\n",
        "from tqdm import tqdm\n",
        "from sklearn.preprocessing import StandardScaler\n",
        "import joblib\n",
        "\n",
        "# === 設定資料夾 ===\n",
        "ROOT = Path('./AICUP')\n",
        "TXT_DIR = ROOT / 'train_data'             \n",
        "INFO_CSV = ROOT / 'train_info.csv'         \n",
        "SAVE_DIR = ROOT / 'sequence_data_train'    \n",
        "SAVE_DIR.mkdir(parents=True, exist_ok=True)\n",
        "\n",
        "# === 載入 info.csv 並處理 cut_point ===\n",
        "info = pd.read_csv(INFO_CSV)\n",
        "\n",
        "def fix_cut_point_format(x):\n",
        "    if pd.isna(x):\n",
        "        return []\n",
        "    try:\n",
        "        return [int(n) for n in re.findall(r'\\d+', str(x))]\n",
        "    except:\n",
        "        return []\n",
        "\n",
        "info['cut_point'] = info['cut_point'].apply(fix_cut_point_format)\n",
        "info = info[info['cut_point'].apply(lambda x: len(x) >= 2)]  # 至少能切出 1 段\n",
        "\n",
        "# === 讀取 txt 成 numpy array ===\n",
        "def read_txt_as_array(txt_path):\n",
        "    lines = Path(txt_path).read_text().splitlines()\n",
        "    data = []\n",
        "    for line in lines:\n",
        "        parts = line.strip().split()\n",
        "        if len(parts) == 6:\n",
        "            try:\n",
        "                data.append([int(x) for x in parts])\n",
        "            except:\n",
        "                continue\n",
        "    return np.array(data)\n",
        "\n",
        "# === 收集所有段落，後續統一建立 scaler ===\n",
        "all_segments = []\n",
        "meta = []\n",
        "\n",
        "# === 切割每個 txt 檔案 ===\n",
        "for _, row in tqdm(info.iterrows(), total=len(info)):\n",
        "    uid = row['unique_id']\n",
        "    cut_points = row['cut_point']\n",
        "    txt_file = TXT_DIR / f\"{uid}.txt\"\n",
        "\n",
        "    if not txt_file.exists():\n",
        "        continue\n",
        "\n",
        "    raw = read_txt_as_array(txt_file)\n",
        "\n",
        "    for i in range(len(cut_points) - 1):\n",
        "        start, end = cut_points[i], cut_points[i + 1]\n",
        "        segment = raw[start:end]\n",
        "\n",
        "        if segment.shape[0] == 0:\n",
        "            continue\n",
        "\n",
        "        # 補 0 到 (85, 6)\n",
        "        if segment.shape[0] < 85:\n",
        "            pad_len = 85 - segment.shape[0]\n",
        "            pad = np.zeros((pad_len, 6))\n",
        "            segment = np.vstack([segment, pad])\n",
        "        elif segment.shape[0] > 85:\n",
        "            segment = segment[:85]\n",
        "\n",
        "        if segment.shape != (85, 6):\n",
        "            continue\n",
        "\n",
        "        all_segments.append(segment)\n",
        "        meta.append((uid, i))\n",
        "\n",
        "# === 統一建 scaler，fit 所有 segment 後儲存 ===\n",
        "print(f'Number of segments collected: {len(all_segments)}')\n",
        "all_data = np.concatenate(all_segments, axis=0)  # (N*85, 6)\n",
        "scaler = StandardScaler()\n",
        "scaler.fit(all_data)\n",
        "joblib.dump(scaler, ROOT / \"scaler.pkl\")\n",
        "print(\"✅ Scaler 已儲存到：\", ROOT / \"scaler.pkl\")\n",
        "\n",
        "# === 正規化後再儲存每筆 segment ===\n",
        "for segment, (uid, i) in tqdm(zip(all_segments, meta), total=len(all_segments)):\n",
        "    normed = scaler.transform(segment)\n",
        "    np.save(SAVE_DIR / f\"{uid}_{i}.npy\", normed)\n",
        "\n",
        "print(f\"✅ 共儲存 {len(all_segments)} 筆正規化後的 (85,6) .npy 至：{SAVE_DIR}\")\n"
      ]
    },
    {
      "cell_type": "code",
      "execution_count": 2,
      "metadata": {},
      "outputs": [
        {
          "name": "stderr",
          "output_type": "stream",
          "text": [
            "📂 處理測試檔案:   0%|          | 6/1430 [00:00<00:27, 52.55it/s]"
          ]
        },
        {
          "name": "stdout",
          "output_type": "stream",
          "text": [
            "[✅ 檔案找到] AICUP\\test_data\\1968.txt\n",
            "[✅ 檔案找到] AICUP\\test_data\\1969.txt\n",
            "[✅ 檔案找到] AICUP\\test_data\\1970.txt\n",
            "[✅ 檔案找到] AICUP\\test_data\\1971.txt\n",
            "[✅ 檔案找到] AICUP\\test_data\\1972.txt\n",
            "[✅ 檔案找到] AICUP\\test_data\\1973.txt\n",
            "[✅ 檔案找到] AICUP\\test_data\\1974.txt\n",
            "[✅ 檔案找到] AICUP\\test_data\\1975.txt\n",
            "[✅ 檔案找到] AICUP\\test_data\\1976.txt\n",
            "[✅ 檔案找到] AICUP\\test_data\\1977.txt\n",
            "[✅ 檔案找到] AICUP\\test_data\\1978.txt\n"
          ]
        },
        {
          "name": "stderr",
          "output_type": "stream",
          "text": [
            "📂 處理測試檔案:   1%|▏         | 18/1430 [00:00<00:28, 50.02it/s]"
          ]
        },
        {
          "name": "stdout",
          "output_type": "stream",
          "text": [
            "[✅ 檔案找到] AICUP\\test_data\\1979.txt\n",
            "[✅ 檔案找到] AICUP\\test_data\\1980.txt\n",
            "[✅ 檔案找到] AICUP\\test_data\\1981.txt\n",
            "[✅ 檔案找到] AICUP\\test_data\\1982.txt\n",
            "[✅ 檔案找到] AICUP\\test_data\\1983.txt\n",
            "[✅ 檔案找到] AICUP\\test_data\\1984.txt\n",
            "[✅ 檔案找到] AICUP\\test_data\\1985.txt\n",
            "[✅ 檔案找到] AICUP\\test_data\\1986.txt\n",
            "[✅ 檔案找到] AICUP\\test_data\\1987.txt\n",
            "[✅ 檔案找到] AICUP\\test_data\\1988.txt\n"
          ]
        },
        {
          "name": "stderr",
          "output_type": "stream",
          "text": [
            "📂 處理測試檔案:   2%|▏         | 30/1430 [00:00<00:28, 49.79it/s]"
          ]
        },
        {
          "name": "stdout",
          "output_type": "stream",
          "text": [
            "[✅ 檔案找到] AICUP\\test_data\\1989.txt\n",
            "[✅ 檔案找到] AICUP\\test_data\\1990.txt\n",
            "[✅ 檔案找到] AICUP\\test_data\\1991.txt\n",
            "[✅ 檔案找到] AICUP\\test_data\\1992.txt\n",
            "[✅ 檔案找到] AICUP\\test_data\\1993.txt\n",
            "[✅ 檔案找到] AICUP\\test_data\\1994.txt\n",
            "[✅ 檔案找到] AICUP\\test_data\\1995.txt\n",
            "[✅ 檔案找到] AICUP\\test_data\\1996.txt\n",
            "[✅ 檔案找到] AICUP\\test_data\\1997.txt\n"
          ]
        },
        {
          "name": "stderr",
          "output_type": "stream",
          "text": [
            "📂 處理測試檔案:   3%|▎         | 36/1430 [00:00<00:31, 44.84it/s]"
          ]
        },
        {
          "name": "stdout",
          "output_type": "stream",
          "text": [
            "[✅ 檔案找到] AICUP\\test_data\\1998.txt\n",
            "[✅ 檔案找到] AICUP\\test_data\\1999.txt\n",
            "[✅ 檔案找到] AICUP\\test_data\\2000.txt\n",
            "[✅ 檔案找到] AICUP\\test_data\\2001.txt\n",
            "[✅ 檔案找到] AICUP\\test_data\\2002.txt\n",
            "[✅ 檔案找到] AICUP\\test_data\\2003.txt\n",
            "[✅ 檔案找到] AICUP\\test_data\\2004.txt\n",
            "[✅ 檔案找到] AICUP\\test_data\\2005.txt\n",
            "[✅ 檔案找到] AICUP\\test_data\\2006.txt\n"
          ]
        },
        {
          "name": "stderr",
          "output_type": "stream",
          "text": [
            "📂 處理測試檔案:   3%|▎         | 47/1430 [00:01<00:31, 43.58it/s]"
          ]
        },
        {
          "name": "stdout",
          "output_type": "stream",
          "text": [
            "[✅ 檔案找到] AICUP\\test_data\\2007.txt\n",
            "[✅ 檔案找到] AICUP\\test_data\\2008.txt\n",
            "[✅ 檔案找到] AICUP\\test_data\\2009.txt\n",
            "[✅ 檔案找到] AICUP\\test_data\\2010.txt\n",
            "[✅ 檔案找到] AICUP\\test_data\\2011.txt\n",
            "[✅ 檔案找到] AICUP\\test_data\\2012.txt\n",
            "[✅ 檔案找到] AICUP\\test_data\\2013.txt\n",
            "[✅ 檔案找到] AICUP\\test_data\\2014.txt\n"
          ]
        },
        {
          "name": "stderr",
          "output_type": "stream",
          "text": [
            "📂 處理測試檔案:   4%|▎         | 52/1430 [00:01<00:33, 41.67it/s]"
          ]
        },
        {
          "name": "stdout",
          "output_type": "stream",
          "text": [
            "[✅ 檔案找到] AICUP\\test_data\\2015.txt\n",
            "[✅ 檔案找到] AICUP\\test_data\\2016.txt\n",
            "[✅ 檔案找到] AICUP\\test_data\\2017.txt\n",
            "[✅ 檔案找到] AICUP\\test_data\\2018.txt\n",
            "[✅ 檔案找到] AICUP\\test_data\\2019.txt\n",
            "[✅ 檔案找到] AICUP\\test_data\\2020.txt\n",
            "[✅ 檔案找到] AICUP\\test_data\\2021.txt\n",
            "[✅ 檔案找到] AICUP\\test_data\\2022.txt\n"
          ]
        },
        {
          "name": "stderr",
          "output_type": "stream",
          "text": [
            "📂 處理測試檔案:   4%|▍         | 57/1430 [00:01<00:35, 38.43it/s]"
          ]
        },
        {
          "name": "stdout",
          "output_type": "stream",
          "text": [
            "[✅ 檔案找到] AICUP\\test_data\\2023.txt\n",
            "[✅ 檔案找到] AICUP\\test_data\\2024.txt\n",
            "[✅ 檔案找到] AICUP\\test_data\\2025.txt\n",
            "[✅ 檔案找到] AICUP\\test_data\\2026.txt\n",
            "[✅ 檔案找到] AICUP\\test_data\\2027.txt\n",
            "[✅ 檔案找到] AICUP\\test_data\\2028.txt\n",
            "[✅ 檔案找到] AICUP\\test_data\\2029.txt\n",
            "[✅ 檔案找到] AICUP\\test_data\\2030.txt\n"
          ]
        },
        {
          "name": "stderr",
          "output_type": "stream",
          "text": [
            "📂 處理測試檔案:   5%|▍         | 69/1430 [00:01<00:32, 42.04it/s]"
          ]
        },
        {
          "name": "stdout",
          "output_type": "stream",
          "text": [
            "[✅ 檔案找到] AICUP\\test_data\\2031.txt\n",
            "[✅ 檔案找到] AICUP\\test_data\\2032.txt\n",
            "[✅ 檔案找到] AICUP\\test_data\\2033.txt\n",
            "[✅ 檔案找到] AICUP\\test_data\\2034.txt\n",
            "[✅ 檔案找到] AICUP\\test_data\\2035.txt\n",
            "[✅ 檔案找到] AICUP\\test_data\\2036.txt\n",
            "[✅ 檔案找到] AICUP\\test_data\\2037.txt\n",
            "[✅ 檔案找到] AICUP\\test_data\\2038.txt\n",
            "[✅ 檔案找到] AICUP\\test_data\\2039.txt\n",
            "[✅ 檔案找到] AICUP\\test_data\\2040.txt\n"
          ]
        },
        {
          "name": "stderr",
          "output_type": "stream",
          "text": [
            "📂 處理測試檔案:   6%|▌         | 79/1430 [00:01<00:31, 42.78it/s]"
          ]
        },
        {
          "name": "stdout",
          "output_type": "stream",
          "text": [
            "[✅ 檔案找到] AICUP\\test_data\\2041.txt\n",
            "[✅ 檔案找到] AICUP\\test_data\\2042.txt\n",
            "[✅ 檔案找到] AICUP\\test_data\\2043.txt\n",
            "[✅ 檔案找到] AICUP\\test_data\\2044.txt\n",
            "[✅ 檔案找到] AICUP\\test_data\\2045.txt\n",
            "[✅ 檔案找到] AICUP\\test_data\\2046.txt\n",
            "[✅ 檔案找到] AICUP\\test_data\\2047.txt\n",
            "[✅ 檔案找到] AICUP\\test_data\\2048.txt\n",
            "[✅ 檔案找到] AICUP\\test_data\\2049.txt\n"
          ]
        },
        {
          "name": "stderr",
          "output_type": "stream",
          "text": [
            "📂 處理測試檔案:   6%|▌         | 89/1430 [00:02<00:30, 43.89it/s]"
          ]
        },
        {
          "name": "stdout",
          "output_type": "stream",
          "text": [
            "[✅ 檔案找到] AICUP\\test_data\\2050.txt\n",
            "[✅ 檔案找到] AICUP\\test_data\\2051.txt\n",
            "[✅ 檔案找到] AICUP\\test_data\\2052.txt\n",
            "[✅ 檔案找到] AICUP\\test_data\\2053.txt\n",
            "[✅ 檔案找到] AICUP\\test_data\\2054.txt\n",
            "[✅ 檔案找到] AICUP\\test_data\\2055.txt\n",
            "[✅ 檔案找到] AICUP\\test_data\\2056.txt\n",
            "[✅ 檔案找到] AICUP\\test_data\\2057.txt\n",
            "[✅ 檔案找到] AICUP\\test_data\\2058.txt\n"
          ]
        },
        {
          "name": "stderr",
          "output_type": "stream",
          "text": [
            "📂 處理測試檔案:   7%|▋         | 100/1430 [00:02<00:28, 46.68it/s]"
          ]
        },
        {
          "name": "stdout",
          "output_type": "stream",
          "text": [
            "[✅ 檔案找到] AICUP\\test_data\\2059.txt\n",
            "[✅ 檔案找到] AICUP\\test_data\\2060.txt\n",
            "[✅ 檔案找到] AICUP\\test_data\\2061.txt\n",
            "[✅ 檔案找到] AICUP\\test_data\\2062.txt\n",
            "[✅ 檔案找到] AICUP\\test_data\\2063.txt\n",
            "[✅ 檔案找到] AICUP\\test_data\\2064.txt\n",
            "[✅ 檔案找到] AICUP\\test_data\\2065.txt\n",
            "[✅ 檔案找到] AICUP\\test_data\\2066.txt\n",
            "[✅ 檔案找到] AICUP\\test_data\\2067.txt\n",
            "[✅ 檔案找到] AICUP\\test_data\\2068.txt\n",
            "[✅ 檔案找到] AICUP\\test_data\\2069.txt\n"
          ]
        },
        {
          "name": "stderr",
          "output_type": "stream",
          "text": [
            "📂 處理測試檔案:   7%|▋         | 105/1430 [00:02<00:28, 46.75it/s]"
          ]
        },
        {
          "name": "stdout",
          "output_type": "stream",
          "text": [
            "[✅ 檔案找到] AICUP\\test_data\\2070.txt\n",
            "[✅ 檔案找到] AICUP\\test_data\\2071.txt\n",
            "[✅ 檔案找到] AICUP\\test_data\\2072.txt\n",
            "[✅ 檔案找到] AICUP\\test_data\\2073.txt\n",
            "[✅ 檔案找到] AICUP\\test_data\\2074.txt\n",
            "[✅ 檔案找到] AICUP\\test_data\\2075.txt\n",
            "[✅ 檔案找到] AICUP\\test_data\\2076.txt\n",
            "[✅ 檔案找到] AICUP\\test_data\\2077.txt\n"
          ]
        },
        {
          "name": "stderr",
          "output_type": "stream",
          "text": [
            "📂 處理測試檔案:   8%|▊         | 116/1430 [00:02<00:27, 47.38it/s]"
          ]
        },
        {
          "name": "stdout",
          "output_type": "stream",
          "text": [
            "[✅ 檔案找到] AICUP\\test_data\\2078.txt\n",
            "[✅ 檔案找到] AICUP\\test_data\\2079.txt\n",
            "[✅ 檔案找到] AICUP\\test_data\\2080.txt\n",
            "[✅ 檔案找到] AICUP\\test_data\\2081.txt\n",
            "[✅ 檔案找到] AICUP\\test_data\\2082.txt\n",
            "[✅ 檔案找到] AICUP\\test_data\\2083.txt\n",
            "[✅ 檔案找到] AICUP\\test_data\\2084.txt\n",
            "[✅ 檔案找到] AICUP\\test_data\\2085.txt\n",
            "[✅ 檔案找到] AICUP\\test_data\\2086.txt\n",
            "[✅ 檔案找到] AICUP\\test_data\\2087.txt\n",
            "[✅ 檔案找到] AICUP\\test_data\\2088.txt\n"
          ]
        },
        {
          "name": "stderr",
          "output_type": "stream",
          "text": [
            "📂 處理測試檔案:   9%|▉         | 127/1430 [00:02<00:26, 48.59it/s]"
          ]
        },
        {
          "name": "stdout",
          "output_type": "stream",
          "text": [
            "[✅ 檔案找到] AICUP\\test_data\\2089.txt\n",
            "[✅ 檔案找到] AICUP\\test_data\\2090.txt\n",
            "[✅ 檔案找到] AICUP\\test_data\\2091.txt\n",
            "[✅ 檔案找到] AICUP\\test_data\\2092.txt\n",
            "[✅ 檔案找到] AICUP\\test_data\\2093.txt\n",
            "[✅ 檔案找到] AICUP\\test_data\\2094.txt\n",
            "[✅ 檔案找到] AICUP\\test_data\\2095.txt\n",
            "[✅ 檔案找到] AICUP\\test_data\\2096.txt\n",
            "[✅ 檔案找到] AICUP\\test_data\\2097.txt\n"
          ]
        },
        {
          "name": "stderr",
          "output_type": "stream",
          "text": [
            "📂 處理測試檔案:  10%|▉         | 137/1430 [00:03<00:27, 46.39it/s]"
          ]
        },
        {
          "name": "stdout",
          "output_type": "stream",
          "text": [
            "[✅ 檔案找到] AICUP\\test_data\\2098.txt\n",
            "[✅ 檔案找到] AICUP\\test_data\\2099.txt\n",
            "[✅ 檔案找到] AICUP\\test_data\\2100.txt\n",
            "[✅ 檔案找到] AICUP\\test_data\\2101.txt\n",
            "[✅ 檔案找到] AICUP\\test_data\\2102.txt\n",
            "[✅ 檔案找到] AICUP\\test_data\\2103.txt\n",
            "[✅ 檔案找到] AICUP\\test_data\\2104.txt\n",
            "[✅ 檔案找到] AICUP\\test_data\\2105.txt\n",
            "[✅ 檔案找到] AICUP\\test_data\\2106.txt\n",
            "[✅ 檔案找到] AICUP\\test_data\\2107.txt\n"
          ]
        },
        {
          "name": "stderr",
          "output_type": "stream",
          "text": [
            "📂 處理測試檔案:  10%|█         | 149/1430 [00:03<00:25, 50.97it/s]"
          ]
        },
        {
          "name": "stdout",
          "output_type": "stream",
          "text": [
            "[✅ 檔案找到] AICUP\\test_data\\2108.txt\n",
            "[✅ 檔案找到] AICUP\\test_data\\2109.txt\n",
            "[✅ 檔案找到] AICUP\\test_data\\2110.txt\n",
            "[✅ 檔案找到] AICUP\\test_data\\2111.txt\n",
            "[✅ 檔案找到] AICUP\\test_data\\2112.txt\n",
            "[✅ 檔案找到] AICUP\\test_data\\2113.txt\n",
            "[✅ 檔案找到] AICUP\\test_data\\2114.txt\n",
            "[✅ 檔案找到] AICUP\\test_data\\2115.txt\n",
            "[✅ 檔案找到] AICUP\\test_data\\2116.txt\n",
            "[✅ 檔案找到] AICUP\\test_data\\2117.txt\n",
            "[✅ 檔案找到] AICUP\\test_data\\2118.txt\n",
            "[✅ 檔案找到] AICUP\\test_data\\2119.txt\n"
          ]
        },
        {
          "name": "stderr",
          "output_type": "stream",
          "text": [
            "📂 處理測試檔案:  11%|█         | 155/1430 [00:03<00:25, 50.47it/s]"
          ]
        },
        {
          "name": "stdout",
          "output_type": "stream",
          "text": [
            "[✅ 檔案找到] AICUP\\test_data\\2120.txt\n",
            "[✅ 檔案找到] AICUP\\test_data\\2121.txt\n",
            "[✅ 檔案找到] AICUP\\test_data\\2122.txt\n",
            "[✅ 檔案找到] AICUP\\test_data\\2123.txt\n",
            "[✅ 檔案找到] AICUP\\test_data\\2124.txt\n",
            "[✅ 檔案找到] AICUP\\test_data\\2125.txt\n",
            "[✅ 檔案找到] AICUP\\test_data\\2126.txt\n",
            "[✅ 檔案找到] AICUP\\test_data\\2127.txt\n"
          ]
        },
        {
          "name": "stderr",
          "output_type": "stream",
          "text": [
            "📂 處理測試檔案:  12%|█▏        | 167/1430 [00:03<00:27, 46.04it/s]"
          ]
        },
        {
          "name": "stdout",
          "output_type": "stream",
          "text": [
            "[✅ 檔案找到] AICUP\\test_data\\2128.txt\n",
            "[✅ 檔案找到] AICUP\\test_data\\2129.txt\n",
            "[✅ 檔案找到] AICUP\\test_data\\2130.txt\n",
            "[✅ 檔案找到] AICUP\\test_data\\2131.txt\n",
            "[✅ 檔案找到] AICUP\\test_data\\2132.txt\n",
            "[✅ 檔案找到] AICUP\\test_data\\2133.txt\n",
            "[✅ 檔案找到] AICUP\\test_data\\2134.txt\n",
            "[✅ 檔案找到] AICUP\\test_data\\2135.txt\n",
            "[✅ 檔案找到] AICUP\\test_data\\2136.txt\n",
            "[✅ 檔案找到] AICUP\\test_data\\2137.txt\n",
            "[✅ 檔案找到] AICUP\\test_data\\2138.txt\n"
          ]
        },
        {
          "name": "stderr",
          "output_type": "stream",
          "text": [
            "📂 處理測試檔案:  12%|█▏        | 178/1430 [00:03<00:26, 47.62it/s]"
          ]
        },
        {
          "name": "stdout",
          "output_type": "stream",
          "text": [
            "[✅ 檔案找到] AICUP\\test_data\\2139.txt\n",
            "[✅ 檔案找到] AICUP\\test_data\\2140.txt\n",
            "[✅ 檔案找到] AICUP\\test_data\\2141.txt\n",
            "[✅ 檔案找到] AICUP\\test_data\\2142.txt\n",
            "[✅ 檔案找到] AICUP\\test_data\\2143.txt\n",
            "[✅ 檔案找到] AICUP\\test_data\\2144.txt\n",
            "[✅ 檔案找到] AICUP\\test_data\\2145.txt\n",
            "[✅ 檔案找到] AICUP\\test_data\\2146.txt\n",
            "[✅ 檔案找到] AICUP\\test_data\\2147.txt\n",
            "[✅ 檔案找到] AICUP\\test_data\\2148.txt\n"
          ]
        },
        {
          "name": "stderr",
          "output_type": "stream",
          "text": [
            "📂 處理測試檔案:  13%|█▎        | 189/1430 [00:04<00:25, 47.97it/s]"
          ]
        },
        {
          "name": "stdout",
          "output_type": "stream",
          "text": [
            "[✅ 檔案找到] AICUP\\test_data\\2149.txt\n",
            "[✅ 檔案找到] AICUP\\test_data\\2150.txt\n",
            "[✅ 檔案找到] AICUP\\test_data\\2151.txt\n",
            "[✅ 檔案找到] AICUP\\test_data\\2152.txt\n",
            "[✅ 檔案找到] AICUP\\test_data\\2153.txt\n",
            "[✅ 檔案找到] AICUP\\test_data\\2154.txt\n",
            "[✅ 檔案找到] AICUP\\test_data\\2155.txt\n",
            "[✅ 檔案找到] AICUP\\test_data\\2156.txt\n",
            "[✅ 檔案找到] AICUP\\test_data\\2157.txt\n",
            "[✅ 檔案找到] AICUP\\test_data\\2158.txt\n",
            "[✅ 檔案找到] AICUP\\test_data\\2159.txt\n"
          ]
        },
        {
          "name": "stderr",
          "output_type": "stream",
          "text": [
            "📂 處理測試檔案:  14%|█▍        | 200/1430 [00:04<00:25, 48.42it/s]"
          ]
        },
        {
          "name": "stdout",
          "output_type": "stream",
          "text": [
            "[✅ 檔案找到] AICUP\\test_data\\2160.txt\n",
            "[✅ 檔案找到] AICUP\\test_data\\2161.txt\n",
            "[✅ 檔案找到] AICUP\\test_data\\2162.txt\n",
            "[✅ 檔案找到] AICUP\\test_data\\2163.txt\n",
            "[✅ 檔案找到] AICUP\\test_data\\2164.txt\n",
            "[✅ 檔案找到] AICUP\\test_data\\2165.txt\n",
            "[✅ 檔案找到] AICUP\\test_data\\2166.txt\n",
            "[✅ 檔案找到] AICUP\\test_data\\2167.txt\n",
            "[✅ 檔案找到] AICUP\\test_data\\2168.txt\n",
            "[✅ 檔案找到] AICUP\\test_data\\2169.txt\n",
            "[✅ 檔案找到] AICUP\\test_data\\2170.txt\n"
          ]
        },
        {
          "name": "stderr",
          "output_type": "stream",
          "text": [
            "📂 處理測試檔案:  15%|█▍        | 212/1430 [00:04<00:23, 51.35it/s]"
          ]
        },
        {
          "name": "stdout",
          "output_type": "stream",
          "text": [
            "[✅ 檔案找到] AICUP\\test_data\\2171.txt\n",
            "[✅ 檔案找到] AICUP\\test_data\\2172.txt\n",
            "[✅ 檔案找到] AICUP\\test_data\\2173.txt\n",
            "[✅ 檔案找到] AICUP\\test_data\\2175.txt\n",
            "[✅ 檔案找到] AICUP\\test_data\\2176.txt\n",
            "[✅ 檔案找到] AICUP\\test_data\\2177.txt\n",
            "[✅ 檔案找到] AICUP\\test_data\\2178.txt\n",
            "[✅ 檔案找到] AICUP\\test_data\\2179.txt\n",
            "[✅ 檔案找到] AICUP\\test_data\\2180.txt\n",
            "[✅ 檔案找到] AICUP\\test_data\\2181.txt\n",
            "[✅ 檔案找到] AICUP\\test_data\\2183.txt\n",
            "[✅ 檔案找到] AICUP\\test_data\\2184.txt\n"
          ]
        },
        {
          "name": "stderr",
          "output_type": "stream",
          "text": [
            "📂 處理測試檔案:  16%|█▌        | 224/1430 [00:04<00:22, 53.03it/s]"
          ]
        },
        {
          "name": "stdout",
          "output_type": "stream",
          "text": [
            "[✅ 檔案找到] AICUP\\test_data\\2185.txt\n",
            "[✅ 檔案找到] AICUP\\test_data\\2186.txt\n",
            "[✅ 檔案找到] AICUP\\test_data\\2187.txt\n",
            "[✅ 檔案找到] AICUP\\test_data\\2188.txt\n",
            "[✅ 檔案找到] AICUP\\test_data\\2189.txt\n",
            "[✅ 檔案找到] AICUP\\test_data\\2190.txt\n",
            "[✅ 檔案找到] AICUP\\test_data\\2191.txt\n",
            "[✅ 檔案找到] AICUP\\test_data\\2192.txt\n",
            "[✅ 檔案找到] AICUP\\test_data\\2193.txt\n",
            "[✅ 檔案找到] AICUP\\test_data\\2194.txt\n"
          ]
        },
        {
          "name": "stderr",
          "output_type": "stream",
          "text": [
            "📂 處理測試檔案:  16%|█▌        | 230/1430 [00:04<00:23, 50.04it/s]"
          ]
        },
        {
          "name": "stdout",
          "output_type": "stream",
          "text": [
            "[✅ 檔案找到] AICUP\\test_data\\2195.txt\n",
            "[✅ 檔案找到] AICUP\\test_data\\2196.txt\n",
            "[✅ 檔案找到] AICUP\\test_data\\2197.txt\n",
            "[✅ 檔案找到] AICUP\\test_data\\2198.txt\n",
            "[✅ 檔案找到] AICUP\\test_data\\2199.txt\n",
            "[✅ 檔案找到] AICUP\\test_data\\2200.txt\n",
            "[✅ 檔案找到] AICUP\\test_data\\2201.txt\n",
            "[✅ 檔案找到] AICUP\\test_data\\2202.txt\n",
            "[✅ 檔案找到] AICUP\\test_data\\2203.txt\n",
            "[✅ 檔案找到] AICUP\\test_data\\2204.txt\n"
          ]
        },
        {
          "name": "stderr",
          "output_type": "stream",
          "text": [
            "📂 處理測試檔案:  17%|█▋        | 242/1430 [00:05<00:24, 49.04it/s]"
          ]
        },
        {
          "name": "stdout",
          "output_type": "stream",
          "text": [
            "[✅ 檔案找到] AICUP\\test_data\\2205.txt\n",
            "[✅ 檔案找到] AICUP\\test_data\\2206.txt\n",
            "[✅ 檔案找到] AICUP\\test_data\\2207.txt\n",
            "[✅ 檔案找到] AICUP\\test_data\\2208.txt\n",
            "[✅ 檔案找到] AICUP\\test_data\\2209.txt\n",
            "[✅ 檔案找到] AICUP\\test_data\\2210.txt\n",
            "[✅ 檔案找到] AICUP\\test_data\\2211.txt\n",
            "[✅ 檔案找到] AICUP\\test_data\\2212.txt\n",
            "[✅ 檔案找到] AICUP\\test_data\\2213.txt\n",
            "[✅ 檔案找到] AICUP\\test_data\\2214.txt\n"
          ]
        },
        {
          "name": "stderr",
          "output_type": "stream",
          "text": [
            "📂 處理測試檔案:  18%|█▊        | 254/1430 [00:05<00:23, 49.75it/s]"
          ]
        },
        {
          "name": "stdout",
          "output_type": "stream",
          "text": [
            "[✅ 檔案找到] AICUP\\test_data\\2215.txt\n",
            "[✅ 檔案找到] AICUP\\test_data\\2216.txt\n",
            "[✅ 檔案找到] AICUP\\test_data\\2217.txt\n",
            "[✅ 檔案找到] AICUP\\test_data\\2218.txt\n",
            "[✅ 檔案找到] AICUP\\test_data\\2219.txt\n",
            "[✅ 檔案找到] AICUP\\test_data\\2220.txt\n",
            "[✅ 檔案找到] AICUP\\test_data\\2221.txt\n",
            "[✅ 檔案找到] AICUP\\test_data\\2222.txt\n",
            "[✅ 檔案找到] AICUP\\test_data\\2223.txt\n",
            "[✅ 檔案找到] AICUP\\test_data\\2224.txt\n"
          ]
        },
        {
          "name": "stderr",
          "output_type": "stream",
          "text": [
            "📂 處理測試檔案:  18%|█▊        | 259/1430 [00:05<00:25, 45.35it/s]"
          ]
        },
        {
          "name": "stdout",
          "output_type": "stream",
          "text": [
            "[✅ 檔案找到] AICUP\\test_data\\2225.txt\n",
            "[✅ 檔案找到] AICUP\\test_data\\2226.txt\n",
            "[✅ 檔案找到] AICUP\\test_data\\2227.txt\n",
            "[✅ 檔案找到] AICUP\\test_data\\2228.txt\n",
            "[✅ 檔案找到] AICUP\\test_data\\2229.txt\n",
            "[✅ 檔案找到] AICUP\\test_data\\2230.txt\n",
            "[✅ 檔案找到] AICUP\\test_data\\2231.txt\n",
            "[✅ 檔案找到] AICUP\\test_data\\2232.txt\n",
            "[✅ 檔案找到] AICUP\\test_data\\2233.txt\n"
          ]
        },
        {
          "name": "stderr",
          "output_type": "stream",
          "text": [
            "📂 處理測試檔案:  19%|█▉        | 270/1430 [00:05<00:23, 48.60it/s]"
          ]
        },
        {
          "name": "stdout",
          "output_type": "stream",
          "text": [
            "[✅ 檔案找到] AICUP\\test_data\\2234.txt\n",
            "[✅ 檔案找到] AICUP\\test_data\\2235.txt\n",
            "[✅ 檔案找到] AICUP\\test_data\\2236.txt\n",
            "[✅ 檔案找到] AICUP\\test_data\\2237.txt\n",
            "[✅ 檔案找到] AICUP\\test_data\\2238.txt\n",
            "[✅ 檔案找到] AICUP\\test_data\\2239.txt\n",
            "[✅ 檔案找到] AICUP\\test_data\\2240.txt\n",
            "[✅ 檔案找到] AICUP\\test_data\\2241.txt\n",
            "[✅ 檔案找到] AICUP\\test_data\\2243.txt\n",
            "[✅ 檔案找到] AICUP\\test_data\\2244.txt\n",
            "[✅ 檔案找到] AICUP\\test_data\\2245.txt\n",
            "[✅ 檔案找到] AICUP\\test_data\\2246.txt\n"
          ]
        },
        {
          "name": "stderr",
          "output_type": "stream",
          "text": [
            "📂 處理測試檔案:  20%|█▉        | 282/1430 [00:06<00:23, 49.11it/s]"
          ]
        },
        {
          "name": "stdout",
          "output_type": "stream",
          "text": [
            "[✅ 檔案找到] AICUP\\test_data\\2247.txt\n",
            "[✅ 檔案找到] AICUP\\test_data\\2248.txt\n",
            "[✅ 檔案找到] AICUP\\test_data\\2249.txt\n",
            "[✅ 檔案找到] AICUP\\test_data\\2250.txt\n",
            "[✅ 檔案找到] AICUP\\test_data\\2251.txt\n",
            "[✅ 檔案找到] AICUP\\test_data\\2252.txt\n",
            "[✅ 檔案找到] AICUP\\test_data\\2253.txt\n",
            "[✅ 檔案找到] AICUP\\test_data\\2254.txt\n",
            "[✅ 檔案找到] AICUP\\test_data\\2255.txt\n",
            "[✅ 檔案找到] AICUP\\test_data\\2256.txt\n"
          ]
        },
        {
          "name": "stderr",
          "output_type": "stream",
          "text": [
            "📂 處理測試檔案:  21%|██        | 294/1430 [00:06<00:22, 50.87it/s]"
          ]
        },
        {
          "name": "stdout",
          "output_type": "stream",
          "text": [
            "[✅ 檔案找到] AICUP\\test_data\\2257.txt\n",
            "[✅ 檔案找到] AICUP\\test_data\\2258.txt\n",
            "[✅ 檔案找到] AICUP\\test_data\\2259.txt\n",
            "[✅ 檔案找到] AICUP\\test_data\\2260.txt\n",
            "[✅ 檔案找到] AICUP\\test_data\\2261.txt\n",
            "[✅ 檔案找到] AICUP\\test_data\\2262.txt\n",
            "[✅ 檔案找到] AICUP\\test_data\\2263.txt\n",
            "[✅ 檔案找到] AICUP\\test_data\\2264.txt\n",
            "[✅ 檔案找到] AICUP\\test_data\\2265.txt\n",
            "[✅ 檔案找到] AICUP\\test_data\\2266.txt\n",
            "[✅ 檔案找到] AICUP\\test_data\\2267.txt\n"
          ]
        },
        {
          "name": "stderr",
          "output_type": "stream",
          "text": [
            "📂 處理測試檔案:  21%|██▏       | 306/1430 [00:06<00:23, 46.87it/s]"
          ]
        },
        {
          "name": "stdout",
          "output_type": "stream",
          "text": [
            "[✅ 檔案找到] AICUP\\test_data\\2268.txt\n",
            "[✅ 檔案找到] AICUP\\test_data\\2269.txt\n",
            "[✅ 檔案找到] AICUP\\test_data\\2270.txt\n",
            "[✅ 檔案找到] AICUP\\test_data\\2271.txt\n",
            "[✅ 檔案找到] AICUP\\test_data\\2272.txt\n",
            "[✅ 檔案找到] AICUP\\test_data\\2273.txt\n",
            "[✅ 檔案找到] AICUP\\test_data\\2274.txt\n",
            "[✅ 檔案找到] AICUP\\test_data\\2275.txt\n",
            "[✅ 檔案找到] AICUP\\test_data\\2276.txt\n"
          ]
        },
        {
          "name": "stderr",
          "output_type": "stream",
          "text": [
            "📂 處理測試檔案:  22%|██▏       | 311/1430 [00:06<00:25, 43.63it/s]"
          ]
        },
        {
          "name": "stdout",
          "output_type": "stream",
          "text": [
            "[✅ 檔案找到] AICUP\\test_data\\2277.txt\n",
            "[✅ 檔案找到] AICUP\\test_data\\2278.txt\n",
            "[✅ 檔案找到] AICUP\\test_data\\2279.txt\n",
            "[✅ 檔案找到] AICUP\\test_data\\2280.txt\n",
            "[✅ 檔案找到] AICUP\\test_data\\2281.txt\n",
            "[✅ 檔案找到] AICUP\\test_data\\2282.txt\n",
            "[✅ 檔案找到] AICUP\\test_data\\2283.txt\n",
            "[✅ 檔案找到] AICUP\\test_data\\2284.txt\n",
            "[✅ 檔案找到] AICUP\\test_data\\2285.txt\n",
            "[✅ 檔案找到] AICUP\\test_data\\2286.txt\n"
          ]
        },
        {
          "name": "stderr",
          "output_type": "stream",
          "text": [
            "📂 處理測試檔案:  23%|██▎       | 323/1430 [00:06<00:23, 46.49it/s]"
          ]
        },
        {
          "name": "stdout",
          "output_type": "stream",
          "text": [
            "[✅ 檔案找到] AICUP\\test_data\\2287.txt\n",
            "[✅ 檔案找到] AICUP\\test_data\\2288.txt\n",
            "[✅ 檔案找到] AICUP\\test_data\\2289.txt\n",
            "[✅ 檔案找到] AICUP\\test_data\\2290.txt\n",
            "[✅ 檔案找到] AICUP\\test_data\\2291.txt\n",
            "[✅ 檔案找到] AICUP\\test_data\\2292.txt\n",
            "[✅ 檔案找到] AICUP\\test_data\\2293.txt\n",
            "[✅ 檔案找到] AICUP\\test_data\\2294.txt\n",
            "[✅ 檔案找到] AICUP\\test_data\\2295.txt\n",
            "[✅ 檔案找到] AICUP\\test_data\\2296.txt\n",
            "[✅ 檔案找到] AICUP\\test_data\\2297.txt\n"
          ]
        },
        {
          "name": "stderr",
          "output_type": "stream",
          "text": [
            "📂 處理測試檔案:  23%|██▎       | 334/1430 [00:07<00:22, 48.83it/s]"
          ]
        },
        {
          "name": "stdout",
          "output_type": "stream",
          "text": [
            "[✅ 檔案找到] AICUP\\test_data\\2298.txt\n",
            "[✅ 檔案找到] AICUP\\test_data\\2299.txt\n",
            "[✅ 檔案找到] AICUP\\test_data\\2300.txt\n",
            "[✅ 檔案找到] AICUP\\test_data\\2301.txt\n",
            "[✅ 檔案找到] AICUP\\test_data\\2302.txt\n",
            "[✅ 檔案找到] AICUP\\test_data\\2303.txt\n",
            "[✅ 檔案找到] AICUP\\test_data\\2304.txt\n",
            "[✅ 檔案找到] AICUP\\test_data\\2305.txt\n",
            "[✅ 檔案找到] AICUP\\test_data\\2307.txt\n",
            "[✅ 檔案找到] AICUP\\test_data\\2308.txt\n",
            "[✅ 檔案找到] AICUP\\test_data\\2309.txt\n"
          ]
        },
        {
          "name": "stderr",
          "output_type": "stream",
          "text": [
            "📂 處理測試檔案:  24%|██▍       | 344/1430 [00:07<00:23, 46.95it/s]"
          ]
        },
        {
          "name": "stdout",
          "output_type": "stream",
          "text": [
            "[✅ 檔案找到] AICUP\\test_data\\2310.txt\n",
            "[✅ 檔案找到] AICUP\\test_data\\2311.txt\n",
            "[✅ 檔案找到] AICUP\\test_data\\2312.txt\n",
            "[✅ 檔案找到] AICUP\\test_data\\2313.txt\n",
            "[✅ 檔案找到] AICUP\\test_data\\2314.txt\n",
            "[✅ 檔案找到] AICUP\\test_data\\2315.txt\n",
            "[✅ 檔案找到] AICUP\\test_data\\2316.txt\n",
            "[✅ 檔案找到] AICUP\\test_data\\2317.txt\n",
            "[✅ 檔案找到] AICUP\\test_data\\2318.txt\n",
            "[✅ 檔案找到] AICUP\\test_data\\2319.txt\n"
          ]
        },
        {
          "name": "stderr",
          "output_type": "stream",
          "text": [
            "📂 處理測試檔案:  24%|██▍       | 349/1430 [00:07<00:26, 41.24it/s]"
          ]
        },
        {
          "name": "stdout",
          "output_type": "stream",
          "text": [
            "[✅ 檔案找到] AICUP\\test_data\\2320.txt\n",
            "[✅ 檔案找到] AICUP\\test_data\\2321.txt\n",
            "[✅ 檔案找到] AICUP\\test_data\\2322.txt\n",
            "[✅ 檔案找到] AICUP\\test_data\\2323.txt\n",
            "[✅ 檔案找到] AICUP\\test_data\\2324.txt\n",
            "[✅ 檔案找到] AICUP\\test_data\\2325.txt\n",
            "[✅ 檔案找到] AICUP\\test_data\\2326.txt\n"
          ]
        },
        {
          "name": "stderr",
          "output_type": "stream",
          "text": [
            "📂 處理測試檔案:  25%|██▌       | 360/1430 [00:07<00:24, 44.58it/s]"
          ]
        },
        {
          "name": "stdout",
          "output_type": "stream",
          "text": [
            "[✅ 檔案找到] AICUP\\test_data\\2327.txt\n",
            "[✅ 檔案找到] AICUP\\test_data\\2328.txt\n",
            "[✅ 檔案找到] AICUP\\test_data\\2329.txt\n",
            "[✅ 檔案找到] AICUP\\test_data\\2330.txt\n",
            "[✅ 檔案找到] AICUP\\test_data\\2331.txt\n",
            "[✅ 檔案找到] AICUP\\test_data\\2332.txt\n",
            "[✅ 檔案找到] AICUP\\test_data\\2333.txt\n",
            "[✅ 檔案找到] AICUP\\test_data\\2334.txt\n",
            "[✅ 檔案找到] AICUP\\test_data\\2335.txt\n",
            "[✅ 檔案找到] AICUP\\test_data\\2336.txt\n"
          ]
        },
        {
          "name": "stderr",
          "output_type": "stream",
          "text": [
            "📂 處理測試檔案:  26%|██▌       | 370/1430 [00:07<00:23, 45.67it/s]"
          ]
        },
        {
          "name": "stdout",
          "output_type": "stream",
          "text": [
            "[✅ 檔案找到] AICUP\\test_data\\2337.txt\n",
            "[✅ 檔案找到] AICUP\\test_data\\2338.txt\n",
            "[✅ 檔案找到] AICUP\\test_data\\2339.txt\n",
            "[✅ 檔案找到] AICUP\\test_data\\2340.txt\n",
            "[✅ 檔案找到] AICUP\\test_data\\2341.txt\n",
            "[✅ 檔案找到] AICUP\\test_data\\2342.txt\n",
            "[✅ 檔案找到] AICUP\\test_data\\2343.txt\n",
            "[✅ 檔案找到] AICUP\\test_data\\2344.txt\n",
            "[✅ 檔案找到] AICUP\\test_data\\2345.txt\n",
            "[✅ 檔案找到] AICUP\\test_data\\2346.txt\n"
          ]
        },
        {
          "name": "stderr",
          "output_type": "stream",
          "text": [
            "📂 處理測試檔案:  27%|██▋       | 381/1430 [00:08<00:22, 47.19it/s]"
          ]
        },
        {
          "name": "stdout",
          "output_type": "stream",
          "text": [
            "[✅ 檔案找到] AICUP\\test_data\\2347.txt\n",
            "[✅ 檔案找到] AICUP\\test_data\\2348.txt\n",
            "[✅ 檔案找到] AICUP\\test_data\\2349.txt\n",
            "[✅ 檔案找到] AICUP\\test_data\\2350.txt\n",
            "[✅ 檔案找到] AICUP\\test_data\\2351.txt\n",
            "[✅ 檔案找到] AICUP\\test_data\\2352.txt\n",
            "[✅ 檔案找到] AICUP\\test_data\\2353.txt\n",
            "[✅ 檔案找到] AICUP\\test_data\\2354.txt\n",
            "[✅ 檔案找到] AICUP\\test_data\\2355.txt\n",
            "[✅ 檔案找到] AICUP\\test_data\\2356.txt\n",
            "[✅ 檔案找到] AICUP\\test_data\\2357.txt\n"
          ]
        },
        {
          "name": "stderr",
          "output_type": "stream",
          "text": [
            "📂 處理測試檔案:  27%|██▋       | 393/1430 [00:08<00:20, 50.66it/s]"
          ]
        },
        {
          "name": "stdout",
          "output_type": "stream",
          "text": [
            "[✅ 檔案找到] AICUP\\test_data\\2358.txt\n",
            "[✅ 檔案找到] AICUP\\test_data\\2359.txt\n",
            "[✅ 檔案找到] AICUP\\test_data\\2360.txt\n",
            "[✅ 檔案找到] AICUP\\test_data\\2361.txt\n",
            "[✅ 檔案找到] AICUP\\test_data\\2362.txt\n",
            "[✅ 檔案找到] AICUP\\test_data\\2363.txt\n",
            "[✅ 檔案找到] AICUP\\test_data\\2364.txt\n",
            "[✅ 檔案找到] AICUP\\test_data\\2365.txt\n",
            "[✅ 檔案找到] AICUP\\test_data\\2366.txt\n",
            "[✅ 檔案找到] AICUP\\test_data\\2367.txt\n",
            "[✅ 檔案找到] AICUP\\test_data\\2368.txt\n"
          ]
        },
        {
          "name": "stderr",
          "output_type": "stream",
          "text": [
            "📂 處理測試檔案:  28%|██▊       | 405/1430 [00:08<00:19, 51.64it/s]"
          ]
        },
        {
          "name": "stdout",
          "output_type": "stream",
          "text": [
            "[✅ 檔案找到] AICUP\\test_data\\2369.txt\n",
            "[✅ 檔案找到] AICUP\\test_data\\2370.txt\n",
            "[✅ 檔案找到] AICUP\\test_data\\2371.txt\n",
            "[✅ 檔案找到] AICUP\\test_data\\2372.txt\n",
            "[✅ 檔案找到] AICUP\\test_data\\2373.txt\n",
            "[✅ 檔案找到] AICUP\\test_data\\2374.txt\n",
            "[✅ 檔案找到] AICUP\\test_data\\2375.txt\n",
            "[✅ 檔案找到] AICUP\\test_data\\2376.txt\n",
            "[✅ 檔案找到] AICUP\\test_data\\2377.txt\n",
            "[✅ 檔案找到] AICUP\\test_data\\2378.txt\n",
            "[✅ 檔案找到] AICUP\\test_data\\2379.txt\n"
          ]
        },
        {
          "name": "stderr",
          "output_type": "stream",
          "text": [
            "📂 處理測試檔案:  29%|██▉       | 417/1430 [00:08<00:20, 49.66it/s]"
          ]
        },
        {
          "name": "stdout",
          "output_type": "stream",
          "text": [
            "[✅ 檔案找到] AICUP\\test_data\\2380.txt\n",
            "[✅ 檔案找到] AICUP\\test_data\\2381.txt\n",
            "[✅ 檔案找到] AICUP\\test_data\\2382.txt\n",
            "[✅ 檔案找到] AICUP\\test_data\\2383.txt\n",
            "[✅ 檔案找到] AICUP\\test_data\\2384.txt\n",
            "[✅ 檔案找到] AICUP\\test_data\\2385.txt\n",
            "[✅ 檔案找到] AICUP\\test_data\\2386.txt\n",
            "[✅ 檔案找到] AICUP\\test_data\\2387.txt\n",
            "[✅ 檔案找到] AICUP\\test_data\\2388.txt\n"
          ]
        },
        {
          "name": "stderr",
          "output_type": "stream",
          "text": [
            "📂 處理測試檔案:  30%|██▉       | 423/1430 [00:09<00:21, 47.48it/s]"
          ]
        },
        {
          "name": "stdout",
          "output_type": "stream",
          "text": [
            "[✅ 檔案找到] AICUP\\test_data\\2389.txt\n",
            "[✅ 檔案找到] AICUP\\test_data\\2390.txt\n",
            "[✅ 檔案找到] AICUP\\test_data\\2391.txt\n",
            "[✅ 檔案找到] AICUP\\test_data\\2392.txt\n",
            "[✅ 檔案找到] AICUP\\test_data\\2393.txt\n",
            "[✅ 檔案找到] AICUP\\test_data\\2394.txt\n",
            "[✅ 檔案找到] AICUP\\test_data\\2395.txt\n",
            "[✅ 檔案找到] AICUP\\test_data\\2396.txt\n",
            "[✅ 檔案找到] AICUP\\test_data\\2397.txt\n"
          ]
        },
        {
          "name": "stderr",
          "output_type": "stream",
          "text": [
            "📂 處理測試檔案:  30%|██▉       | 428/1430 [00:09<00:21, 45.73it/s]"
          ]
        },
        {
          "name": "stdout",
          "output_type": "stream",
          "text": [
            "[✅ 檔案找到] AICUP\\test_data\\2398.txt\n",
            "[✅ 檔案找到] AICUP\\test_data\\2399.txt\n",
            "[✅ 檔案找到] AICUP\\test_data\\2400.txt\n",
            "[✅ 檔案找到] AICUP\\test_data\\2401.txt\n",
            "[✅ 檔案找到] AICUP\\test_data\\2402.txt\n",
            "[✅ 檔案找到] AICUP\\test_data\\2403.txt\n",
            "[✅ 檔案找到] AICUP\\test_data\\2404.txt\n"
          ]
        },
        {
          "name": "stderr",
          "output_type": "stream",
          "text": [
            "📂 處理測試檔案:  31%|███       | 443/1430 [00:09<00:22, 44.05it/s]"
          ]
        },
        {
          "name": "stdout",
          "output_type": "stream",
          "text": [
            "[✅ 檔案找到] AICUP\\test_data\\2405.txt\n",
            "[✅ 檔案找到] AICUP\\test_data\\2406.txt\n",
            "[✅ 檔案找到] AICUP\\test_data\\2407.txt\n",
            "[✅ 檔案找到] AICUP\\test_data\\2408.txt\n",
            "[✅ 檔案找到] AICUP\\test_data\\2409.txt\n",
            "[✅ 檔案找到] AICUP\\test_data\\2410.txt\n",
            "[✅ 檔案找到] AICUP\\test_data\\2411.txt\n",
            "[✅ 檔案找到] AICUP\\test_data\\2412.txt\n",
            "[✅ 檔案找到] AICUP\\test_data\\2413.txt\n",
            "[✅ 檔案找到] AICUP\\test_data\\2414.txt\n"
          ]
        },
        {
          "name": "stderr",
          "output_type": "stream",
          "text": [
            "📂 處理測試檔案:  31%|███▏      | 448/1430 [00:09<00:25, 38.54it/s]"
          ]
        },
        {
          "name": "stdout",
          "output_type": "stream",
          "text": [
            "[✅ 檔案找到] AICUP\\test_data\\2415.txt\n",
            "[✅ 檔案找到] AICUP\\test_data\\2416.txt\n",
            "[✅ 檔案找到] AICUP\\test_data\\2417.txt\n",
            "[✅ 檔案找到] AICUP\\test_data\\2418.txt\n",
            "[✅ 檔案找到] AICUP\\test_data\\2419.txt\n",
            "[✅ 檔案找到] AICUP\\test_data\\2420.txt\n",
            "[✅ 檔案找到] AICUP\\test_data\\2421.txt\n"
          ]
        },
        {
          "name": "stderr",
          "output_type": "stream",
          "text": [
            "📂 處理測試檔案:  32%|███▏      | 453/1430 [00:09<00:25, 38.93it/s]"
          ]
        },
        {
          "name": "stdout",
          "output_type": "stream",
          "text": [
            "[✅ 檔案找到] AICUP\\test_data\\2422.txt\n",
            "[✅ 檔案找到] AICUP\\test_data\\2423.txt\n",
            "[✅ 檔案找到] AICUP\\test_data\\2424.txt\n",
            "[✅ 檔案找到] AICUP\\test_data\\2425.txt\n",
            "[✅ 檔案找到] AICUP\\test_data\\2426.txt\n",
            "[✅ 檔案找到] AICUP\\test_data\\2427.txt\n",
            "[✅ 檔案找到] AICUP\\test_data\\2429.txt\n",
            "[✅ 檔案找到] AICUP\\test_data\\2430.txt\n",
            "[✅ 檔案找到] AICUP\\test_data\\2431.txt\n"
          ]
        },
        {
          "name": "stderr",
          "output_type": "stream",
          "text": [
            "📂 處理測試檔案:  32%|███▏      | 464/1430 [00:10<00:23, 40.86it/s]"
          ]
        },
        {
          "name": "stdout",
          "output_type": "stream",
          "text": [
            "[✅ 檔案找到] AICUP\\test_data\\2432.txt\n",
            "[✅ 檔案找到] AICUP\\test_data\\2433.txt\n",
            "[✅ 檔案找到] AICUP\\test_data\\2434.txt\n",
            "[✅ 檔案找到] AICUP\\test_data\\2435.txt\n",
            "[✅ 檔案找到] AICUP\\test_data\\2436.txt\n",
            "[✅ 檔案找到] AICUP\\test_data\\2437.txt\n",
            "[✅ 檔案找到] AICUP\\test_data\\2438.txt\n",
            "[✅ 檔案找到] AICUP\\test_data\\2439.txt\n",
            "[✅ 檔案找到] AICUP\\test_data\\2440.txt\n"
          ]
        },
        {
          "name": "stderr",
          "output_type": "stream",
          "text": [
            "📂 處理測試檔案:  33%|███▎      | 474/1430 [00:10<00:22, 42.18it/s]"
          ]
        },
        {
          "name": "stdout",
          "output_type": "stream",
          "text": [
            "[✅ 檔案找到] AICUP\\test_data\\2441.txt\n",
            "[✅ 檔案找到] AICUP\\test_data\\2442.txt\n",
            "[✅ 檔案找到] AICUP\\test_data\\2443.txt\n",
            "[✅ 檔案找到] AICUP\\test_data\\2444.txt\n",
            "[✅ 檔案找到] AICUP\\test_data\\2445.txt\n",
            "[✅ 檔案找到] AICUP\\test_data\\2446.txt\n",
            "[✅ 檔案找到] AICUP\\test_data\\2447.txt\n",
            "[✅ 檔案找到] AICUP\\test_data\\2448.txt\n",
            "[✅ 檔案找到] AICUP\\test_data\\2449.txt\n"
          ]
        },
        {
          "name": "stderr",
          "output_type": "stream",
          "text": [
            "📂 處理測試檔案:  34%|███▎      | 480/1430 [00:10<00:21, 43.40it/s]"
          ]
        },
        {
          "name": "stdout",
          "output_type": "stream",
          "text": [
            "[✅ 檔案找到] AICUP\\test_data\\2450.txt\n",
            "[✅ 檔案找到] AICUP\\test_data\\2451.txt\n",
            "[✅ 檔案找到] AICUP\\test_data\\2452.txt\n",
            "[✅ 檔案找到] AICUP\\test_data\\2453.txt\n",
            "[✅ 檔案找到] AICUP\\test_data\\2454.txt\n",
            "[✅ 檔案找到] AICUP\\test_data\\2455.txt\n",
            "[✅ 檔案找到] AICUP\\test_data\\2456.txt\n",
            "[✅ 檔案找到] AICUP\\test_data\\2457.txt\n"
          ]
        },
        {
          "name": "stderr",
          "output_type": "stream",
          "text": [
            "📂 處理測試檔案:  34%|███▍      | 490/1430 [00:10<00:23, 39.38it/s]"
          ]
        },
        {
          "name": "stdout",
          "output_type": "stream",
          "text": [
            "[✅ 檔案找到] AICUP\\test_data\\2458.txt\n",
            "[✅ 檔案找到] AICUP\\test_data\\2459.txt\n",
            "[✅ 檔案找到] AICUP\\test_data\\2460.txt\n",
            "[✅ 檔案找到] AICUP\\test_data\\2461.txt\n",
            "[✅ 檔案找到] AICUP\\test_data\\2462.txt\n",
            "[✅ 檔案找到] AICUP\\test_data\\2463.txt\n",
            "[✅ 檔案找到] AICUP\\test_data\\2464.txt\n",
            "[✅ 檔案找到] AICUP\\test_data\\2465.txt\n"
          ]
        },
        {
          "name": "stderr",
          "output_type": "stream",
          "text": [
            "📂 處理測試檔案:  35%|███▌      | 501/1430 [00:10<00:22, 41.61it/s]"
          ]
        },
        {
          "name": "stdout",
          "output_type": "stream",
          "text": [
            "[✅ 檔案找到] AICUP\\test_data\\2466.txt\n",
            "[✅ 檔案找到] AICUP\\test_data\\2467.txt\n",
            "[✅ 檔案找到] AICUP\\test_data\\2468.txt\n",
            "[✅ 檔案找到] AICUP\\test_data\\2469.txt\n",
            "[✅ 檔案找到] AICUP\\test_data\\2470.txt\n",
            "[✅ 檔案找到] AICUP\\test_data\\2471.txt\n",
            "[✅ 檔案找到] AICUP\\test_data\\2472.txt\n",
            "[✅ 檔案找到] AICUP\\test_data\\2473.txt\n"
          ]
        },
        {
          "name": "stderr",
          "output_type": "stream",
          "text": [
            "📂 處理測試檔案:  35%|███▌      | 507/1430 [00:11<00:21, 43.61it/s]"
          ]
        },
        {
          "name": "stdout",
          "output_type": "stream",
          "text": [
            "[✅ 檔案找到] AICUP\\test_data\\2474.txt\n",
            "[✅ 檔案找到] AICUP\\test_data\\2475.txt\n",
            "[✅ 檔案找到] AICUP\\test_data\\2476.txt\n",
            "[✅ 檔案找到] AICUP\\test_data\\2477.txt\n",
            "[✅ 檔案找到] AICUP\\test_data\\2478.txt\n",
            "[✅ 檔案找到] AICUP\\test_data\\2479.txt\n",
            "[✅ 檔案找到] AICUP\\test_data\\2480.txt\n",
            "[✅ 檔案找到] AICUP\\test_data\\2481.txt\n",
            "[✅ 檔案找到] AICUP\\test_data\\2482.txt\n",
            "[✅ 檔案找到] AICUP\\test_data\\2483.txt\n"
          ]
        },
        {
          "name": "stderr",
          "output_type": "stream",
          "text": [
            "📂 處理測試檔案:  36%|███▌      | 518/1430 [00:11<00:19, 45.92it/s]"
          ]
        },
        {
          "name": "stdout",
          "output_type": "stream",
          "text": [
            "[✅ 檔案找到] AICUP\\test_data\\2484.txt\n",
            "[✅ 檔案找到] AICUP\\test_data\\2485.txt\n",
            "[✅ 檔案找到] AICUP\\test_data\\2486.txt\n",
            "[✅ 檔案找到] AICUP\\test_data\\2487.txt\n",
            "[✅ 檔案找到] AICUP\\test_data\\2488.txt\n",
            "[✅ 檔案找到] AICUP\\test_data\\2489.txt\n",
            "[✅ 檔案找到] AICUP\\test_data\\2490.txt\n",
            "[✅ 檔案找到] AICUP\\test_data\\2491.txt\n",
            "[✅ 檔案找到] AICUP\\test_data\\2492.txt\n",
            "[✅ 檔案找到] AICUP\\test_data\\2493.txt\n",
            "[✅ 檔案找到] AICUP\\test_data\\2494.txt\n"
          ]
        },
        {
          "name": "stderr",
          "output_type": "stream",
          "text": [
            "📂 處理測試檔案:  37%|███▋      | 530/1430 [00:11<00:18, 48.49it/s]"
          ]
        },
        {
          "name": "stdout",
          "output_type": "stream",
          "text": [
            "[✅ 檔案找到] AICUP\\test_data\\2495.txt\n",
            "[✅ 檔案找到] AICUP\\test_data\\2496.txt\n",
            "[✅ 檔案找到] AICUP\\test_data\\2497.txt\n",
            "[✅ 檔案找到] AICUP\\test_data\\2498.txt\n",
            "[✅ 檔案找到] AICUP\\test_data\\2499.txt\n",
            "[✅ 檔案找到] AICUP\\test_data\\2500.txt\n",
            "[✅ 檔案找到] AICUP\\test_data\\2501.txt\n",
            "[✅ 檔案找到] AICUP\\test_data\\2502.txt\n",
            "[✅ 檔案找到] AICUP\\test_data\\2503.txt\n",
            "[✅ 檔案找到] AICUP\\test_data\\2504.txt\n"
          ]
        },
        {
          "name": "stderr",
          "output_type": "stream",
          "text": [
            "📂 處理測試檔案:  37%|███▋      | 535/1430 [00:11<00:19, 45.55it/s]"
          ]
        },
        {
          "name": "stdout",
          "output_type": "stream",
          "text": [
            "[✅ 檔案找到] AICUP\\test_data\\2505.txt\n",
            "[✅ 檔案找到] AICUP\\test_data\\2506.txt\n",
            "[✅ 檔案找到] AICUP\\test_data\\2507.txt\n",
            "[✅ 檔案找到] AICUP\\test_data\\2508.txt\n",
            "[✅ 檔案找到] AICUP\\test_data\\2509.txt\n",
            "[✅ 檔案找到] AICUP\\test_data\\2510.txt\n",
            "[✅ 檔案找到] AICUP\\test_data\\2511.txt\n",
            "[✅ 檔案找到] AICUP\\test_data\\2512.txt\n"
          ]
        },
        {
          "name": "stderr",
          "output_type": "stream",
          "text": [
            "📂 處理測試檔案:  38%|███▊      | 545/1430 [00:11<00:20, 42.39it/s]"
          ]
        },
        {
          "name": "stdout",
          "output_type": "stream",
          "text": [
            "[✅ 檔案找到] AICUP\\test_data\\2513.txt\n",
            "[✅ 檔案找到] AICUP\\test_data\\2514.txt\n",
            "[✅ 檔案找到] AICUP\\test_data\\2515.txt\n",
            "[✅ 檔案找到] AICUP\\test_data\\2516.txt\n",
            "[✅ 檔案找到] AICUP\\test_data\\2517.txt\n",
            "[✅ 檔案找到] AICUP\\test_data\\2518.txt\n",
            "[✅ 檔案找到] AICUP\\test_data\\2519.txt\n",
            "[✅ 檔案找到] AICUP\\test_data\\2520.txt\n",
            "[✅ 檔案找到] AICUP\\test_data\\2521.txt\n"
          ]
        },
        {
          "name": "stderr",
          "output_type": "stream",
          "text": [
            "📂 處理測試檔案:  39%|███▉      | 556/1430 [00:12<00:19, 44.99it/s]"
          ]
        },
        {
          "name": "stdout",
          "output_type": "stream",
          "text": [
            "[✅ 檔案找到] AICUP\\test_data\\2522.txt\n",
            "[✅ 檔案找到] AICUP\\test_data\\2523.txt\n",
            "[✅ 檔案找到] AICUP\\test_data\\2524.txt\n",
            "[✅ 檔案找到] AICUP\\test_data\\2525.txt\n",
            "[✅ 檔案找到] AICUP\\test_data\\2526.txt\n",
            "[✅ 檔案找到] AICUP\\test_data\\2527.txt\n",
            "[✅ 檔案找到] AICUP\\test_data\\2528.txt\n",
            "[✅ 檔案找到] AICUP\\test_data\\2529.txt\n",
            "[✅ 檔案找到] AICUP\\test_data\\2530.txt\n"
          ]
        },
        {
          "name": "stderr",
          "output_type": "stream",
          "text": [
            "📂 處理測試檔案:  40%|███▉      | 566/1430 [00:12<00:18, 45.61it/s]"
          ]
        },
        {
          "name": "stdout",
          "output_type": "stream",
          "text": [
            "[✅ 檔案找到] AICUP\\test_data\\2531.txt\n",
            "[✅ 檔案找到] AICUP\\test_data\\2532.txt\n",
            "[✅ 檔案找到] AICUP\\test_data\\2533.txt\n",
            "[✅ 檔案找到] AICUP\\test_data\\2534.txt\n",
            "[✅ 檔案找到] AICUP\\test_data\\2535.txt\n",
            "[✅ 檔案找到] AICUP\\test_data\\2536.txt\n",
            "[✅ 檔案找到] AICUP\\test_data\\2537.txt\n",
            "[✅ 檔案找到] AICUP\\test_data\\2538.txt\n",
            "[✅ 檔案找到] AICUP\\test_data\\2539.txt\n"
          ]
        },
        {
          "name": "stderr",
          "output_type": "stream",
          "text": [
            "📂 處理測試檔案:  40%|███▉      | 571/1430 [00:12<00:19, 44.84it/s]"
          ]
        },
        {
          "name": "stdout",
          "output_type": "stream",
          "text": [
            "[✅ 檔案找到] AICUP\\test_data\\2540.txt\n",
            "[✅ 檔案找到] AICUP\\test_data\\2541.txt\n",
            "[✅ 檔案找到] AICUP\\test_data\\2542.txt\n",
            "[✅ 檔案找到] AICUP\\test_data\\2543.txt\n",
            "[✅ 檔案找到] AICUP\\test_data\\2544.txt\n",
            "[✅ 檔案找到] AICUP\\test_data\\2545.txt\n",
            "[✅ 檔案找到] AICUP\\test_data\\2546.txt\n",
            "[✅ 檔案找到] AICUP\\test_data\\2547.txt\n",
            "[✅ 檔案找到] AICUP\\test_data\\2548.txt\n"
          ]
        },
        {
          "name": "stderr",
          "output_type": "stream",
          "text": [
            "📂 處理測試檔案:  41%|████      | 582/1430 [00:12<00:18, 45.75it/s]"
          ]
        },
        {
          "name": "stdout",
          "output_type": "stream",
          "text": [
            "[✅ 檔案找到] AICUP\\test_data\\2549.txt\n",
            "[✅ 檔案找到] AICUP\\test_data\\2550.txt\n",
            "[✅ 檔案找到] AICUP\\test_data\\2551.txt\n",
            "[✅ 檔案找到] AICUP\\test_data\\2552.txt\n",
            "[✅ 檔案找到] AICUP\\test_data\\2553.txt\n",
            "[✅ 檔案找到] AICUP\\test_data\\2554.txt\n",
            "[✅ 檔案找到] AICUP\\test_data\\2555.txt\n",
            "[✅ 檔案找到] AICUP\\test_data\\2556.txt\n",
            "[✅ 檔案找到] AICUP\\test_data\\2557.txt\n"
          ]
        },
        {
          "name": "stderr",
          "output_type": "stream",
          "text": [
            "📂 處理測試檔案:  41%|████▏     | 592/1430 [00:12<00:18, 45.37it/s]"
          ]
        },
        {
          "name": "stdout",
          "output_type": "stream",
          "text": [
            "[✅ 檔案找到] AICUP\\test_data\\2558.txt\n",
            "[✅ 檔案找到] AICUP\\test_data\\2559.txt\n",
            "[✅ 檔案找到] AICUP\\test_data\\2560.txt\n",
            "[✅ 檔案找到] AICUP\\test_data\\2561.txt\n",
            "[✅ 檔案找到] AICUP\\test_data\\2562.txt\n",
            "[✅ 檔案找到] AICUP\\test_data\\2563.txt\n",
            "[✅ 檔案找到] AICUP\\test_data\\2564.txt\n",
            "[✅ 檔案找到] AICUP\\test_data\\2565.txt\n",
            "[✅ 檔案找到] AICUP\\test_data\\2566.txt\n",
            "[✅ 檔案找到] AICUP\\test_data\\2567.txt\n"
          ]
        },
        {
          "name": "stderr",
          "output_type": "stream",
          "text": [
            "📂 處理測試檔案:  42%|████▏     | 602/1430 [00:13<00:18, 44.83it/s]"
          ]
        },
        {
          "name": "stdout",
          "output_type": "stream",
          "text": [
            "[✅ 檔案找到] AICUP\\test_data\\2568.txt\n",
            "[✅ 檔案找到] AICUP\\test_data\\2569.txt\n",
            "[✅ 檔案找到] AICUP\\test_data\\2570.txt\n",
            "[✅ 檔案找到] AICUP\\test_data\\2571.txt\n",
            "[✅ 檔案找到] AICUP\\test_data\\2572.txt\n",
            "[✅ 檔案找到] AICUP\\test_data\\2573.txt\n",
            "[✅ 檔案找到] AICUP\\test_data\\2574.txt\n",
            "[✅ 檔案找到] AICUP\\test_data\\2575.txt\n",
            "[✅ 檔案找到] AICUP\\test_data\\2576.txt\n",
            "[✅ 檔案找到] AICUP\\test_data\\2577.txt\n"
          ]
        },
        {
          "name": "stderr",
          "output_type": "stream",
          "text": [
            "📂 處理測試檔案:  43%|████▎     | 612/1430 [00:13<00:18, 45.14it/s]"
          ]
        },
        {
          "name": "stdout",
          "output_type": "stream",
          "text": [
            "[✅ 檔案找到] AICUP\\test_data\\2578.txt\n",
            "[✅ 檔案找到] AICUP\\test_data\\2579.txt\n",
            "[✅ 檔案找到] AICUP\\test_data\\2580.txt\n",
            "[✅ 檔案找到] AICUP\\test_data\\2581.txt\n",
            "[✅ 檔案找到] AICUP\\test_data\\2582.txt\n",
            "[✅ 檔案找到] AICUP\\test_data\\2583.txt\n",
            "[✅ 檔案找到] AICUP\\test_data\\2584.txt\n",
            "[✅ 檔案找到] AICUP\\test_data\\2585.txt\n",
            "[✅ 檔案找到] AICUP\\test_data\\2586.txt\n"
          ]
        },
        {
          "name": "stderr",
          "output_type": "stream",
          "text": [
            "📂 處理測試檔案:  44%|████▎     | 623/1430 [00:13<00:17, 46.75it/s]"
          ]
        },
        {
          "name": "stdout",
          "output_type": "stream",
          "text": [
            "[✅ 檔案找到] AICUP\\test_data\\2587.txt\n",
            "[✅ 檔案找到] AICUP\\test_data\\2588.txt\n",
            "[✅ 檔案找到] AICUP\\test_data\\2589.txt\n",
            "[✅ 檔案找到] AICUP\\test_data\\2590.txt\n",
            "[✅ 檔案找到] AICUP\\test_data\\2591.txt\n",
            "[✅ 檔案找到] AICUP\\test_data\\2592.txt\n",
            "[✅ 檔案找到] AICUP\\test_data\\2593.txt\n",
            "[✅ 檔案找到] AICUP\\test_data\\2594.txt\n",
            "[✅ 檔案找到] AICUP\\test_data\\2595.txt\n"
          ]
        },
        {
          "name": "stderr",
          "output_type": "stream",
          "text": [
            "📂 處理測試檔案:  44%|████▍     | 628/1430 [00:13<00:17, 44.96it/s]"
          ]
        },
        {
          "name": "stdout",
          "output_type": "stream",
          "text": [
            "[✅ 檔案找到] AICUP\\test_data\\2596.txt\n",
            "[✅ 檔案找到] AICUP\\test_data\\2597.txt\n",
            "[✅ 檔案找到] AICUP\\test_data\\2598.txt\n",
            "[✅ 檔案找到] AICUP\\test_data\\2599.txt\n",
            "[✅ 檔案找到] AICUP\\test_data\\2600.txt\n",
            "[✅ 檔案找到] AICUP\\test_data\\2601.txt\n",
            "[✅ 檔案找到] AICUP\\test_data\\2602.txt\n",
            "[✅ 檔案找到] AICUP\\test_data\\2603.txt\n",
            "[✅ 檔案找到] AICUP\\test_data\\2604.txt\n",
            "[✅ 檔案找到] AICUP\\test_data\\2605.txt\n"
          ]
        },
        {
          "name": "stderr",
          "output_type": "stream",
          "text": [
            "📂 處理測試檔案:  45%|████▍     | 638/1430 [00:13<00:17, 45.14it/s]"
          ]
        },
        {
          "name": "stdout",
          "output_type": "stream",
          "text": [
            "[✅ 檔案找到] AICUP\\test_data\\2606.txt\n",
            "[✅ 檔案找到] AICUP\\test_data\\2607.txt\n",
            "[✅ 檔案找到] AICUP\\test_data\\2608.txt\n",
            "[✅ 檔案找到] AICUP\\test_data\\2609.txt\n",
            "[✅ 檔案找到] AICUP\\test_data\\2610.txt\n",
            "[✅ 檔案找到] AICUP\\test_data\\2611.txt\n",
            "[✅ 檔案找到] AICUP\\test_data\\2612.txt\n",
            "[✅ 檔案找到] AICUP\\test_data\\2613.txt\n",
            "[✅ 檔案找到] AICUP\\test_data\\2614.txt\n"
          ]
        },
        {
          "name": "stderr",
          "output_type": "stream",
          "text": [
            "📂 處理測試檔案:  45%|████▌     | 648/1430 [00:14<00:17, 44.16it/s]"
          ]
        },
        {
          "name": "stdout",
          "output_type": "stream",
          "text": [
            "[✅ 檔案找到] AICUP\\test_data\\2615.txt\n",
            "[✅ 檔案找到] AICUP\\test_data\\2616.txt\n",
            "[✅ 檔案找到] AICUP\\test_data\\2617.txt\n",
            "[✅ 檔案找到] AICUP\\test_data\\2618.txt\n",
            "[✅ 檔案找到] AICUP\\test_data\\2619.txt\n",
            "[✅ 檔案找到] AICUP\\test_data\\2620.txt\n",
            "[✅ 檔案找到] AICUP\\test_data\\2621.txt\n",
            "[✅ 檔案找到] AICUP\\test_data\\2622.txt\n",
            "[✅ 檔案找到] AICUP\\test_data\\2623.txt\n"
          ]
        },
        {
          "name": "stderr",
          "output_type": "stream",
          "text": [
            "📂 處理測試檔案:  46%|████▌     | 658/1430 [00:14<00:17, 44.44it/s]"
          ]
        },
        {
          "name": "stdout",
          "output_type": "stream",
          "text": [
            "[✅ 檔案找到] AICUP\\test_data\\2624.txt\n",
            "[✅ 檔案找到] AICUP\\test_data\\2625.txt\n",
            "[✅ 檔案找到] AICUP\\test_data\\2626.txt\n",
            "[✅ 檔案找到] AICUP\\test_data\\2627.txt\n",
            "[✅ 檔案找到] AICUP\\test_data\\2628.txt\n",
            "[✅ 檔案找到] AICUP\\test_data\\2629.txt\n",
            "[✅ 檔案找到] AICUP\\test_data\\2630.txt\n",
            "[✅ 檔案找到] AICUP\\test_data\\2631.txt\n",
            "[✅ 檔案找到] AICUP\\test_data\\2632.txt\n",
            "[✅ 檔案找到] AICUP\\test_data\\2633.txt\n"
          ]
        },
        {
          "name": "stderr",
          "output_type": "stream",
          "text": [
            "📂 處理測試檔案:  47%|████▋     | 668/1430 [00:14<00:16, 45.30it/s]"
          ]
        },
        {
          "name": "stdout",
          "output_type": "stream",
          "text": [
            "[✅ 檔案找到] AICUP\\test_data\\2634.txt\n",
            "[✅ 檔案找到] AICUP\\test_data\\2635.txt\n",
            "[✅ 檔案找到] AICUP\\test_data\\2636.txt\n",
            "[✅ 檔案找到] AICUP\\test_data\\2637.txt\n",
            "[✅ 檔案找到] AICUP\\test_data\\2638.txt\n",
            "[✅ 檔案找到] AICUP\\test_data\\2639.txt\n",
            "[✅ 檔案找到] AICUP\\test_data\\2640.txt\n",
            "[✅ 檔案找到] AICUP\\test_data\\2641.txt\n",
            "[✅ 檔案找到] AICUP\\test_data\\2642.txt\n",
            "[✅ 檔案找到] AICUP\\test_data\\2643.txt\n"
          ]
        },
        {
          "name": "stderr",
          "output_type": "stream",
          "text": [
            "📂 處理測試檔案:  47%|████▋     | 678/1430 [00:14<00:16, 45.68it/s]"
          ]
        },
        {
          "name": "stdout",
          "output_type": "stream",
          "text": [
            "[✅ 檔案找到] AICUP\\test_data\\2644.txt\n",
            "[✅ 檔案找到] AICUP\\test_data\\2645.txt\n",
            "[✅ 檔案找到] AICUP\\test_data\\2646.txt\n",
            "[✅ 檔案找到] AICUP\\test_data\\2647.txt\n",
            "[✅ 檔案找到] AICUP\\test_data\\2648.txt\n",
            "[✅ 檔案找到] AICUP\\test_data\\2649.txt\n",
            "[✅ 檔案找到] AICUP\\test_data\\2650.txt\n",
            "[✅ 檔案找到] AICUP\\test_data\\2651.txt\n",
            "[✅ 檔案找到] AICUP\\test_data\\2652.txt\n",
            "[✅ 檔案找到] AICUP\\test_data\\2653.txt\n"
          ]
        },
        {
          "name": "stderr",
          "output_type": "stream",
          "text": [
            "📂 處理測試檔案:  48%|████▊     | 689/1430 [00:15<00:15, 48.61it/s]"
          ]
        },
        {
          "name": "stdout",
          "output_type": "stream",
          "text": [
            "[✅ 檔案找到] AICUP\\test_data\\2654.txt\n",
            "[✅ 檔案找到] AICUP\\test_data\\2655.txt\n",
            "[✅ 檔案找到] AICUP\\test_data\\2656.txt\n",
            "[✅ 檔案找到] AICUP\\test_data\\2657.txt\n",
            "[✅ 檔案找到] AICUP\\test_data\\2658.txt\n",
            "[✅ 檔案找到] AICUP\\test_data\\2659.txt\n",
            "[✅ 檔案找到] AICUP\\test_data\\2660.txt\n",
            "[✅ 檔案找到] AICUP\\test_data\\2661.txt\n",
            "[✅ 檔案找到] AICUP\\test_data\\2662.txt\n",
            "[✅ 檔案找到] AICUP\\test_data\\2663.txt\n",
            "[✅ 檔案找到] AICUP\\test_data\\2664.txt\n"
          ]
        },
        {
          "name": "stderr",
          "output_type": "stream",
          "text": [
            "📂 處理測試檔案:  49%|████▉     | 699/1430 [00:15<00:15, 47.03it/s]"
          ]
        },
        {
          "name": "stdout",
          "output_type": "stream",
          "text": [
            "[✅ 檔案找到] AICUP\\test_data\\2665.txt\n",
            "[✅ 檔案找到] AICUP\\test_data\\2666.txt\n",
            "[✅ 檔案找到] AICUP\\test_data\\2667.txt\n",
            "[✅ 檔案找到] AICUP\\test_data\\2668.txt\n",
            "[✅ 檔案找到] AICUP\\test_data\\2669.txt\n",
            "[✅ 檔案找到] AICUP\\test_data\\2670.txt\n",
            "[✅ 檔案找到] AICUP\\test_data\\2671.txt\n",
            "[✅ 檔案找到] AICUP\\test_data\\2672.txt\n",
            "[✅ 檔案找到] AICUP\\test_data\\2673.txt\n"
          ]
        },
        {
          "name": "stderr",
          "output_type": "stream",
          "text": [
            "📂 處理測試檔案:  50%|████▉     | 709/1430 [00:15<00:16, 43.48it/s]"
          ]
        },
        {
          "name": "stdout",
          "output_type": "stream",
          "text": [
            "[✅ 檔案找到] AICUP\\test_data\\2674.txt\n",
            "[✅ 檔案找到] AICUP\\test_data\\2675.txt\n",
            "[✅ 檔案找到] AICUP\\test_data\\2676.txt\n",
            "[✅ 檔案找到] AICUP\\test_data\\2677.txt\n",
            "[✅ 檔案找到] AICUP\\test_data\\2678.txt\n",
            "[✅ 檔案找到] AICUP\\test_data\\2679.txt\n",
            "[✅ 檔案找到] AICUP\\test_data\\2680.txt\n",
            "[✅ 檔案找到] AICUP\\test_data\\2681.txt\n"
          ]
        },
        {
          "name": "stderr",
          "output_type": "stream",
          "text": [
            "📂 處理測試檔案:  50%|████▉     | 714/1430 [00:15<00:15, 44.99it/s]"
          ]
        },
        {
          "name": "stdout",
          "output_type": "stream",
          "text": [
            "[✅ 檔案找到] AICUP\\test_data\\2682.txt\n",
            "[✅ 檔案找到] AICUP\\test_data\\2683.txt\n",
            "[✅ 檔案找到] AICUP\\test_data\\2684.txt\n",
            "[✅ 檔案找到] AICUP\\test_data\\2685.txt\n",
            "[✅ 檔案找到] AICUP\\test_data\\2686.txt\n",
            "[✅ 檔案找到] AICUP\\test_data\\2687.txt\n",
            "[✅ 檔案找到] AICUP\\test_data\\2688.txt\n",
            "[✅ 檔案找到] AICUP\\test_data\\2689.txt\n",
            "[✅ 檔案找到] AICUP\\test_data\\2690.txt\n"
          ]
        },
        {
          "name": "stderr",
          "output_type": "stream",
          "text": [
            "📂 處理測試檔案:  51%|█████     | 725/1430 [00:15<00:15, 44.25it/s]"
          ]
        },
        {
          "name": "stdout",
          "output_type": "stream",
          "text": [
            "[✅ 檔案找到] AICUP\\test_data\\2691.txt\n",
            "[✅ 檔案找到] AICUP\\test_data\\2692.txt\n",
            "[✅ 檔案找到] AICUP\\test_data\\2693.txt\n",
            "[✅ 檔案找到] AICUP\\test_data\\2694.txt\n",
            "[✅ 檔案找到] AICUP\\test_data\\2695.txt\n",
            "[✅ 檔案找到] AICUP\\test_data\\2696.txt\n",
            "[✅ 檔案找到] AICUP\\test_data\\2697.txt\n",
            "[✅ 檔案找到] AICUP\\test_data\\2698.txt\n",
            "[✅ 檔案找到] AICUP\\test_data\\2699.txt\n",
            "[✅ 檔案找到] AICUP\\test_data\\2700.txt\n"
          ]
        },
        {
          "name": "stderr",
          "output_type": "stream",
          "text": [
            "📂 處理測試檔案:  51%|█████▏    | 735/1430 [00:16<00:15, 45.22it/s]"
          ]
        },
        {
          "name": "stdout",
          "output_type": "stream",
          "text": [
            "[✅ 檔案找到] AICUP\\test_data\\2701.txt\n",
            "[✅ 檔案找到] AICUP\\test_data\\2702.txt\n",
            "[✅ 檔案找到] AICUP\\test_data\\2704.txt\n",
            "[✅ 檔案找到] AICUP\\test_data\\2705.txt\n",
            "[✅ 檔案找到] AICUP\\test_data\\2706.txt\n",
            "[✅ 檔案找到] AICUP\\test_data\\2707.txt\n",
            "[✅ 檔案找到] AICUP\\test_data\\2708.txt\n",
            "[✅ 檔案找到] AICUP\\test_data\\2709.txt\n",
            "[✅ 檔案找到] AICUP\\test_data\\2710.txt\n",
            "[✅ 檔案找到] AICUP\\test_data\\2711.txt\n"
          ]
        },
        {
          "name": "stderr",
          "output_type": "stream",
          "text": [
            "📂 處理測試檔案:  52%|█████▏    | 745/1430 [00:16<00:16, 41.26it/s]"
          ]
        },
        {
          "name": "stdout",
          "output_type": "stream",
          "text": [
            "[✅ 檔案找到] AICUP\\test_data\\2712.txt\n",
            "[✅ 檔案找到] AICUP\\test_data\\2713.txt\n",
            "[✅ 檔案找到] AICUP\\test_data\\2714.txt\n",
            "[✅ 檔案找到] AICUP\\test_data\\2715.txt\n",
            "[✅ 檔案找到] AICUP\\test_data\\2716.txt\n",
            "[✅ 檔案找到] AICUP\\test_data\\2717.txt\n",
            "[✅ 檔案找到] AICUP\\test_data\\2718.txt\n",
            "[✅ 檔案找到] AICUP\\test_data\\2719.txt\n",
            "[✅ 檔案找到] AICUP\\test_data\\2720.txt\n",
            "[✅ 檔案找到] AICUP\\test_data\\2721.txt\n"
          ]
        },
        {
          "name": "stderr",
          "output_type": "stream",
          "text": [
            "📂 處理測試檔案:  53%|█████▎    | 755/1430 [00:16<00:15, 43.25it/s]"
          ]
        },
        {
          "name": "stdout",
          "output_type": "stream",
          "text": [
            "[✅ 檔案找到] AICUP\\test_data\\2722.txt\n",
            "[✅ 檔案找到] AICUP\\test_data\\2723.txt\n",
            "[✅ 檔案找到] AICUP\\test_data\\2724.txt\n",
            "[✅ 檔案找到] AICUP\\test_data\\2725.txt\n",
            "[✅ 檔案找到] AICUP\\test_data\\2726.txt\n",
            "[✅ 檔案找到] AICUP\\test_data\\2727.txt\n",
            "[✅ 檔案找到] AICUP\\test_data\\2729.txt\n",
            "[✅ 檔案找到] AICUP\\test_data\\2730.txt\n",
            "[✅ 檔案找到] AICUP\\test_data\\2731.txt\n",
            "[✅ 檔案找到] AICUP\\test_data\\2732.txt\n"
          ]
        },
        {
          "name": "stderr",
          "output_type": "stream",
          "text": [
            "📂 處理測試檔案:  53%|█████▎    | 765/1430 [00:16<00:15, 44.13it/s]"
          ]
        },
        {
          "name": "stdout",
          "output_type": "stream",
          "text": [
            "[✅ 檔案找到] AICUP\\test_data\\2733.txt\n",
            "[✅ 檔案找到] AICUP\\test_data\\2734.txt\n",
            "[✅ 檔案找到] AICUP\\test_data\\2735.txt\n",
            "[✅ 檔案找到] AICUP\\test_data\\2736.txt\n",
            "[✅ 檔案找到] AICUP\\test_data\\2737.txt\n",
            "[✅ 檔案找到] AICUP\\test_data\\2738.txt\n",
            "[✅ 檔案找到] AICUP\\test_data\\2739.txt\n",
            "[✅ 檔案找到] AICUP\\test_data\\2740.txt\n",
            "[✅ 檔案找到] AICUP\\test_data\\2741.txt\n",
            "[✅ 檔案找到] AICUP\\test_data\\2742.txt\n",
            "[✅ 檔案找到] AICUP\\test_data\\2743.txt\n"
          ]
        },
        {
          "name": "stderr",
          "output_type": "stream",
          "text": [
            "📂 處理測試檔案:  54%|█████▍    | 775/1430 [00:17<00:14, 45.28it/s]"
          ]
        },
        {
          "name": "stdout",
          "output_type": "stream",
          "text": [
            "[✅ 檔案找到] AICUP\\test_data\\2744.txt\n",
            "[✅ 檔案找到] AICUP\\test_data\\2745.txt\n",
            "[✅ 檔案找到] AICUP\\test_data\\2746.txt\n",
            "[✅ 檔案找到] AICUP\\test_data\\2747.txt\n",
            "[✅ 檔案找到] AICUP\\test_data\\2748.txt\n",
            "[✅ 檔案找到] AICUP\\test_data\\2749.txt\n",
            "[✅ 檔案找到] AICUP\\test_data\\2750.txt\n",
            "[✅ 檔案找到] AICUP\\test_data\\2751.txt\n",
            "[✅ 檔案找到] AICUP\\test_data\\2752.txt\n",
            "[✅ 檔案找到] AICUP\\test_data\\2753.txt\n"
          ]
        },
        {
          "name": "stderr",
          "output_type": "stream",
          "text": [
            "📂 處理測試檔案:  55%|█████▍    | 785/1430 [00:17<00:13, 46.29it/s]"
          ]
        },
        {
          "name": "stdout",
          "output_type": "stream",
          "text": [
            "[✅ 檔案找到] AICUP\\test_data\\2754.txt\n",
            "[✅ 檔案找到] AICUP\\test_data\\2755.txt\n",
            "[✅ 檔案找到] AICUP\\test_data\\2756.txt\n",
            "[✅ 檔案找到] AICUP\\test_data\\2757.txt\n",
            "[✅ 檔案找到] AICUP\\test_data\\2758.txt\n",
            "[✅ 檔案找到] AICUP\\test_data\\2759.txt\n",
            "[✅ 檔案找到] AICUP\\test_data\\2760.txt\n",
            "[✅ 檔案找到] AICUP\\test_data\\2762.txt\n",
            "[✅ 檔案找到] AICUP\\test_data\\2763.txt\n",
            "[✅ 檔案找到] AICUP\\test_data\\2764.txt\n",
            "[✅ 檔案找到] AICUP\\test_data\\2765.txt\n"
          ]
        },
        {
          "name": "stderr",
          "output_type": "stream",
          "text": [
            "📂 處理測試檔案:  56%|█████▌    | 796/1430 [00:17<00:14, 43.89it/s]"
          ]
        },
        {
          "name": "stdout",
          "output_type": "stream",
          "text": [
            "[✅ 檔案找到] AICUP\\test_data\\2766.txt\n",
            "[✅ 檔案找到] AICUP\\test_data\\2767.txt\n",
            "[✅ 檔案找到] AICUP\\test_data\\2768.txt\n",
            "[✅ 檔案找到] AICUP\\test_data\\2769.txt\n",
            "[✅ 檔案找到] AICUP\\test_data\\2770.txt\n",
            "[✅ 檔案找到] AICUP\\test_data\\2771.txt\n",
            "[✅ 檔案找到] AICUP\\test_data\\2772.txt\n",
            "[✅ 檔案找到] AICUP\\test_data\\2773.txt\n",
            "[✅ 檔案找到] AICUP\\test_data\\2774.txt\n"
          ]
        },
        {
          "name": "stderr",
          "output_type": "stream",
          "text": [
            "📂 處理測試檔案:  56%|█████▋    | 806/1430 [00:17<00:13, 45.61it/s]"
          ]
        },
        {
          "name": "stdout",
          "output_type": "stream",
          "text": [
            "[✅ 檔案找到] AICUP\\test_data\\2775.txt\n",
            "[✅ 檔案找到] AICUP\\test_data\\2776.txt\n",
            "[✅ 檔案找到] AICUP\\test_data\\2777.txt\n",
            "[✅ 檔案找到] AICUP\\test_data\\2778.txt\n",
            "[✅ 檔案找到] AICUP\\test_data\\2779.txt\n",
            "[✅ 檔案找到] AICUP\\test_data\\2780.txt\n",
            "[✅ 檔案找到] AICUP\\test_data\\2781.txt\n",
            "[✅ 檔案找到] AICUP\\test_data\\2782.txt\n",
            "[✅ 檔案找到] AICUP\\test_data\\2783.txt\n",
            "[✅ 檔案找到] AICUP\\test_data\\2784.txt\n"
          ]
        },
        {
          "name": "stderr",
          "output_type": "stream",
          "text": [
            "📂 處理測試檔案:  57%|█████▋    | 817/1430 [00:17<00:12, 48.61it/s]"
          ]
        },
        {
          "name": "stdout",
          "output_type": "stream",
          "text": [
            "[✅ 檔案找到] AICUP\\test_data\\2785.txt\n",
            "[✅ 檔案找到] AICUP\\test_data\\2786.txt\n",
            "[✅ 檔案找到] AICUP\\test_data\\2787.txt\n",
            "[✅ 檔案找到] AICUP\\test_data\\2788.txt\n",
            "[✅ 檔案找到] AICUP\\test_data\\2789.txt\n",
            "[✅ 檔案找到] AICUP\\test_data\\2790.txt\n",
            "[✅ 檔案找到] AICUP\\test_data\\2791.txt\n",
            "[✅ 檔案找到] AICUP\\test_data\\2792.txt\n",
            "[✅ 檔案找到] AICUP\\test_data\\2793.txt\n",
            "[✅ 檔案找到] AICUP\\test_data\\2794.txt\n"
          ]
        },
        {
          "name": "stderr",
          "output_type": "stream",
          "text": [
            "📂 處理測試檔案:  57%|█████▋    | 822/1430 [00:18<00:13, 45.70it/s]"
          ]
        },
        {
          "name": "stdout",
          "output_type": "stream",
          "text": [
            "[✅ 檔案找到] AICUP\\test_data\\2795.txt\n",
            "[✅ 檔案找到] AICUP\\test_data\\2796.txt\n",
            "[✅ 檔案找到] AICUP\\test_data\\2797.txt\n",
            "[✅ 檔案找到] AICUP\\test_data\\2798.txt\n",
            "[✅ 檔案找到] AICUP\\test_data\\2799.txt\n",
            "[✅ 檔案找到] AICUP\\test_data\\2800.txt\n",
            "[✅ 檔案找到] AICUP\\test_data\\2801.txt\n",
            "[✅ 檔案找到] AICUP\\test_data\\2802.txt\n"
          ]
        },
        {
          "name": "stderr",
          "output_type": "stream",
          "text": [
            "📂 處理測試檔案:  58%|█████▊    | 832/1430 [00:18<00:14, 41.48it/s]"
          ]
        },
        {
          "name": "stdout",
          "output_type": "stream",
          "text": [
            "[✅ 檔案找到] AICUP\\test_data\\2803.txt\n",
            "[✅ 檔案找到] AICUP\\test_data\\2805.txt\n",
            "[✅ 檔案找到] AICUP\\test_data\\2806.txt\n",
            "[✅ 檔案找到] AICUP\\test_data\\2807.txt\n",
            "[✅ 檔案找到] AICUP\\test_data\\2808.txt\n",
            "[✅ 檔案找到] AICUP\\test_data\\2809.txt\n"
          ]
        },
        {
          "name": "stderr",
          "output_type": "stream",
          "text": [
            "📂 處理測試檔案:  59%|█████▊    | 837/1430 [00:18<00:18, 32.82it/s]"
          ]
        },
        {
          "name": "stdout",
          "output_type": "stream",
          "text": [
            "[✅ 檔案找到] AICUP\\test_data\\2810.txt\n",
            "[✅ 檔案找到] AICUP\\test_data\\2811.txt\n",
            "[✅ 檔案找到] AICUP\\test_data\\2812.txt\n",
            "[✅ 檔案找到] AICUP\\test_data\\2813.txt\n",
            "[✅ 檔案找到] AICUP\\test_data\\2814.txt\n",
            "[✅ 檔案找到] AICUP\\test_data\\2815.txt\n"
          ]
        },
        {
          "name": "stderr",
          "output_type": "stream",
          "text": [
            "📂 處理測試檔案:  59%|█████▉    | 845/1430 [00:18<00:18, 32.29it/s]"
          ]
        },
        {
          "name": "stdout",
          "output_type": "stream",
          "text": [
            "[✅ 檔案找到] AICUP\\test_data\\2816.txt\n",
            "[✅ 檔案找到] AICUP\\test_data\\2817.txt\n",
            "[✅ 檔案找到] AICUP\\test_data\\2818.txt\n",
            "[✅ 檔案找到] AICUP\\test_data\\2819.txt\n",
            "[✅ 檔案找到] AICUP\\test_data\\2820.txt\n",
            "[✅ 檔案找到] AICUP\\test_data\\2821.txt\n"
          ]
        },
        {
          "name": "stderr",
          "output_type": "stream",
          "text": [
            "📂 處理測試檔案:  59%|█████▉    | 849/1430 [00:18<00:17, 33.35it/s]"
          ]
        },
        {
          "name": "stdout",
          "output_type": "stream",
          "text": [
            "[✅ 檔案找到] AICUP\\test_data\\2822.txt\n",
            "[✅ 檔案找到] AICUP\\test_data\\2823.txt\n",
            "[✅ 檔案找到] AICUP\\test_data\\2824.txt\n",
            "[✅ 檔案找到] AICUP\\test_data\\2825.txt\n",
            "[✅ 檔案找到] AICUP\\test_data\\2826.txt\n",
            "[✅ 檔案找到] AICUP\\test_data\\2827.txt\n",
            "[✅ 檔案找到] AICUP\\test_data\\2828.txt\n",
            "[✅ 檔案找到] AICUP\\test_data\\2829.txt\n",
            "[✅ 檔案找到] AICUP\\test_data\\2830.txt\n",
            "[✅ 檔案找到] AICUP\\test_data\\2831.txt\n"
          ]
        },
        {
          "name": "stderr",
          "output_type": "stream",
          "text": [
            "📂 處理測試檔案:  60%|██████    | 859/1430 [00:19<00:15, 36.41it/s]"
          ]
        },
        {
          "name": "stdout",
          "output_type": "stream",
          "text": [
            "[✅ 檔案找到] AICUP\\test_data\\2832.txt\n",
            "[✅ 檔案找到] AICUP\\test_data\\2833.txt\n",
            "[✅ 檔案找到] AICUP\\test_data\\2834.txt\n",
            "[✅ 檔案找到] AICUP\\test_data\\2835.txt\n",
            "[✅ 檔案找到] AICUP\\test_data\\2836.txt\n",
            "[✅ 檔案找到] AICUP\\test_data\\2837.txt\n",
            "[✅ 檔案找到] AICUP\\test_data\\2838.txt\n"
          ]
        },
        {
          "name": "stderr",
          "output_type": "stream",
          "text": [
            "📂 處理測試檔案:  61%|██████    | 867/1430 [00:19<00:17, 32.98it/s]"
          ]
        },
        {
          "name": "stdout",
          "output_type": "stream",
          "text": [
            "[✅ 檔案找到] AICUP\\test_data\\2839.txt\n",
            "[✅ 檔案找到] AICUP\\test_data\\2840.txt\n",
            "[✅ 檔案找到] AICUP\\test_data\\2841.txt\n",
            "[✅ 檔案找到] AICUP\\test_data\\2842.txt\n",
            "[✅ 檔案找到] AICUP\\test_data\\2843.txt\n",
            "[✅ 檔案找到] AICUP\\test_data\\2844.txt\n",
            "[✅ 檔案找到] AICUP\\test_data\\2845.txt\n"
          ]
        },
        {
          "name": "stderr",
          "output_type": "stream",
          "text": [
            "📂 處理測試檔案:  61%|██████▏   | 878/1430 [00:19<00:13, 40.01it/s]"
          ]
        },
        {
          "name": "stdout",
          "output_type": "stream",
          "text": [
            "[✅ 檔案找到] AICUP\\test_data\\2846.txt\n",
            "[✅ 檔案找到] AICUP\\test_data\\2847.txt\n",
            "[✅ 檔案找到] AICUP\\test_data\\2848.txt\n",
            "[✅ 檔案找到] AICUP\\test_data\\2849.txt\n",
            "[✅ 檔案找到] AICUP\\test_data\\2850.txt\n",
            "[✅ 檔案找到] AICUP\\test_data\\2851.txt\n",
            "[✅ 檔案找到] AICUP\\test_data\\2852.txt\n",
            "[✅ 檔案找到] AICUP\\test_data\\2853.txt\n",
            "[✅ 檔案找到] AICUP\\test_data\\2854.txt\n"
          ]
        },
        {
          "name": "stderr",
          "output_type": "stream",
          "text": [
            "📂 處理測試檔案:  62%|██████▏   | 883/1430 [00:19<00:13, 40.41it/s]"
          ]
        },
        {
          "name": "stdout",
          "output_type": "stream",
          "text": [
            "[✅ 檔案找到] AICUP\\test_data\\2855.txt\n",
            "[✅ 檔案找到] AICUP\\test_data\\2856.txt\n",
            "[✅ 檔案找到] AICUP\\test_data\\2857.txt\n",
            "[✅ 檔案找到] AICUP\\test_data\\2858.txt\n",
            "[✅ 檔案找到] AICUP\\test_data\\2859.txt\n",
            "[✅ 檔案找到] AICUP\\test_data\\2860.txt\n",
            "[✅ 檔案找到] AICUP\\test_data\\2861.txt\n",
            "[✅ 檔案找到] AICUP\\test_data\\2862.txt\n",
            "[✅ 檔案找到] AICUP\\test_data\\2863.txt\n",
            "[✅ 檔案找到] AICUP\\test_data\\2864.txt\n"
          ]
        },
        {
          "name": "stderr",
          "output_type": "stream",
          "text": [
            "📂 處理測試檔案:  63%|██████▎   | 894/1430 [00:19<00:11, 44.71it/s]"
          ]
        },
        {
          "name": "stdout",
          "output_type": "stream",
          "text": [
            "[✅ 檔案找到] AICUP\\test_data\\2865.txt\n",
            "[✅ 檔案找到] AICUP\\test_data\\2866.txt\n",
            "[✅ 檔案找到] AICUP\\test_data\\2867.txt\n",
            "[✅ 檔案找到] AICUP\\test_data\\2868.txt\n",
            "[✅ 檔案找到] AICUP\\test_data\\2869.txt\n",
            "[✅ 檔案找到] AICUP\\test_data\\2870.txt\n",
            "[✅ 檔案找到] AICUP\\test_data\\2871.txt\n",
            "[✅ 檔案找到] AICUP\\test_data\\2872.txt\n",
            "[✅ 檔案找到] AICUP\\test_data\\2873.txt\n"
          ]
        },
        {
          "name": "stderr",
          "output_type": "stream",
          "text": [
            "📂 處理測試檔案:  63%|██████▎   | 904/1430 [00:20<00:12, 43.07it/s]"
          ]
        },
        {
          "name": "stdout",
          "output_type": "stream",
          "text": [
            "[✅ 檔案找到] AICUP\\test_data\\2874.txt\n",
            "[✅ 檔案找到] AICUP\\test_data\\2875.txt\n",
            "[✅ 檔案找到] AICUP\\test_data\\2876.txt\n",
            "[✅ 檔案找到] AICUP\\test_data\\2878.txt\n",
            "[✅ 檔案找到] AICUP\\test_data\\2879.txt\n",
            "[✅ 檔案找到] AICUP\\test_data\\2880.txt\n",
            "[✅ 檔案找到] AICUP\\test_data\\2881.txt\n",
            "[✅ 檔案找到] AICUP\\test_data\\2882.txt\n",
            "[✅ 檔案找到] AICUP\\test_data\\2883.txt\n",
            "[✅ 檔案找到] AICUP\\test_data\\2884.txt\n"
          ]
        },
        {
          "name": "stderr",
          "output_type": "stream",
          "text": [
            "📂 處理測試檔案:  64%|██████▍   | 915/1430 [00:20<00:11, 46.12it/s]"
          ]
        },
        {
          "name": "stdout",
          "output_type": "stream",
          "text": [
            "[✅ 檔案找到] AICUP\\test_data\\2885.txt\n",
            "[✅ 檔案找到] AICUP\\test_data\\2886.txt\n",
            "[✅ 檔案找到] AICUP\\test_data\\2887.txt\n",
            "[✅ 檔案找到] AICUP\\test_data\\2888.txt\n",
            "[✅ 檔案找到] AICUP\\test_data\\2889.txt\n",
            "[✅ 檔案找到] AICUP\\test_data\\2890.txt\n",
            "[✅ 檔案找到] AICUP\\test_data\\2891.txt\n",
            "[✅ 檔案找到] AICUP\\test_data\\2892.txt\n",
            "[✅ 檔案找到] AICUP\\test_data\\2893.txt\n",
            "[✅ 檔案找到] AICUP\\test_data\\2894.txt\n",
            "[✅ 檔案找到] AICUP\\test_data\\2895.txt\n"
          ]
        },
        {
          "name": "stderr",
          "output_type": "stream",
          "text": [
            "📂 處理測試檔案:  65%|██████▍   | 925/1430 [00:20<00:10, 47.04it/s]"
          ]
        },
        {
          "name": "stdout",
          "output_type": "stream",
          "text": [
            "[✅ 檔案找到] AICUP\\test_data\\2896.txt\n",
            "[✅ 檔案找到] AICUP\\test_data\\2897.txt\n",
            "[✅ 檔案找到] AICUP\\test_data\\2898.txt\n",
            "[✅ 檔案找到] AICUP\\test_data\\2899.txt\n",
            "[✅ 檔案找到] AICUP\\test_data\\2900.txt\n",
            "[✅ 檔案找到] AICUP\\test_data\\2901.txt\n",
            "[✅ 檔案找到] AICUP\\test_data\\2902.txt\n",
            "[✅ 檔案找到] AICUP\\test_data\\2903.txt\n",
            "[✅ 檔案找到] AICUP\\test_data\\2904.txt\n",
            "[✅ 檔案找到] AICUP\\test_data\\2905.txt\n"
          ]
        },
        {
          "name": "stderr",
          "output_type": "stream",
          "text": [
            "📂 處理測試檔案:  65%|██████▌   | 935/1430 [00:20<00:10, 46.39it/s]"
          ]
        },
        {
          "name": "stdout",
          "output_type": "stream",
          "text": [
            "[✅ 檔案找到] AICUP\\test_data\\2906.txt\n",
            "[✅ 檔案找到] AICUP\\test_data\\2907.txt\n",
            "[✅ 檔案找到] AICUP\\test_data\\2908.txt\n",
            "[✅ 檔案找到] AICUP\\test_data\\2909.txt\n",
            "[✅ 檔案找到] AICUP\\test_data\\2910.txt\n",
            "[✅ 檔案找到] AICUP\\test_data\\2911.txt\n",
            "[✅ 檔案找到] AICUP\\test_data\\2912.txt\n",
            "[✅ 檔案找到] AICUP\\test_data\\2913.txt\n"
          ]
        },
        {
          "name": "stderr",
          "output_type": "stream",
          "text": [
            "📂 處理測試檔案:  66%|██████▌   | 945/1430 [00:21<00:11, 42.41it/s]"
          ]
        },
        {
          "name": "stdout",
          "output_type": "stream",
          "text": [
            "[✅ 檔案找到] AICUP\\test_data\\2914.txt\n",
            "[✅ 檔案找到] AICUP\\test_data\\2915.txt\n",
            "[✅ 檔案找到] AICUP\\test_data\\2916.txt\n",
            "[✅ 檔案找到] AICUP\\test_data\\2917.txt\n",
            "[✅ 檔案找到] AICUP\\test_data\\2918.txt\n",
            "[✅ 檔案找到] AICUP\\test_data\\2919.txt\n",
            "[✅ 檔案找到] AICUP\\test_data\\2920.txt\n",
            "[✅ 檔案找到] AICUP\\test_data\\2921.txt\n",
            "[✅ 檔案找到] AICUP\\test_data\\2922.txt\n"
          ]
        },
        {
          "name": "stderr",
          "output_type": "stream",
          "text": [
            "📂 處理測試檔案:  66%|██████▋   | 950/1430 [00:21<00:10, 44.13it/s]"
          ]
        },
        {
          "name": "stdout",
          "output_type": "stream",
          "text": [
            "[✅ 檔案找到] AICUP\\test_data\\2923.txt\n",
            "[✅ 檔案找到] AICUP\\test_data\\2924.txt\n",
            "[✅ 檔案找到] AICUP\\test_data\\2925.txt\n",
            "[✅ 檔案找到] AICUP\\test_data\\2926.txt\n",
            "[✅ 檔案找到] AICUP\\test_data\\2927.txt\n",
            "[✅ 檔案找到] AICUP\\test_data\\2928.txt\n",
            "[✅ 檔案找到] AICUP\\test_data\\2929.txt\n",
            "[✅ 檔案找到] AICUP\\test_data\\2930.txt\n",
            "[✅ 檔案找到] AICUP\\test_data\\2931.txt\n"
          ]
        },
        {
          "name": "stderr",
          "output_type": "stream",
          "text": [
            "📂 處理測試檔案:  67%|██████▋   | 960/1430 [00:21<00:10, 43.71it/s]"
          ]
        },
        {
          "name": "stdout",
          "output_type": "stream",
          "text": [
            "[✅ 檔案找到] AICUP\\test_data\\2932.txt\n",
            "[✅ 檔案找到] AICUP\\test_data\\2933.txt\n",
            "[✅ 檔案找到] AICUP\\test_data\\2934.txt\n",
            "[✅ 檔案找到] AICUP\\test_data\\2935.txt\n",
            "[✅ 檔案找到] AICUP\\test_data\\2936.txt\n",
            "[✅ 檔案找到] AICUP\\test_data\\2937.txt\n",
            "[✅ 檔案找到] AICUP\\test_data\\2938.txt\n",
            "[✅ 檔案找到] AICUP\\test_data\\2939.txt\n",
            "[✅ 檔案找到] AICUP\\test_data\\2940.txt\n"
          ]
        },
        {
          "name": "stderr",
          "output_type": "stream",
          "text": [
            "📂 處理測試檔案:  68%|██████▊   | 971/1430 [00:21<00:10, 44.11it/s]"
          ]
        },
        {
          "name": "stdout",
          "output_type": "stream",
          "text": [
            "[✅ 檔案找到] AICUP\\test_data\\2941.txt\n",
            "[✅ 檔案找到] AICUP\\test_data\\2942.txt\n",
            "[✅ 檔案找到] AICUP\\test_data\\2943.txt\n",
            "[✅ 檔案找到] AICUP\\test_data\\2944.txt\n",
            "[✅ 檔案找到] AICUP\\test_data\\2945.txt\n",
            "[✅ 檔案找到] AICUP\\test_data\\2946.txt\n",
            "[✅ 檔案找到] AICUP\\test_data\\2947.txt\n",
            "[✅ 檔案找到] AICUP\\test_data\\2948.txt\n",
            "[✅ 檔案找到] AICUP\\test_data\\2949.txt\n",
            "[✅ 檔案找到] AICUP\\test_data\\2950.txt\n"
          ]
        },
        {
          "name": "stderr",
          "output_type": "stream",
          "text": [
            "📂 處理測試檔案:  69%|██████▊   | 981/1430 [00:21<00:10, 44.52it/s]"
          ]
        },
        {
          "name": "stdout",
          "output_type": "stream",
          "text": [
            "[✅ 檔案找到] AICUP\\test_data\\2952.txt\n",
            "[✅ 檔案找到] AICUP\\test_data\\2953.txt\n",
            "[✅ 檔案找到] AICUP\\test_data\\2954.txt\n",
            "[✅ 檔案找到] AICUP\\test_data\\2955.txt\n",
            "[✅ 檔案找到] AICUP\\test_data\\2956.txt\n",
            "[✅ 檔案找到] AICUP\\test_data\\2957.txt\n",
            "[✅ 檔案找到] AICUP\\test_data\\2958.txt\n",
            "[✅ 檔案找到] AICUP\\test_data\\2959.txt\n",
            "[✅ 檔案找到] AICUP\\test_data\\2960.txt\n",
            "[✅ 檔案找到] AICUP\\test_data\\2961.txt\n"
          ]
        },
        {
          "name": "stderr",
          "output_type": "stream",
          "text": [
            "📂 處理測試檔案:  69%|██████▉   | 987/1430 [00:22<00:09, 45.04it/s]"
          ]
        },
        {
          "name": "stdout",
          "output_type": "stream",
          "text": [
            "[✅ 檔案找到] AICUP\\test_data\\2962.txt\n",
            "[✅ 檔案找到] AICUP\\test_data\\2963.txt\n",
            "[✅ 檔案找到] AICUP\\test_data\\2964.txt\n",
            "[✅ 檔案找到] AICUP\\test_data\\2966.txt\n",
            "[✅ 檔案找到] AICUP\\test_data\\2967.txt\n",
            "[✅ 檔案找到] AICUP\\test_data\\2968.txt\n",
            "[✅ 檔案找到] AICUP\\test_data\\2969.txt\n"
          ]
        },
        {
          "name": "stderr",
          "output_type": "stream",
          "text": [
            "📂 處理測試檔案:  70%|██████▉   | 997/1430 [00:22<00:11, 37.60it/s]"
          ]
        },
        {
          "name": "stdout",
          "output_type": "stream",
          "text": [
            "[✅ 檔案找到] AICUP\\test_data\\2970.txt\n",
            "[✅ 檔案找到] AICUP\\test_data\\2971.txt\n",
            "[✅ 檔案找到] AICUP\\test_data\\2972.txt\n",
            "[✅ 檔案找到] AICUP\\test_data\\2973.txt\n",
            "[✅ 檔案找到] AICUP\\test_data\\2974.txt\n",
            "[✅ 檔案找到] AICUP\\test_data\\2975.txt\n",
            "[✅ 檔案找到] AICUP\\test_data\\2976.txt\n"
          ]
        },
        {
          "name": "stderr",
          "output_type": "stream",
          "text": [
            "📂 處理測試檔案:  70%|███████   | 1001/1430 [00:22<00:11, 36.55it/s]"
          ]
        },
        {
          "name": "stdout",
          "output_type": "stream",
          "text": [
            "[✅ 檔案找到] AICUP\\test_data\\2977.txt\n",
            "[✅ 檔案找到] AICUP\\test_data\\2978.txt\n",
            "[✅ 檔案找到] AICUP\\test_data\\2979.txt\n",
            "[✅ 檔案找到] AICUP\\test_data\\2980.txt\n",
            "[✅ 檔案找到] AICUP\\test_data\\2981.txt\n",
            "[✅ 檔案找到] AICUP\\test_data\\2982.txt\n",
            "[✅ 檔案找到] AICUP\\test_data\\2983.txt\n",
            "[✅ 檔案找到] AICUP\\test_data\\2984.txt\n"
          ]
        },
        {
          "name": "stderr",
          "output_type": "stream",
          "text": [
            "📂 處理測試檔案:  71%|███████   | 1011/1430 [00:22<00:10, 39.73it/s]"
          ]
        },
        {
          "name": "stdout",
          "output_type": "stream",
          "text": [
            "[✅ 檔案找到] AICUP\\test_data\\2985.txt\n",
            "[✅ 檔案找到] AICUP\\test_data\\2986.txt\n",
            "[✅ 檔案找到] AICUP\\test_data\\2987.txt\n",
            "[✅ 檔案找到] AICUP\\test_data\\2988.txt\n",
            "[✅ 檔案找到] AICUP\\test_data\\2989.txt\n",
            "[✅ 檔案找到] AICUP\\test_data\\2990.txt\n",
            "[✅ 檔案找到] AICUP\\test_data\\2991.txt\n",
            "[✅ 檔案找到] AICUP\\test_data\\2992.txt\n",
            "[✅ 檔案找到] AICUP\\test_data\\2993.txt\n"
          ]
        },
        {
          "name": "stderr",
          "output_type": "stream",
          "text": [
            "📂 處理測試檔案:  71%|███████▏  | 1022/1430 [00:23<00:09, 41.68it/s]"
          ]
        },
        {
          "name": "stdout",
          "output_type": "stream",
          "text": [
            "[✅ 檔案找到] AICUP\\test_data\\2994.txt\n",
            "[✅ 檔案找到] AICUP\\test_data\\2995.txt\n",
            "[✅ 檔案找到] AICUP\\test_data\\2996.txt\n",
            "[✅ 檔案找到] AICUP\\test_data\\2997.txt\n",
            "[✅ 檔案找到] AICUP\\test_data\\2998.txt\n",
            "[✅ 檔案找到] AICUP\\test_data\\2999.txt\n",
            "[✅ 檔案找到] AICUP\\test_data\\3000.txt\n",
            "[✅ 檔案找到] AICUP\\test_data\\3001.txt\n"
          ]
        },
        {
          "name": "stderr",
          "output_type": "stream",
          "text": [
            "📂 處理測試檔案:  72%|███████▏  | 1027/1430 [00:23<00:09, 42.01it/s]"
          ]
        },
        {
          "name": "stdout",
          "output_type": "stream",
          "text": [
            "[✅ 檔案找到] AICUP\\test_data\\3002.txt\n",
            "[✅ 檔案找到] AICUP\\test_data\\3003.txt\n",
            "[✅ 檔案找到] AICUP\\test_data\\3004.txt\n",
            "[✅ 檔案找到] AICUP\\test_data\\3005.txt\n",
            "[✅ 檔案找到] AICUP\\test_data\\3006.txt\n",
            "[✅ 檔案找到] AICUP\\test_data\\3007.txt\n",
            "[✅ 檔案找到] AICUP\\test_data\\3008.txt\n",
            "[✅ 檔案找到] AICUP\\test_data\\3009.txt\n",
            "[✅ 檔案找到] AICUP\\test_data\\3010.txt\n",
            "[✅ 檔案找到] AICUP\\test_data\\3011.txt\n"
          ]
        },
        {
          "name": "stderr",
          "output_type": "stream",
          "text": [
            "📂 處理測試檔案:  73%|███████▎  | 1037/1430 [00:23<00:08, 44.05it/s]"
          ]
        },
        {
          "name": "stdout",
          "output_type": "stream",
          "text": [
            "[✅ 檔案找到] AICUP\\test_data\\3012.txt\n",
            "[✅ 檔案找到] AICUP\\test_data\\3013.txt\n",
            "[✅ 檔案找到] AICUP\\test_data\\3014.txt\n",
            "[✅ 檔案找到] AICUP\\test_data\\3015.txt\n",
            "[✅ 檔案找到] AICUP\\test_data\\3016.txt\n",
            "[✅ 檔案找到] AICUP\\test_data\\3017.txt\n",
            "[✅ 檔案找到] AICUP\\test_data\\3018.txt\n",
            "[✅ 檔案找到] AICUP\\test_data\\3019.txt\n"
          ]
        },
        {
          "name": "stderr",
          "output_type": "stream",
          "text": [
            "📂 處理測試檔案:  73%|███████▎  | 1048/1430 [00:23<00:09, 42.30it/s]"
          ]
        },
        {
          "name": "stdout",
          "output_type": "stream",
          "text": [
            "[✅ 檔案找到] AICUP\\test_data\\3020.txt\n",
            "[✅ 檔案找到] AICUP\\test_data\\3021.txt\n",
            "[✅ 檔案找到] AICUP\\test_data\\3022.txt\n",
            "[✅ 檔案找到] AICUP\\test_data\\3023.txt\n",
            "[✅ 檔案找到] AICUP\\test_data\\3024.txt\n",
            "[✅ 檔案找到] AICUP\\test_data\\3025.txt\n",
            "[✅ 檔案找到] AICUP\\test_data\\3026.txt\n",
            "[✅ 檔案找到] AICUP\\test_data\\3027.txt\n",
            "[✅ 檔案找到] AICUP\\test_data\\3028.txt\n",
            "[✅ 檔案找到] AICUP\\test_data\\3029.txt\n",
            "[✅ 檔案找到] AICUP\\test_data\\3030.txt\n"
          ]
        },
        {
          "name": "stderr",
          "output_type": "stream",
          "text": [
            "📂 處理測試檔案:  74%|███████▍  | 1058/1430 [00:23<00:08, 42.04it/s]"
          ]
        },
        {
          "name": "stdout",
          "output_type": "stream",
          "text": [
            "[✅ 檔案找到] AICUP\\test_data\\3031.txt\n",
            "[✅ 檔案找到] AICUP\\test_data\\3032.txt\n",
            "[✅ 檔案找到] AICUP\\test_data\\3033.txt\n",
            "[✅ 檔案找到] AICUP\\test_data\\3034.txt\n",
            "[✅ 檔案找到] AICUP\\test_data\\3035.txt\n",
            "[✅ 檔案找到] AICUP\\test_data\\3036.txt\n",
            "[✅ 檔案找到] AICUP\\test_data\\3037.txt\n",
            "[✅ 檔案找到] AICUP\\test_data\\3038.txt\n",
            "[✅ 檔案找到] AICUP\\test_data\\3039.txt\n",
            "[✅ 檔案找到] AICUP\\test_data\\3040.txt\n"
          ]
        },
        {
          "name": "stderr",
          "output_type": "stream",
          "text": [
            "📂 處理測試檔案:  75%|███████▍  | 1068/1430 [00:24<00:08, 43.96it/s]"
          ]
        },
        {
          "name": "stdout",
          "output_type": "stream",
          "text": [
            "[✅ 檔案找到] AICUP\\test_data\\3041.txt\n",
            "[✅ 檔案找到] AICUP\\test_data\\3042.txt\n",
            "[✅ 檔案找到] AICUP\\test_data\\3043.txt\n",
            "[✅ 檔案找到] AICUP\\test_data\\3044.txt\n",
            "[✅ 檔案找到] AICUP\\test_data\\3045.txt\n",
            "[✅ 檔案找到] AICUP\\test_data\\3046.txt\n",
            "[✅ 檔案找到] AICUP\\test_data\\3047.txt\n",
            "[✅ 檔案找到] AICUP\\test_data\\3048.txt\n",
            "[✅ 檔案找到] AICUP\\test_data\\3049.txt\n",
            "[✅ 檔案找到] AICUP\\test_data\\3050.txt\n"
          ]
        },
        {
          "name": "stderr",
          "output_type": "stream",
          "text": [
            "📂 處理測試檔案:  75%|███████▌  | 1078/1430 [00:24<00:07, 44.53it/s]"
          ]
        },
        {
          "name": "stdout",
          "output_type": "stream",
          "text": [
            "[✅ 檔案找到] AICUP\\test_data\\3051.txt\n",
            "[✅ 檔案找到] AICUP\\test_data\\3052.txt\n",
            "[✅ 檔案找到] AICUP\\test_data\\3053.txt\n",
            "[✅ 檔案找到] AICUP\\test_data\\3054.txt\n",
            "[✅ 檔案找到] AICUP\\test_data\\3055.txt\n",
            "[✅ 檔案找到] AICUP\\test_data\\3056.txt\n",
            "[✅ 檔案找到] AICUP\\test_data\\3057.txt\n",
            "[✅ 檔案找到] AICUP\\test_data\\3058.txt\n",
            "[✅ 檔案找到] AICUP\\test_data\\3059.txt\n",
            "[✅ 檔案找到] AICUP\\test_data\\3060.txt\n"
          ]
        },
        {
          "name": "stderr",
          "output_type": "stream",
          "text": [
            "📂 處理測試檔案:  76%|███████▌  | 1089/1430 [00:24<00:07, 46.57it/s]"
          ]
        },
        {
          "name": "stdout",
          "output_type": "stream",
          "text": [
            "[✅ 檔案找到] AICUP\\test_data\\3061.txt\n",
            "[✅ 檔案找到] AICUP\\test_data\\3062.txt\n",
            "[✅ 檔案找到] AICUP\\test_data\\3063.txt\n",
            "[✅ 檔案找到] AICUP\\test_data\\3064.txt\n",
            "[✅ 檔案找到] AICUP\\test_data\\3065.txt\n",
            "[✅ 檔案找到] AICUP\\test_data\\3066.txt\n",
            "[✅ 檔案找到] AICUP\\test_data\\3067.txt\n",
            "[✅ 檔案找到] AICUP\\test_data\\3068.txt\n",
            "[✅ 檔案找到] AICUP\\test_data\\3069.txt\n",
            "[✅ 檔案找到] AICUP\\test_data\\3070.txt\n",
            "[✅ 檔案找到] AICUP\\test_data\\3071.txt\n"
          ]
        },
        {
          "name": "stderr",
          "output_type": "stream",
          "text": [
            "📂 處理測試檔案:  77%|███████▋  | 1099/1430 [00:24<00:07, 42.87it/s]"
          ]
        },
        {
          "name": "stdout",
          "output_type": "stream",
          "text": [
            "[✅ 檔案找到] AICUP\\test_data\\3072.txt\n",
            "[✅ 檔案找到] AICUP\\test_data\\3073.txt\n",
            "[✅ 檔案找到] AICUP\\test_data\\3074.txt\n",
            "[✅ 檔案找到] AICUP\\test_data\\3075.txt\n",
            "[✅ 檔案找到] AICUP\\test_data\\3076.txt\n",
            "[✅ 檔案找到] AICUP\\test_data\\3077.txt\n",
            "[✅ 檔案找到] AICUP\\test_data\\3078.txt\n"
          ]
        },
        {
          "name": "stderr",
          "output_type": "stream",
          "text": [
            "📂 處理測試檔案:  77%|███████▋  | 1104/1430 [00:24<00:07, 41.70it/s]"
          ]
        },
        {
          "name": "stdout",
          "output_type": "stream",
          "text": [
            "[✅ 檔案找到] AICUP\\test_data\\3079.txt\n",
            "[✅ 檔案找到] AICUP\\test_data\\3080.txt\n",
            "[✅ 檔案找到] AICUP\\test_data\\3081.txt\n",
            "[✅ 檔案找到] AICUP\\test_data\\3082.txt\n",
            "[✅ 檔案找到] AICUP\\test_data\\3083.txt\n",
            "[✅ 檔案找到] AICUP\\test_data\\3084.txt\n",
            "[✅ 檔案找到] AICUP\\test_data\\3085.txt\n",
            "[✅ 檔案找到] AICUP\\test_data\\3086.txt\n"
          ]
        },
        {
          "name": "stderr",
          "output_type": "stream",
          "text": [
            "📂 處理測試檔案:  78%|███████▊  | 1113/1430 [00:25<00:08, 36.37it/s]"
          ]
        },
        {
          "name": "stdout",
          "output_type": "stream",
          "text": [
            "[✅ 檔案找到] AICUP\\test_data\\3087.txt\n",
            "[✅ 檔案找到] AICUP\\test_data\\3088.txt\n",
            "[✅ 檔案找到] AICUP\\test_data\\3089.txt\n",
            "[✅ 檔案找到] AICUP\\test_data\\3090.txt\n",
            "[✅ 檔案找到] AICUP\\test_data\\3091.txt\n",
            "[✅ 檔案找到] AICUP\\test_data\\3092.txt\n"
          ]
        },
        {
          "name": "stderr",
          "output_type": "stream",
          "text": [
            "📂 處理測試檔案:  78%|███████▊  | 1117/1430 [00:25<00:09, 33.95it/s]"
          ]
        },
        {
          "name": "stdout",
          "output_type": "stream",
          "text": [
            "[✅ 檔案找到] AICUP\\test_data\\3093.txt\n",
            "[✅ 檔案找到] AICUP\\test_data\\3094.txt\n",
            "[✅ 檔案找到] AICUP\\test_data\\3095.txt\n",
            "[✅ 檔案找到] AICUP\\test_data\\3096.txt\n",
            "[✅ 檔案找到] AICUP\\test_data\\3097.txt\n",
            "[✅ 檔案找到] AICUP\\test_data\\3098.txt\n",
            "[✅ 檔案找到] AICUP\\test_data\\3099.txt\n",
            "[✅ 檔案找到] AICUP\\test_data\\3100.txt\n"
          ]
        },
        {
          "name": "stderr",
          "output_type": "stream",
          "text": [
            "📂 處理測試檔案:  79%|███████▉  | 1128/1430 [00:25<00:08, 35.88it/s]"
          ]
        },
        {
          "name": "stdout",
          "output_type": "stream",
          "text": [
            "[✅ 檔案找到] AICUP\\test_data\\3101.txt\n",
            "[✅ 檔案找到] AICUP\\test_data\\3102.txt\n",
            "[✅ 檔案找到] AICUP\\test_data\\3103.txt\n",
            "[✅ 檔案找到] AICUP\\test_data\\3104.txt\n",
            "[✅ 檔案找到] AICUP\\test_data\\3105.txt\n",
            "[✅ 檔案找到] AICUP\\test_data\\3106.txt\n",
            "[✅ 檔案找到] AICUP\\test_data\\3108.txt\n"
          ]
        },
        {
          "name": "stderr",
          "output_type": "stream",
          "text": [
            "📂 處理測試檔案:  79%|███████▉  | 1132/1430 [00:25<00:08, 34.71it/s]"
          ]
        },
        {
          "name": "stdout",
          "output_type": "stream",
          "text": [
            "[✅ 檔案找到] AICUP\\test_data\\3109.txt\n",
            "[✅ 檔案找到] AICUP\\test_data\\3110.txt\n",
            "[✅ 檔案找到] AICUP\\test_data\\3111.txt\n",
            "[✅ 檔案找到] AICUP\\test_data\\3112.txt\n",
            "[✅ 檔案找到] AICUP\\test_data\\3113.txt\n",
            "[✅ 檔案找到] AICUP\\test_data\\3114.txt\n",
            "[✅ 檔案找到] AICUP\\test_data\\3115.txt\n"
          ]
        },
        {
          "name": "stderr",
          "output_type": "stream",
          "text": [
            "📂 處理測試檔案:  80%|███████▉  | 1141/1430 [00:25<00:07, 37.07it/s]"
          ]
        },
        {
          "name": "stdout",
          "output_type": "stream",
          "text": [
            "[✅ 檔案找到] AICUP\\test_data\\3116.txt\n",
            "[✅ 檔案找到] AICUP\\test_data\\3117.txt\n",
            "[✅ 檔案找到] AICUP\\test_data\\3118.txt\n",
            "[✅ 檔案找到] AICUP\\test_data\\3119.txt\n",
            "[✅ 檔案找到] AICUP\\test_data\\3120.txt\n",
            "[✅ 檔案找到] AICUP\\test_data\\3121.txt\n",
            "[✅ 檔案找到] AICUP\\test_data\\3122.txt\n",
            "[✅ 檔案找到] AICUP\\test_data\\3123.txt\n",
            "[✅ 檔案找到] AICUP\\test_data\\3124.txt\n",
            "[✅ 檔案找到] AICUP\\test_data\\3125.txt\n"
          ]
        },
        {
          "name": "stderr",
          "output_type": "stream",
          "text": [
            "📂 處理測試檔案:  80%|████████  | 1151/1430 [00:26<00:07, 39.64it/s]"
          ]
        },
        {
          "name": "stdout",
          "output_type": "stream",
          "text": [
            "[✅ 檔案找到] AICUP\\test_data\\3126.txt\n",
            "[✅ 檔案找到] AICUP\\test_data\\3127.txt\n",
            "[✅ 檔案找到] AICUP\\test_data\\3128.txt\n",
            "[✅ 檔案找到] AICUP\\test_data\\3129.txt\n",
            "[✅ 檔案找到] AICUP\\test_data\\3130.txt\n",
            "[✅ 檔案找到] AICUP\\test_data\\3131.txt\n",
            "[✅ 檔案找到] AICUP\\test_data\\3132.txt\n",
            "[✅ 檔案找到] AICUP\\test_data\\3133.txt\n",
            "[✅ 檔案找到] AICUP\\test_data\\3134.txt\n"
          ]
        },
        {
          "name": "stderr",
          "output_type": "stream",
          "text": [
            "📂 處理測試檔案:  81%|████████▏ | 1163/1430 [00:26<00:05, 45.60it/s]"
          ]
        },
        {
          "name": "stdout",
          "output_type": "stream",
          "text": [
            "[✅ 檔案找到] AICUP\\test_data\\3135.txt\n",
            "[✅ 檔案找到] AICUP\\test_data\\3136.txt\n",
            "[✅ 檔案找到] AICUP\\test_data\\3137.txt\n",
            "[✅ 檔案找到] AICUP\\test_data\\3138.txt\n",
            "[✅ 檔案找到] AICUP\\test_data\\3139.txt\n",
            "[✅ 檔案找到] AICUP\\test_data\\3140.txt\n",
            "[✅ 檔案找到] AICUP\\test_data\\3141.txt\n",
            "[✅ 檔案找到] AICUP\\test_data\\3142.txt\n",
            "[✅ 檔案找到] AICUP\\test_data\\3143.txt\n",
            "[✅ 檔案找到] AICUP\\test_data\\3144.txt\n",
            "[✅ 檔案找到] AICUP\\test_data\\3145.txt\n"
          ]
        },
        {
          "name": "stderr",
          "output_type": "stream",
          "text": [
            "📂 處理測試檔案:  82%|████████▏ | 1168/1430 [00:26<00:05, 44.27it/s]"
          ]
        },
        {
          "name": "stdout",
          "output_type": "stream",
          "text": [
            "[✅ 檔案找到] AICUP\\test_data\\3146.txt\n",
            "[✅ 檔案找到] AICUP\\test_data\\3147.txt\n",
            "[✅ 檔案找到] AICUP\\test_data\\3148.txt\n",
            "[✅ 檔案找到] AICUP\\test_data\\3149.txt\n",
            "[✅ 檔案找到] AICUP\\test_data\\3150.txt\n",
            "[✅ 檔案找到] AICUP\\test_data\\3151.txt\n",
            "[✅ 檔案找到] AICUP\\test_data\\3152.txt\n",
            "[✅ 檔案找到] AICUP\\test_data\\3153.txt\n"
          ]
        },
        {
          "name": "stderr",
          "output_type": "stream",
          "text": [
            "📂 處理測試檔案:  82%|████████▏ | 1179/1430 [00:26<00:05, 43.00it/s]"
          ]
        },
        {
          "name": "stdout",
          "output_type": "stream",
          "text": [
            "[✅ 檔案找到] AICUP\\test_data\\3154.txt\n",
            "[✅ 檔案找到] AICUP\\test_data\\3155.txt\n",
            "[✅ 檔案找到] AICUP\\test_data\\3156.txt\n",
            "[✅ 檔案找到] AICUP\\test_data\\3157.txt\n",
            "[✅ 檔案找到] AICUP\\test_data\\3158.txt\n",
            "[✅ 檔案找到] AICUP\\test_data\\3159.txt\n",
            "[✅ 檔案找到] AICUP\\test_data\\3160.txt\n",
            "[✅ 檔案找到] AICUP\\test_data\\3161.txt\n"
          ]
        },
        {
          "name": "stderr",
          "output_type": "stream",
          "text": [
            "📂 處理測試檔案:  83%|████████▎ | 1189/1430 [00:27<00:05, 40.48it/s]"
          ]
        },
        {
          "name": "stdout",
          "output_type": "stream",
          "text": [
            "[✅ 檔案找到] AICUP\\test_data\\3162.txt\n",
            "[✅ 檔案找到] AICUP\\test_data\\3163.txt\n",
            "[✅ 檔案找到] AICUP\\test_data\\3164.txt\n",
            "[✅ 檔案找到] AICUP\\test_data\\3165.txt\n",
            "[✅ 檔案找到] AICUP\\test_data\\3166.txt\n",
            "[✅ 檔案找到] AICUP\\test_data\\3167.txt\n",
            "[✅ 檔案找到] AICUP\\test_data\\3168.txt\n",
            "[✅ 檔案找到] AICUP\\test_data\\3169.txt\n",
            "[✅ 檔案找到] AICUP\\test_data\\3170.txt\n",
            "[✅ 檔案找到] AICUP\\test_data\\3171.txt\n"
          ]
        },
        {
          "name": "stderr",
          "output_type": "stream",
          "text": [
            "📂 處理測試檔案:  84%|████████▍ | 1200/1430 [00:27<00:05, 44.54it/s]"
          ]
        },
        {
          "name": "stdout",
          "output_type": "stream",
          "text": [
            "[✅ 檔案找到] AICUP\\test_data\\3172.txt\n",
            "[✅ 檔案找到] AICUP\\test_data\\3173.txt\n",
            "[✅ 檔案找到] AICUP\\test_data\\3174.txt\n",
            "[✅ 檔案找到] AICUP\\test_data\\3175.txt\n",
            "[✅ 檔案找到] AICUP\\test_data\\3176.txt\n",
            "[✅ 檔案找到] AICUP\\test_data\\3177.txt\n",
            "[✅ 檔案找到] AICUP\\test_data\\3178.txt\n",
            "[✅ 檔案找到] AICUP\\test_data\\3179.txt\n",
            "[✅ 檔案找到] AICUP\\test_data\\3180.txt\n"
          ]
        },
        {
          "name": "stderr",
          "output_type": "stream",
          "text": [
            "📂 處理測試檔案:  84%|████████▍ | 1205/1430 [00:27<00:05, 42.80it/s]"
          ]
        },
        {
          "name": "stdout",
          "output_type": "stream",
          "text": [
            "[✅ 檔案找到] AICUP\\test_data\\3181.txt\n",
            "[✅ 檔案找到] AICUP\\test_data\\3182.txt\n",
            "[✅ 檔案找到] AICUP\\test_data\\3183.txt\n",
            "[✅ 檔案找到] AICUP\\test_data\\3184.txt\n",
            "[✅ 檔案找到] AICUP\\test_data\\3185.txt\n",
            "[✅ 檔案找到] AICUP\\test_data\\3186.txt\n",
            "[✅ 檔案找到] AICUP\\test_data\\3187.txt\n",
            "[✅ 檔案找到] AICUP\\test_data\\3188.txt\n",
            "[✅ 檔案找到] AICUP\\test_data\\3189.txt\n",
            "[✅ 檔案找到] AICUP\\test_data\\3190.txt\n"
          ]
        },
        {
          "name": "stderr",
          "output_type": "stream",
          "text": [
            "📂 處理測試檔案:  85%|████████▌ | 1216/1430 [00:27<00:04, 44.57it/s]"
          ]
        },
        {
          "name": "stdout",
          "output_type": "stream",
          "text": [
            "[✅ 檔案找到] AICUP\\test_data\\3191.txt\n",
            "[✅ 檔案找到] AICUP\\test_data\\3192.txt\n",
            "[✅ 檔案找到] AICUP\\test_data\\3193.txt\n",
            "[✅ 檔案找到] AICUP\\test_data\\3194.txt\n",
            "[✅ 檔案找到] AICUP\\test_data\\3195.txt\n",
            "[✅ 檔案找到] AICUP\\test_data\\3196.txt\n",
            "[✅ 檔案找到] AICUP\\test_data\\3197.txt\n",
            "[✅ 檔案找到] AICUP\\test_data\\3198.txt\n",
            "[✅ 檔案找到] AICUP\\test_data\\3199.txt\n"
          ]
        },
        {
          "name": "stderr",
          "output_type": "stream",
          "text": [
            "📂 處理測試檔案:  86%|████████▌ | 1226/1430 [00:27<00:04, 41.75it/s]"
          ]
        },
        {
          "name": "stdout",
          "output_type": "stream",
          "text": [
            "[✅ 檔案找到] AICUP\\test_data\\3200.txt\n",
            "[✅ 檔案找到] AICUP\\test_data\\3201.txt\n",
            "[✅ 檔案找到] AICUP\\test_data\\3202.txt\n",
            "[✅ 檔案找到] AICUP\\test_data\\3203.txt\n",
            "[✅ 檔案找到] AICUP\\test_data\\3204.txt\n",
            "[✅ 檔案找到] AICUP\\test_data\\3205.txt\n",
            "[✅ 檔案找到] AICUP\\test_data\\3206.txt\n"
          ]
        },
        {
          "name": "stderr",
          "output_type": "stream",
          "text": [
            "📂 處理測試檔案:  86%|████████▌ | 1232/1430 [00:28<00:04, 45.79it/s]"
          ]
        },
        {
          "name": "stdout",
          "output_type": "stream",
          "text": [
            "[✅ 檔案找到] AICUP\\test_data\\3207.txt\n",
            "[✅ 檔案找到] AICUP\\test_data\\3208.txt\n",
            "[✅ 檔案找到] AICUP\\test_data\\3209.txt\n",
            "[✅ 檔案找到] AICUP\\test_data\\3210.txt\n",
            "[✅ 檔案找到] AICUP\\test_data\\3211.txt\n",
            "[✅ 檔案找到] AICUP\\test_data\\3212.txt\n",
            "[✅ 檔案找到] AICUP\\test_data\\3213.txt\n",
            "[✅ 檔案找到] AICUP\\test_data\\3214.txt\n",
            "[✅ 檔案找到] AICUP\\test_data\\3215.txt\n",
            "[✅ 檔案找到] AICUP\\test_data\\3216.txt\n"
          ]
        },
        {
          "name": "stderr",
          "output_type": "stream",
          "text": [
            "📂 處理測試檔案:  87%|████████▋ | 1242/1430 [00:28<00:04, 42.48it/s]"
          ]
        },
        {
          "name": "stdout",
          "output_type": "stream",
          "text": [
            "[✅ 檔案找到] AICUP\\test_data\\3217.txt\n",
            "[✅ 檔案找到] AICUP\\test_data\\3218.txt\n",
            "[✅ 檔案找到] AICUP\\test_data\\3219.txt\n",
            "[✅ 檔案找到] AICUP\\test_data\\3220.txt\n",
            "[✅ 檔案找到] AICUP\\test_data\\3221.txt\n",
            "[✅ 檔案找到] AICUP\\test_data\\3222.txt\n",
            "[✅ 檔案找到] AICUP\\test_data\\3223.txt\n",
            "[✅ 檔案找到] AICUP\\test_data\\3224.txt\n",
            "[✅ 檔案找到] AICUP\\test_data\\3225.txt\n",
            "[✅ 檔案找到] AICUP\\test_data\\3226.txt\n"
          ]
        },
        {
          "name": "stderr",
          "output_type": "stream",
          "text": [
            "📂 處理測試檔案:  88%|████████▊ | 1252/1430 [00:28<00:04, 44.11it/s]"
          ]
        },
        {
          "name": "stdout",
          "output_type": "stream",
          "text": [
            "[✅ 檔案找到] AICUP\\test_data\\3227.txt\n",
            "[✅ 檔案找到] AICUP\\test_data\\3228.txt\n",
            "[✅ 檔案找到] AICUP\\test_data\\3229.txt\n",
            "[✅ 檔案找到] AICUP\\test_data\\3230.txt\n",
            "[✅ 檔案找到] AICUP\\test_data\\3231.txt\n",
            "[✅ 檔案找到] AICUP\\test_data\\3232.txt\n",
            "[✅ 檔案找到] AICUP\\test_data\\3233.txt\n",
            "[✅ 檔案找到] AICUP\\test_data\\3234.txt\n",
            "[✅ 檔案找到] AICUP\\test_data\\3235.txt\n",
            "[✅ 檔案找到] AICUP\\test_data\\3236.txt\n"
          ]
        },
        {
          "name": "stderr",
          "output_type": "stream",
          "text": [
            "📂 處理測試檔案:  88%|████████▊ | 1262/1430 [00:28<00:04, 41.99it/s]"
          ]
        },
        {
          "name": "stdout",
          "output_type": "stream",
          "text": [
            "[✅ 檔案找到] AICUP\\test_data\\3237.txt\n",
            "[✅ 檔案找到] AICUP\\test_data\\3238.txt\n",
            "[✅ 檔案找到] AICUP\\test_data\\3239.txt\n",
            "[✅ 檔案找到] AICUP\\test_data\\3240.txt\n",
            "[✅ 檔案找到] AICUP\\test_data\\3241.txt\n",
            "[✅ 檔案找到] AICUP\\test_data\\3242.txt\n",
            "[✅ 檔案找到] AICUP\\test_data\\3243.txt\n",
            "[✅ 檔案找到] AICUP\\test_data\\3244.txt\n",
            "[✅ 檔案找到] AICUP\\test_data\\3245.txt\n",
            "[✅ 檔案找到] AICUP\\test_data\\3246.txt\n"
          ]
        },
        {
          "name": "stderr",
          "output_type": "stream",
          "text": [
            "📂 處理測試檔案:  89%|████████▉ | 1272/1430 [00:28<00:03, 41.85it/s]"
          ]
        },
        {
          "name": "stdout",
          "output_type": "stream",
          "text": [
            "[✅ 檔案找到] AICUP\\test_data\\3247.txt\n",
            "[✅ 檔案找到] AICUP\\test_data\\3248.txt\n",
            "[✅ 檔案找到] AICUP\\test_data\\3249.txt\n",
            "[✅ 檔案找到] AICUP\\test_data\\3250.txt\n",
            "[✅ 檔案找到] AICUP\\test_data\\3251.txt\n",
            "[✅ 檔案找到] AICUP\\test_data\\3252.txt\n",
            "[✅ 檔案找到] AICUP\\test_data\\3253.txt\n",
            "[✅ 檔案找到] AICUP\\test_data\\3254.txt\n"
          ]
        },
        {
          "name": "stderr",
          "output_type": "stream",
          "text": [
            "📂 處理測試檔案:  90%|████████▉ | 1282/1430 [00:29<00:03, 40.34it/s]"
          ]
        },
        {
          "name": "stdout",
          "output_type": "stream",
          "text": [
            "[✅ 檔案找到] AICUP\\test_data\\3255.txt\n",
            "[✅ 檔案找到] AICUP\\test_data\\3256.txt\n",
            "[✅ 檔案找到] AICUP\\test_data\\3257.txt\n",
            "[✅ 檔案找到] AICUP\\test_data\\3258.txt\n",
            "[✅ 檔案找到] AICUP\\test_data\\3259.txt\n",
            "[✅ 檔案找到] AICUP\\test_data\\3260.txt\n",
            "[✅ 檔案找到] AICUP\\test_data\\3261.txt\n",
            "[✅ 檔案找到] AICUP\\test_data\\3262.txt\n",
            "[✅ 檔案找到] AICUP\\test_data\\3263.txt\n",
            "[✅ 檔案找到] AICUP\\test_data\\3264.txt\n"
          ]
        },
        {
          "name": "stderr",
          "output_type": "stream",
          "text": [
            "📂 處理測試檔案:  90%|█████████ | 1293/1430 [00:29<00:03, 44.21it/s]"
          ]
        },
        {
          "name": "stdout",
          "output_type": "stream",
          "text": [
            "[✅ 檔案找到] AICUP\\test_data\\3265.txt\n",
            "[✅ 檔案找到] AICUP\\test_data\\3266.txt\n",
            "[✅ 檔案找到] AICUP\\test_data\\3267.txt\n",
            "[✅ 檔案找到] AICUP\\test_data\\3268.txt\n",
            "[✅ 檔案找到] AICUP\\test_data\\3269.txt\n",
            "[✅ 檔案找到] AICUP\\test_data\\3270.txt\n",
            "[✅ 檔案找到] AICUP\\test_data\\3271.txt\n",
            "[✅ 檔案找到] AICUP\\test_data\\3272.txt\n",
            "[✅ 檔案找到] AICUP\\test_data\\3273.txt\n"
          ]
        },
        {
          "name": "stderr",
          "output_type": "stream",
          "text": [
            "📂 處理測試檔案:  91%|█████████ | 1298/1430 [00:29<00:02, 44.75it/s]"
          ]
        },
        {
          "name": "stdout",
          "output_type": "stream",
          "text": [
            "[✅ 檔案找到] AICUP\\test_data\\3274.txt\n",
            "[✅ 檔案找到] AICUP\\test_data\\3275.txt\n",
            "[✅ 檔案找到] AICUP\\test_data\\3276.txt\n",
            "[✅ 檔案找到] AICUP\\test_data\\3278.txt\n",
            "[✅ 檔案找到] AICUP\\test_data\\3279.txt\n",
            "[✅ 檔案找到] AICUP\\test_data\\3280.txt\n",
            "[✅ 檔案找到] AICUP\\test_data\\3281.txt\n",
            "[✅ 檔案找到] AICUP\\test_data\\3282.txt\n",
            "[✅ 檔案找到] AICUP\\test_data\\3283.txt\n",
            "[✅ 檔案找到] AICUP\\test_data\\3284.txt\n"
          ]
        },
        {
          "name": "stderr",
          "output_type": "stream",
          "text": [
            "📂 處理測試檔案:  91%|█████████▏| 1308/1430 [00:29<00:02, 44.43it/s]"
          ]
        },
        {
          "name": "stdout",
          "output_type": "stream",
          "text": [
            "[✅ 檔案找到] AICUP\\test_data\\3285.txt\n",
            "[✅ 檔案找到] AICUP\\test_data\\3286.txt\n",
            "[✅ 檔案找到] AICUP\\test_data\\3287.txt\n",
            "[✅ 檔案找到] AICUP\\test_data\\3288.txt\n",
            "[✅ 檔案找到] AICUP\\test_data\\3289.txt\n",
            "[✅ 檔案找到] AICUP\\test_data\\3290.txt\n",
            "[✅ 檔案找到] AICUP\\test_data\\3291.txt\n",
            "[✅ 檔案找到] AICUP\\test_data\\3292.txt\n",
            "[✅ 檔案找到] AICUP\\test_data\\3293.txt\n"
          ]
        },
        {
          "name": "stderr",
          "output_type": "stream",
          "text": [
            "📂 處理測試檔案:  92%|█████████▏| 1318/1430 [00:30<00:02, 44.83it/s]"
          ]
        },
        {
          "name": "stdout",
          "output_type": "stream",
          "text": [
            "[✅ 檔案找到] AICUP\\test_data\\3294.txt\n",
            "[✅ 檔案找到] AICUP\\test_data\\3295.txt\n",
            "[✅ 檔案找到] AICUP\\test_data\\3296.txt\n",
            "[✅ 檔案找到] AICUP\\test_data\\3297.txt\n",
            "[✅ 檔案找到] AICUP\\test_data\\3298.txt\n",
            "[✅ 檔案找到] AICUP\\test_data\\3299.txt\n",
            "[✅ 檔案找到] AICUP\\test_data\\3300.txt\n",
            "[✅ 檔案找到] AICUP\\test_data\\3301.txt\n"
          ]
        },
        {
          "name": "stderr",
          "output_type": "stream",
          "text": [
            "📂 處理測試檔案:  93%|█████████▎| 1328/1430 [00:30<00:02, 45.09it/s]"
          ]
        },
        {
          "name": "stdout",
          "output_type": "stream",
          "text": [
            "[✅ 檔案找到] AICUP\\test_data\\3302.txt\n",
            "[✅ 檔案找到] AICUP\\test_data\\3303.txt\n",
            "[✅ 檔案找到] AICUP\\test_data\\3304.txt\n",
            "[✅ 檔案找到] AICUP\\test_data\\3305.txt\n",
            "[✅ 檔案找到] AICUP\\test_data\\3306.txt\n",
            "[✅ 檔案找到] AICUP\\test_data\\3307.txt\n",
            "[✅ 檔案找到] AICUP\\test_data\\3308.txt\n",
            "[✅ 檔案找到] AICUP\\test_data\\3309.txt\n",
            "[✅ 檔案找到] AICUP\\test_data\\3310.txt\n",
            "[✅ 檔案找到] AICUP\\test_data\\3311.txt\n"
          ]
        },
        {
          "name": "stderr",
          "output_type": "stream",
          "text": [
            "📂 處理測試檔案:  93%|█████████▎| 1334/1430 [00:30<00:02, 46.28it/s]"
          ]
        },
        {
          "name": "stdout",
          "output_type": "stream",
          "text": [
            "[✅ 檔案找到] AICUP\\test_data\\3312.txt\n",
            "[✅ 檔案找到] AICUP\\test_data\\3313.txt\n",
            "[✅ 檔案找到] AICUP\\test_data\\3314.txt\n",
            "[✅ 檔案找到] AICUP\\test_data\\3315.txt\n",
            "[✅ 檔案找到] AICUP\\test_data\\3316.txt\n",
            "[✅ 檔案找到] AICUP\\test_data\\3317.txt\n",
            "[✅ 檔案找到] AICUP\\test_data\\3318.txt\n",
            "[✅ 檔案找到] AICUP\\test_data\\3319.txt\n",
            "[✅ 檔案找到] AICUP\\test_data\\3320.txt\n",
            "[✅ 檔案找到] AICUP\\test_data\\3321.txt\n"
          ]
        },
        {
          "name": "stderr",
          "output_type": "stream",
          "text": [
            "📂 處理測試檔案:  94%|█████████▍| 1346/1430 [00:30<00:01, 49.45it/s]"
          ]
        },
        {
          "name": "stdout",
          "output_type": "stream",
          "text": [
            "[✅ 檔案找到] AICUP\\test_data\\3322.txt\n",
            "[✅ 檔案找到] AICUP\\test_data\\3323.txt\n",
            "[✅ 檔案找到] AICUP\\test_data\\3324.txt\n",
            "[✅ 檔案找到] AICUP\\test_data\\3325.txt\n",
            "[✅ 檔案找到] AICUP\\test_data\\3326.txt\n",
            "[✅ 檔案找到] AICUP\\test_data\\3327.txt\n",
            "[✅ 檔案找到] AICUP\\test_data\\3328.txt\n",
            "[✅ 檔案找到] AICUP\\test_data\\3329.txt\n",
            "[✅ 檔案找到] AICUP\\test_data\\3330.txt\n",
            "[✅ 檔案找到] AICUP\\test_data\\3331.txt\n",
            "[✅ 檔案找到] AICUP\\test_data\\3332.txt\n"
          ]
        },
        {
          "name": "stderr",
          "output_type": "stream",
          "text": [
            "📂 處理測試檔案:  95%|█████████▍| 1358/1430 [00:30<00:01, 48.47it/s]"
          ]
        },
        {
          "name": "stdout",
          "output_type": "stream",
          "text": [
            "[✅ 檔案找到] AICUP\\test_data\\3333.txt\n",
            "[✅ 檔案找到] AICUP\\test_data\\3334.txt\n",
            "[✅ 檔案找到] AICUP\\test_data\\3335.txt\n",
            "[✅ 檔案找到] AICUP\\test_data\\3336.txt\n",
            "[✅ 檔案找到] AICUP\\test_data\\3337.txt\n",
            "[✅ 檔案找到] AICUP\\test_data\\3338.txt\n",
            "[✅ 檔案找到] AICUP\\test_data\\3339.txt\n",
            "[✅ 檔案找到] AICUP\\test_data\\3340.txt\n",
            "[✅ 檔案找到] AICUP\\test_data\\3341.txt\n",
            "[✅ 檔案找到] AICUP\\test_data\\3342.txt\n"
          ]
        },
        {
          "name": "stderr",
          "output_type": "stream",
          "text": [
            "📂 處理測試檔案:  96%|█████████▌| 1368/1430 [00:31<00:01, 46.80it/s]"
          ]
        },
        {
          "name": "stdout",
          "output_type": "stream",
          "text": [
            "[✅ 檔案找到] AICUP\\test_data\\3343.txt\n",
            "[✅ 檔案找到] AICUP\\test_data\\3344.txt\n",
            "[✅ 檔案找到] AICUP\\test_data\\3345.txt\n",
            "[✅ 檔案找到] AICUP\\test_data\\3346.txt\n",
            "[✅ 檔案找到] AICUP\\test_data\\3347.txt\n",
            "[✅ 檔案找到] AICUP\\test_data\\3348.txt\n",
            "[✅ 檔案找到] AICUP\\test_data\\3349.txt\n",
            "[✅ 檔案找到] AICUP\\test_data\\3350.txt\n",
            "[✅ 檔案找到] AICUP\\test_data\\3351.txt\n"
          ]
        },
        {
          "name": "stderr",
          "output_type": "stream",
          "text": [
            "📂 處理測試檔案:  96%|█████████▌| 1373/1430 [00:31<00:01, 46.39it/s]"
          ]
        },
        {
          "name": "stdout",
          "output_type": "stream",
          "text": [
            "[✅ 檔案找到] AICUP\\test_data\\3352.txt\n",
            "[✅ 檔案找到] AICUP\\test_data\\3353.txt\n",
            "[✅ 檔案找到] AICUP\\test_data\\3354.txt\n",
            "[✅ 檔案找到] AICUP\\test_data\\3355.txt\n",
            "[✅ 檔案找到] AICUP\\test_data\\3356.txt\n",
            "[✅ 檔案找到] AICUP\\test_data\\3357.txt\n",
            "[✅ 檔案找到] AICUP\\test_data\\3358.txt\n",
            "[✅ 檔案找到] AICUP\\test_data\\3359.txt\n"
          ]
        },
        {
          "name": "stderr",
          "output_type": "stream",
          "text": [
            "📂 處理測試檔案:  97%|█████████▋| 1383/1430 [00:31<00:01, 43.58it/s]"
          ]
        },
        {
          "name": "stdout",
          "output_type": "stream",
          "text": [
            "[✅ 檔案找到] AICUP\\test_data\\3360.txt\n",
            "[✅ 檔案找到] AICUP\\test_data\\3361.txt\n",
            "[✅ 檔案找到] AICUP\\test_data\\3362.txt\n",
            "[✅ 檔案找到] AICUP\\test_data\\3363.txt\n",
            "[✅ 檔案找到] AICUP\\test_data\\3364.txt\n",
            "[✅ 檔案找到] AICUP\\test_data\\3365.txt\n",
            "[✅ 檔案找到] AICUP\\test_data\\3366.txt\n",
            "[✅ 檔案找到] AICUP\\test_data\\3367.txt\n",
            "[✅ 檔案找到] AICUP\\test_data\\3368.txt\n",
            "[✅ 檔案找到] AICUP\\test_data\\3369.txt\n",
            "[✅ 檔案找到] AICUP\\test_data\\3370.txt\n"
          ]
        },
        {
          "name": "stderr",
          "output_type": "stream",
          "text": [
            "📂 處理測試檔案:  98%|█████████▊| 1395/1430 [00:31<00:00, 46.60it/s]"
          ]
        },
        {
          "name": "stdout",
          "output_type": "stream",
          "text": [
            "[✅ 檔案找到] AICUP\\test_data\\3371.txt\n",
            "[✅ 檔案找到] AICUP\\test_data\\3372.txt\n",
            "[✅ 檔案找到] AICUP\\test_data\\3373.txt\n",
            "[✅ 檔案找到] AICUP\\test_data\\3374.txt\n",
            "[✅ 檔案找到] AICUP\\test_data\\3375.txt\n",
            "[✅ 檔案找到] AICUP\\test_data\\3376.txt\n",
            "[✅ 檔案找到] AICUP\\test_data\\3377.txt\n",
            "[✅ 檔案找到] AICUP\\test_data\\3378.txt\n",
            "[✅ 檔案找到] AICUP\\test_data\\3379.txt\n",
            "[✅ 檔案找到] AICUP\\test_data\\3380.txt\n",
            "[✅ 檔案找到] AICUP\\test_data\\3381.txt\n"
          ]
        },
        {
          "name": "stderr",
          "output_type": "stream",
          "text": [
            "📂 處理測試檔案:  98%|█████████▊| 1406/1430 [00:31<00:00, 46.71it/s]"
          ]
        },
        {
          "name": "stdout",
          "output_type": "stream",
          "text": [
            "[✅ 檔案找到] AICUP\\test_data\\3382.txt\n",
            "[✅ 檔案找到] AICUP\\test_data\\3383.txt\n",
            "[✅ 檔案找到] AICUP\\test_data\\3384.txt\n",
            "[✅ 檔案找到] AICUP\\test_data\\3385.txt\n",
            "[✅ 檔案找到] AICUP\\test_data\\3386.txt\n",
            "[✅ 檔案找到] AICUP\\test_data\\3387.txt\n",
            "[✅ 檔案找到] AICUP\\test_data\\3388.txt\n",
            "[✅ 檔案找到] AICUP\\test_data\\3389.txt\n",
            "[✅ 檔案找到] AICUP\\test_data\\3390.txt\n"
          ]
        },
        {
          "name": "stderr",
          "output_type": "stream",
          "text": [
            "📂 處理測試檔案:  99%|█████████▉| 1416/1430 [00:32<00:00, 45.22it/s]"
          ]
        },
        {
          "name": "stdout",
          "output_type": "stream",
          "text": [
            "[✅ 檔案找到] AICUP\\test_data\\3391.txt\n",
            "[✅ 檔案找到] AICUP\\test_data\\3392.txt\n",
            "[✅ 檔案找到] AICUP\\test_data\\3393.txt\n",
            "[✅ 檔案找到] AICUP\\test_data\\3394.txt\n",
            "[✅ 檔案找到] AICUP\\test_data\\3395.txt\n",
            "[✅ 檔案找到] AICUP\\test_data\\3396.txt\n",
            "[✅ 檔案找到] AICUP\\test_data\\3397.txt\n",
            "[✅ 檔案找到] AICUP\\test_data\\3398.txt\n",
            "[✅ 檔案找到] AICUP\\test_data\\3399.txt\n"
          ]
        },
        {
          "name": "stderr",
          "output_type": "stream",
          "text": [
            "📂 處理測試檔案: 100%|█████████▉| 1426/1430 [00:32<00:00, 47.05it/s]"
          ]
        },
        {
          "name": "stdout",
          "output_type": "stream",
          "text": [
            "[✅ 檔案找到] AICUP\\test_data\\3400.txt\n",
            "[✅ 檔案找到] AICUP\\test_data\\3401.txt\n",
            "[✅ 檔案找到] AICUP\\test_data\\3402.txt\n",
            "[✅ 檔案找到] AICUP\\test_data\\3403.txt\n",
            "[✅ 檔案找到] AICUP\\test_data\\3404.txt\n",
            "[✅ 檔案找到] AICUP\\test_data\\3405.txt\n",
            "[✅ 檔案找到] AICUP\\test_data\\3406.txt\n",
            "[✅ 檔案找到] AICUP\\test_data\\3407.txt\n",
            "[✅ 檔案找到] AICUP\\test_data\\3408.txt\n",
            "[✅ 檔案找到] AICUP\\test_data\\3409.txt\n"
          ]
        },
        {
          "name": "stderr",
          "output_type": "stream",
          "text": [
            "📂 處理測試檔案: 100%|██████████| 1430/1430 [00:32<00:00, 44.04it/s]"
          ]
        },
        {
          "name": "stdout",
          "output_type": "stream",
          "text": [
            "[✅ 檔案找到] AICUP\\test_data\\3410.txt\n",
            "[✅ 檔案找到] AICUP\\test_data\\3411.txt\n",
            "\n",
            "✅ 共儲存 38610 筆測試資料到：AICUP\\sequence_data_test\n"
          ]
        },
        {
          "name": "stderr",
          "output_type": "stream",
          "text": [
            "\n"
          ]
        }
      ],
      "source": [
        "import os\n",
        "import re\n",
        "import numpy as np\n",
        "import pandas as pd\n",
        "from pathlib import Path\n",
        "from tqdm import tqdm\n",
        "import joblib\n",
        "\n",
        "# === 路徑設定 ===\n",
        "ROOT = Path('./AICUP')\n",
        "TXT_DIR = ROOT / 'test_data'\n",
        "INFO_CSV = ROOT / 'test_info.csv'\n",
        "SAVE_DIR = ROOT / 'sequence_data_test'\n",
        "SCALER_PATH = ROOT / 'scaler.pkl'\n",
        "SAVE_DIR.mkdir(parents=True, exist_ok=True)\n",
        "\n",
        "# === 載入 cut_point ===\n",
        "info = pd.read_csv(INFO_CSV)\n",
        "\n",
        "def fix_cut_point_format(x):\n",
        "    if pd.isna(x):\n",
        "        return []\n",
        "    return [int(n) for n in re.findall(r'\\d+', str(x))]\n",
        "\n",
        "info['cut_point'] = info['cut_point'].apply(fix_cut_point_format)\n",
        "info = info[info['cut_point'].apply(lambda x: len(x) >= 2)]\n",
        "\n",
        "# === 載入訓練用的 StandardScaler ===\n",
        "scaler = joblib.load(SCALER_PATH)\n",
        "\n",
        "# === txt to array ===\n",
        "def read_txt_as_array(txt_path):\n",
        "    lines = Path(txt_path).read_text().splitlines()\n",
        "    data = []\n",
        "    for line in lines:\n",
        "        parts = line.strip().split()\n",
        "        if len(parts) == 6:\n",
        "            try:\n",
        "                data.append([int(x) for x in parts])\n",
        "            except:\n",
        "                continue\n",
        "    return np.array(data)\n",
        "\n",
        "# === 開始處理每個檔案 ===\n",
        "count = 0\n",
        "for _, row in tqdm(info.iterrows(), total=len(info), desc=\"📂 處理測試檔案\"):\n",
        "    uid = row['unique_id']\n",
        "    cut_points = row['cut_point']\n",
        "    uid_int = int(float(uid))\n",
        "    txt_file = TXT_DIR / f\"{uid_int}.txt\"\n",
        "    \n",
        "    if not txt_file.exists():\n",
        "        print(f\"[❌ 檔案不存在] {txt_file}\")\n",
        "        continue\n",
        "    else:\n",
        "        print(f\"[✅ 檔案找到] {txt_file}\")\n",
        "\n",
        "\n",
        "    if not txt_file.exists():\n",
        "        continue\n",
        "\n",
        "    raw = read_txt_as_array(txt_file)\n",
        "\n",
        "    for i in range(len(cut_points) - 1):\n",
        "        start, end = cut_points[i], cut_points[i + 1]\n",
        "        segment = raw[start:end]\n",
        "\n",
        "        # 補 0 到 (85, 6)\n",
        "        if segment.shape[0] < 85:\n",
        "            pad = np.zeros((85 - segment.shape[0], 6))\n",
        "            segment = np.vstack([segment, pad])\n",
        "        elif segment.shape[0] > 85:\n",
        "            segment = segment[:85]\n",
        "\n",
        "        if segment.shape != (85, 6):\n",
        "            continue\n",
        "\n",
        "        # 使用 scaler 做 Z-score 正規化\n",
        "        normed = scaler.transform(segment)\n",
        "\n",
        "        # 儲存為 npy\n",
        "        np.save(SAVE_DIR / f\"{uid}_{i}.npy\", normed)\n",
        "        count += 1\n",
        "\n",
        "print(f\"\\n✅ 共儲存 {count} 筆測試資料到：{SAVE_DIR}\")\n"
      ]
    },
    {
      "cell_type": "code",
      "execution_count": 12,
      "metadata": {},
      "outputs": [
        {
          "name": "stderr",
          "output_type": "stream",
          "text": [
            "讀取 npy: 100%|██████████| 1955/1955 [09:14<00:00,  3.53it/s] \n"
          ]
        }
      ],
      "source": [
        "import os\n",
        "import numpy as np\n",
        "import pandas as pd\n",
        "from pathlib import Path\n",
        "from sklearn.model_selection import GroupShuffleSplit\n",
        "from sklearn.preprocessing import LabelEncoder\n",
        "import tensorflow as tf\n",
        "from tensorflow.keras.models import Model\n",
        "from tensorflow.keras.layers import Input, Conv1D, MaxPooling1D, Bidirectional, LSTM, Dense, Dropout, BatchNormalization, GlobalAveragePooling1D\n",
        "\n",
        "# === 資料夾與標籤檔案路徑 ===\n",
        "DATA_DIR = Path(\"./AICUP/sequence_data_train\")\n",
        "INFO_CSV = Path(\"./AICUP/train_info.csv\")\n",
        "\n",
        "# === 讀取 train_info.csv ===\n",
        "info = pd.read_csv(INFO_CSV)\n",
        "\n",
        "# === 收集每筆 npy 資料與標籤 ===\n",
        "from tqdm import tqdm\n",
        "\n",
        "X, y_gender, y_handed, y_years, y_level, groups = [], [], [], [], [], []\n",
        "\n",
        "for i, row in tqdm(info.iterrows(), total=len(info), desc=\"讀取 npy\"):\n",
        "    uid = row['unique_id']\n",
        "    pid = row['player_id']\n",
        "    for seg_id in range(27):\n",
        "        npy_path = DATA_DIR / f\"{uid}_{seg_id}.npy\"\n",
        "        if not npy_path.exists():\n",
        "            continue\n",
        "        data = np.load(npy_path)\n",
        "        if data.shape != (85, 6):\n",
        "            continue\n",
        "        X.append(data)\n",
        "        y_gender.append(row['gender'])\n",
        "        y_handed.append(row['hold racket handed'])\n",
        "        y_years.append(row['play years'])\n",
        "        y_level.append(row['level'])\n",
        "        groups.append(pid)\n",
        "\n",
        "\n",
        "X = np.array(X)\n",
        "\n",
        "# === 標籤編碼 ===\n",
        "le_gender = LabelEncoder(); y_gender = le_gender.fit_transform(y_gender)\n",
        "le_handed = LabelEncoder(); y_handed = le_handed.fit_transform(y_handed)\n",
        "le_years = LabelEncoder(); y_years = le_years.fit_transform(y_years)\n",
        "le_level = LabelEncoder(); y_level = le_level.fit_transform(y_level)\n",
        "\n",
        "# === 分訓練/驗證集（依 player_id）===\n",
        "gss = GroupShuffleSplit(n_splits=1, test_size=0.2, random_state=42)\n",
        "train_idx, val_idx = next(gss.split(X, groups=groups))\n",
        "\n",
        "X_train, X_val = X[train_idx], X[val_idx]\n",
        "y_gender_train, y_gender_val = y_gender[train_idx], y_gender[val_idx]\n",
        "y_handed_train, y_handed_val = y_handed[train_idx], y_handed[val_idx]\n",
        "y_years_train, y_years_val = y_years[train_idx], y_years[val_idx]\n",
        "y_level_train, y_level_val = y_level[train_idx], y_level[val_idx]\n"
      ]
    },
    {
      "cell_type": "code",
      "execution_count": 19,
      "metadata": {},
      "outputs": [
        {
          "name": "stdout",
          "output_type": "stream",
          "text": [
            "3211\n"
          ]
        }
      ],
      "source": [
        "from pathlib import Path\n",
        "import numpy as np\n",
        "import pandas as pd\n",
        "import math\n",
        "import csv\n",
        "from sklearn.model_selection import train_test_split\n",
        "from sklearn.ensemble import RandomForestClassifier\n",
        "from sklearn.preprocessing import MinMaxScaler, LabelEncoder\n",
        "from sklearn.metrics import roc_auc_score\n",
        "\n",
        "def FFT(xreal, ximag):    \n",
        "    n = 2\n",
        "    while(n*2 <= len(xreal)):\n",
        "        n *= 2\n",
        "    \n",
        "    p = int(math.log(n, 2))\n",
        "    \n",
        "    for i in range(0, n):\n",
        "        a = i\n",
        "        b = 0\n",
        "        for j in range(0, p):\n",
        "            b = int(b*2 + a%2)\n",
        "            a = a/2\n",
        "        if(b > i):\n",
        "            xreal[i], xreal[b] = xreal[b], xreal[i]\n",
        "            ximag[i], ximag[b] = ximag[b], ximag[i]\n",
        "            \n",
        "    wreal = []\n",
        "    wimag = []\n",
        "        \n",
        "    arg = float(-2 * math.pi / n)\n",
        "    treal = float(math.cos(arg))\n",
        "    timag = float(math.sin(arg))\n",
        "    \n",
        "    wreal.append(float(1.0))\n",
        "    wimag.append(float(0.0))\n",
        "    \n",
        "    for j in range(1, int(n/2)):\n",
        "        wreal.append(wreal[-1] * treal - wimag[-1] * timag)\n",
        "        wimag.append(wreal[-1] * timag + wimag[-1] * treal)\n",
        "        \n",
        "    m = 2\n",
        "    while(m < n + 1):\n",
        "        for k in range(0, n, m):\n",
        "            for j in range(0, int(m/2), 1):\n",
        "                index1 = k + j\n",
        "                index2 = int(index1 + m / 2)\n",
        "                t = int(n * j / m)\n",
        "                treal = wreal[t] * xreal[index2] - wimag[t] * ximag[index2]\n",
        "                timag = wreal[t] * ximag[index2] + wimag[t] * xreal[index2]\n",
        "                ureal = xreal[index1]\n",
        "                uimag = ximag[index1]\n",
        "                xreal[index1] = ureal + treal\n",
        "                ximag[index1] = uimag + timag\n",
        "                xreal[index2] = ureal - treal\n",
        "                ximag[index2] = uimag - timag\n",
        "        m *= 2\n",
        "        \n",
        "    return n, xreal, ximag   \n",
        "    \n",
        "def FFT_data(input_data, swinging_times):   \n",
        "    txtlength = swinging_times[-1] - swinging_times[0]\n",
        "    a_mean = [0] * txtlength\n",
        "    g_mean = [0] * txtlength\n",
        "       \n",
        "    for num in range(len(swinging_times)-1):\n",
        "        a = []\n",
        "        g = []\n",
        "        for swing in range(swinging_times[num], swinging_times[num+1]):\n",
        "            a.append(math.sqrt(math.pow((input_data[swing][0] + input_data[swing][1] + input_data[swing][2]), 2)))\n",
        "            g.append(math.sqrt(math.pow((input_data[swing][3] + input_data[swing][4] + input_data[swing][5]), 2)))\n",
        "\n",
        "        a_mean[num] = (sum(a) / len(a))\n",
        "        g_mean[num] = (sum(a) / len(a))\n",
        "    \n",
        "    return a_mean, g_mean\n",
        "\n",
        "def feature(input_data, swinging_now, swinging_times, n_fft, a_fft, g_fft, a_fft_imag, g_fft_imag, writer):\n",
        "    allsum = []\n",
        "    mean = []\n",
        "    var = []\n",
        "    rms = []\n",
        "    XYZmean_a = 0\n",
        "    a = []\n",
        "    g = []\n",
        "    a_s1 = 0\n",
        "    a_s2 = 0\n",
        "    g_s1 = 0\n",
        "    g_s2 = 0\n",
        "    a_k1 = 0\n",
        "    a_k2 = 0\n",
        "    g_k1 = 0\n",
        "    g_k2 = 0\n",
        "    \n",
        "    for i in range(len(input_data)):\n",
        "        if i==0:\n",
        "            allsum = input_data[i]\n",
        "            a.append(math.sqrt(math.pow((input_data[i][0] + input_data[i][1] + input_data[i][2]), 2)))\n",
        "            g.append(math.sqrt(math.pow((input_data[i][3] + input_data[i][4] + input_data[i][5]), 2)))\n",
        "            continue\n",
        "        \n",
        "        a.append(math.sqrt(math.pow((input_data[i][0] + input_data[i][1] + input_data[i][2]), 2)))\n",
        "        g.append(math.sqrt(math.pow((input_data[i][3] + input_data[i][4] + input_data[i][5]), 2)))\n",
        "       \n",
        "        allsum = [allsum[feature_index] + input_data[i][feature_index] for feature_index in range(len(input_data[i]))]\n",
        "        \n",
        "    mean = [allsum[feature_index] / len(input_data) for feature_index in range(len(input_data[i]))]\n",
        "    \n",
        "    for i in range(len(input_data)):\n",
        "        if i==0:\n",
        "            var = input_data[i]\n",
        "            rms = input_data[i]\n",
        "            continue\n",
        "\n",
        "        var = [var[feature_index] + math.pow((input_data[i][feature_index] - mean[feature_index]), 2) for feature_index in range(len(input_data[i]))]\n",
        "        rms = [rms[feature_index] + math.pow(input_data[i][feature_index], 2) for feature_index in range(len(input_data[i]))]\n",
        "        \n",
        "    var = [math.sqrt((var[feature_index] / len(input_data))) for feature_index in range(len(input_data[i]))]\n",
        "    rms = [math.sqrt((rms[feature_index] / len(input_data))) for feature_index in range(len(input_data[i]))]\n",
        "    \n",
        "    a_max = [max(a)]\n",
        "    a_min = [min(a)]\n",
        "    a_mean = [sum(a) / len(a)]\n",
        "    g_max = [max(g)]\n",
        "    g_min = [min(g)]\n",
        "    g_mean = [sum(g) / len(g)]\n",
        "    \n",
        "    a_var = math.sqrt(math.pow((var[0] + var[1] + var[2]), 2))\n",
        "    \n",
        "    for i in range(len(input_data)):\n",
        "        a_s1 = a_s1 + math.pow((a[i] - a_mean[0]), 4)\n",
        "        a_s2 = a_s2 + math.pow((a[i] - a_mean[0]), 2)\n",
        "        g_s1 = g_s1 + math.pow((g[i] - g_mean[0]), 4)\n",
        "        g_s2 = g_s2 + math.pow((g[i] - g_mean[0]), 2)\n",
        "        a_k1 = a_k1 + math.pow((a[i] - a_mean[0]), 3)\n",
        "        g_k1 = g_k1 + math.pow((g[i] - g_mean[0]), 3)\n",
        "    \n",
        "    a_s1 = a_s1 / len(input_data)\n",
        "    a_s2 = a_s2 / len(input_data)\n",
        "    g_s1 = g_s1 / len(input_data)\n",
        "    g_s2 = g_s2 / len(input_data)\n",
        "    a_k2 = math.pow(a_s2, 1.5)\n",
        "    g_k2 = math.pow(g_s2, 1.5)\n",
        "    a_s2 = a_s2 * a_s2\n",
        "    g_s2 = g_s2 * g_s2\n",
        "    \n",
        "    a_kurtosis = [a_s1 / a_s2]\n",
        "    g_kurtosis = [g_s1 / g_s2]\n",
        "    a_skewness = [a_k1 / a_k2]\n",
        "    g_skewness = [g_k1 / g_k2]\n",
        "    \n",
        "    a_fft_mean = 0\n",
        "    g_fft_mean = 0\n",
        "    cut = int(n_fft / swinging_times)\n",
        "    a_psd = []\n",
        "    g_psd = []\n",
        "    entropy_a = []\n",
        "    entropy_g = []\n",
        "    e1 = []\n",
        "    e3 = []\n",
        "    e2 = 0\n",
        "    e4 = 0\n",
        "    \n",
        "    for i in range(cut * swinging_now, cut * (swinging_now + 1)):\n",
        "        a_fft_mean += a_fft[i]\n",
        "        g_fft_mean += g_fft[i]\n",
        "        a_psd.append(math.pow(a_fft[i], 2) + math.pow(a_fft_imag[i], 2))\n",
        "        g_psd.append(math.pow(g_fft[i], 2) + math.pow(g_fft_imag[i], 2))\n",
        "        e1.append(math.pow(a_psd[-1], 0.5))\n",
        "        e3.append(math.pow(g_psd[-1], 0.5))\n",
        "        \n",
        "    a_fft_mean = a_fft_mean / cut\n",
        "    g_fft_mean = g_fft_mean / cut\n",
        "    \n",
        "    a_psd_mean = sum(a_psd) / len(a_psd)\n",
        "    g_psd_mean = sum(g_psd) / len(g_psd)\n",
        "    \n",
        "    for i in range(cut):\n",
        "        e2 += math.pow(a_psd[i], 0.5)\n",
        "        e4 += math.pow(g_psd[i], 0.5)\n",
        "    \n",
        "    for i in range(cut):\n",
        "        entropy_a.append((e1[i] / e2) * math.log(e1[i] / e2))\n",
        "        entropy_g.append((e3[i] / e4) * math.log(e3[i] / e4))\n",
        "    \n",
        "    a_entropy_mean = sum(entropy_a) / len(entropy_a)\n",
        "    g_entropy_mean = sum(entropy_g) / len(entropy_g)       \n",
        "        \n",
        "    \n",
        "    output = mean + var + rms + a_max + a_mean + a_min + g_max + g_mean + g_min + [a_fft_mean] + [g_fft_mean] + [a_psd_mean] + [g_psd_mean] + a_kurtosis + g_kurtosis + a_skewness + g_skewness + [a_entropy_mean] + [g_entropy_mean]\n",
        "    writer.writerow(output)\n",
        "\n",
        "def data_generate():\n",
        "    datapath = './AICUP/test_data'\n",
        "    tar_dir = './AICUP/tabular_data_test'\n",
        "    pathlist_txt = Path(datapath).glob('**/*.txt')\n",
        "    os.makedirs(tar_dir, exist_ok=True)\n",
        "    \n",
        "    for file in pathlist_txt:\n",
        "        f = open(file)\n",
        "\n",
        "        All_data = []\n",
        "\n",
        "        count = 0\n",
        "        for line in f.readlines():\n",
        "            if line == '\\n' or count == 0:\n",
        "                count += 1\n",
        "                continue\n",
        "            num = line.split(' ')\n",
        "            if len(num) > 5:\n",
        "                tmp_list = []\n",
        "                for i in range(6):\n",
        "                    tmp_list.append(int(num[i]))\n",
        "                All_data.append(tmp_list)\n",
        "        \n",
        "        f.close()\n",
        "\n",
        "        swing_index = np.linspace(0, len(All_data), 28, dtype = int)\n",
        "        # filename.append(int(Path(file).stem))\n",
        "        # all_swing.append([swing_index])\n",
        "\n",
        "        headerList = ['ax_mean', 'ay_mean', 'az_mean', 'gx_mean', 'gy_mean', 'gz_mean', 'ax_var', 'ay_var', 'az_var', 'gx_var', 'gy_var', 'gz_var', 'ax_rms', 'ay_rms', 'az_rms', 'gx_rms', 'gy_rms', 'gz_rms', 'a_max', 'a_mean', 'a_min', 'g_max', 'g_mean', 'g_min', 'a_fft', 'g_fft', 'a_psd', 'g_psd', 'a_kurt', 'g_kurt', 'a_skewn', 'g_skewn', 'a_entropy', 'g_entropy']                \n",
        "        \n",
        "\n",
        "        with open('./{dir}/{fname}.csv'.format(dir = tar_dir, fname = Path(file).stem), 'w', newline = '') as csvfile:\n",
        "            writer = csv.writer(csvfile)\n",
        "            writer.writerow(headerList)\n",
        "            try:\n",
        "                a_fft, g_fft = FFT_data(All_data, swing_index)\n",
        "                a_fft_imag = [0] * len(a_fft)\n",
        "                g_fft_imag = [0] * len(g_fft)\n",
        "                n_fft, a_fft, a_fft_imag = FFT(a_fft, a_fft_imag)\n",
        "                n_fft, g_fft, g_fft_imag = FFT(g_fft, g_fft_imag)\n",
        "                for i in range(len(swing_index)):\n",
        "                    if i==0:\n",
        "                        continue\n",
        "                    feature(All_data[swing_index[i-1]: swing_index[i]], i - 1, len(swing_index) - 1, n_fft, a_fft, g_fft, a_fft_imag, g_fft_imag, writer)\n",
        "            except:\n",
        "                print(Path(file).stem)\n",
        "                continue\n",
        "data_generate()\n"
      ]
    },
    {
      "cell_type": "code",
      "execution_count": null,
      "metadata": {},
      "outputs": [
        {
          "name": "stdout",
          "output_type": "stream",
          "text": [
            "✅ Tabular MinMaxScaler 已儲存至: ./AICUP/tabular_scaler.pkl\n"
          ]
        }
      ],
      "source": [
        "import pandas as pd\n",
        "import numpy as np\n",
        "from pathlib import Path\n",
        "from sklearn.preprocessing import MinMaxScaler\n",
        "import joblib\n",
        "\n",
        "# === 設定路徑 ===\n",
        "TABULAR_DIR = Path(\"./AICUP/tabular_data_train\")\n",
        "SCALER_PATH = \"./AICUP/tabular_scaler.pkl\"\n",
        "\n",
        "# === 收集所有 tabular 特徵 ===\n",
        "tabular_list = []\n",
        "for file in sorted(TABULAR_DIR.glob(\"*.csv\")):\n",
        "    df = pd.read_csv(file)\n",
        "    tabular_list.append(df.values)  # shape: (27, 34)\n",
        "\n",
        "X_all = np.vstack(tabular_list)  # shape: (N, 34)\n",
        "\n",
        "# === 建立與儲存 MinMaxScaler ===\n",
        "scaler = MinMaxScaler()\n",
        "scaler.fit(X_all)\n",
        "\n",
        "joblib.dump(scaler, SCALER_PATH)\n",
        "print(f\"✅ Tabular MinMaxScaler 已儲存至: {SCALER_PATH}\")\n"
      ]
    },
    {
      "cell_type": "code",
      "execution_count": 14,
      "metadata": {},
      "outputs": [
        {
          "name": "stdout",
          "output_type": "stream",
          "text": [
            "Model: \"model_1\"\n",
            "__________________________________________________________________________________________________\n",
            " Layer (type)                Output Shape                 Param #   Connected to                  \n",
            "==================================================================================================\n",
            " input_3 (InputLayer)        [(None, 40, 6)]              0         []                            \n",
            "                                                                                                  \n",
            " conv1d_2 (Conv1D)           (None, 40, 64)               1216      ['input_3[0][0]']             \n",
            "                                                                                                  \n",
            " batch_normalization_4 (Bat  (None, 40, 64)               256       ['conv1d_2[0][0]']            \n",
            " chNormalization)                                                                                 \n",
            "                                                                                                  \n",
            " conv1d_3 (Conv1D)           (None, 40, 128)              41088     ['batch_normalization_4[0][0]'\n",
            "                                                                    ]                             \n",
            "                                                                                                  \n",
            " batch_normalization_5 (Bat  (None, 40, 128)              512       ['conv1d_3[0][0]']            \n",
            " chNormalization)                                                                                 \n",
            "                                                                                                  \n",
            " input_4 (InputLayer)        [(None, 34)]                 0         []                            \n",
            "                                                                                                  \n",
            " max_pooling1d_1 (MaxPoolin  (None, 20, 128)              0         ['batch_normalization_5[0][0]'\n",
            " g1D)                                                               ]                             \n",
            "                                                                                                  \n",
            " dense_4 (Dense)             (None, 256)                  8960      ['input_4[0][0]']             \n",
            "                                                                                                  \n",
            " dropout_5 (Dropout)         (None, 20, 128)              0         ['max_pooling1d_1[0][0]']     \n",
            "                                                                                                  \n",
            " batch_normalization_6 (Bat  (None, 256)                  1024      ['dense_4[0][0]']             \n",
            " chNormalization)                                                                                 \n",
            "                                                                                                  \n",
            " bidirectional_1 (Bidirecti  (None, 20, 256)              263168    ['dropout_5[0][0]']           \n",
            " onal)                                                                                            \n",
            "                                                                                                  \n",
            " dropout_6 (Dropout)         (None, 256)                  0         ['batch_normalization_6[0][0]'\n",
            "                                                                    ]                             \n",
            "                                                                                                  \n",
            " layer_normalization_2 (Lay  (None, 20, 256)              512       ['bidirectional_1[0][0]']     \n",
            " erNormalization)                                                                                 \n",
            "                                                                                                  \n",
            " dense_5 (Dense)             (None, 128)                  32896     ['dropout_6[0][0]']           \n",
            "                                                                                                  \n",
            " multi_head_attention_1 (Mu  (None, 20, 256)              131712    ['layer_normalization_2[0][0]'\n",
            " ltiHeadAttention)                                                  , 'layer_normalization_2[0][0]\n",
            "                                                                    ']                            \n",
            "                                                                                                  \n",
            " batch_normalization_7 (Bat  (None, 128)                  512       ['dense_5[0][0]']             \n",
            " chNormalization)                                                                                 \n",
            "                                                                                                  \n",
            " tf.__operators__.add_1 (TF  (None, 20, 256)              0         ['layer_normalization_2[0][0]'\n",
            " OpLambda)                                                          , 'multi_head_attention_1[0][0\n",
            "                                                                    ]']                           \n",
            "                                                                                                  \n",
            " dropout_7 (Dropout)         (None, 128)                  0         ['batch_normalization_7[0][0]'\n",
            "                                                                    ]                             \n",
            "                                                                                                  \n",
            " layer_normalization_3 (Lay  (None, 20, 256)              512       ['tf.__operators__.add_1[0][0]\n",
            " erNormalization)                                                   ']                            \n",
            "                                                                                                  \n",
            " dense_6 (Dense)             (None, 64)                   8256      ['dropout_7[0][0]']           \n",
            "                                                                                                  \n",
            " global_average_pooling1d_1  (None, 256)                  0         ['layer_normalization_3[0][0]'\n",
            "  (GlobalAveragePooling1D)                                          ]                             \n",
            "                                                                                                  \n",
            " dropout_8 (Dropout)         (None, 64)                   0         ['dense_6[0][0]']             \n",
            "                                                                                                  \n",
            " concatenate_1 (Concatenate  (None, 320)                  0         ['global_average_pooling1d_1[0\n",
            " )                                                                  ][0]',                        \n",
            "                                                                     'dropout_8[0][0]']           \n",
            "                                                                                                  \n",
            " dense_7 (Dense)             (None, 128)                  41088     ['concatenate_1[0][0]']       \n",
            "                                                                                                  \n",
            " dropout_9 (Dropout)         (None, 128)                  0         ['dense_7[0][0]']             \n",
            "                                                                                                  \n",
            " gender (Dense)              (None, 1)                    129       ['dropout_9[0][0]']           \n",
            "                                                                                                  \n",
            " handed (Dense)              (None, 1)                    129       ['dropout_9[0][0]']           \n",
            "                                                                                                  \n",
            " years (Dense)               (None, 3)                    387       ['dropout_9[0][0]']           \n",
            "                                                                                                  \n",
            " level (Dense)               (None, 4)                    516       ['dropout_9[0][0]']           \n",
            "                                                                                                  \n",
            "==================================================================================================\n",
            "Total params: 532873 (2.03 MB)\n",
            "Trainable params: 531721 (2.03 MB)\n",
            "Non-trainable params: 1152 (4.50 KB)\n",
            "__________________________________________________________________________________________________\n",
            "Epoch 1/50\n",
            "1320/1320 [==============================] - 130s 95ms/step - loss: 2.2812 - gender_loss: 0.3892 - handed_loss: 0.1324 - years_loss: 0.9059 - level_loss: 0.8537 - gender_auc: 0.7898 - handed_auc: 0.9796 - years_auc: 0.7825 - level_auc: 0.8779 - val_loss: 2.4391 - val_gender_loss: 0.3059 - val_handed_loss: 0.1284 - val_years_loss: 0.9547 - val_level_loss: 1.0501 - val_gender_auc: 0.8385 - val_handed_auc: 0.9894 - val_years_auc: 0.7914 - val_level_auc: 0.8641 - lr: 0.0010\n",
            "Epoch 2/50\n",
            "1320/1320 [==============================] - 123s 93ms/step - loss: 1.5966 - gender_loss: 0.2730 - handed_loss: 0.0387 - years_loss: 0.6838 - level_loss: 0.6011 - gender_auc: 0.8968 - handed_auc: 0.9981 - years_auc: 0.8746 - level_auc: 0.9375 - val_loss: 2.6494 - val_gender_loss: 0.3008 - val_handed_loss: 0.3923 - val_years_loss: 0.8902 - val_level_loss: 1.0660 - val_gender_auc: 0.8557 - val_handed_auc: 0.8868 - val_years_auc: 0.8002 - val_level_auc: 0.8444 - lr: 0.0010\n",
            "Epoch 3/50\n",
            "1320/1320 [==============================] - 126s 95ms/step - loss: 1.2479 - gender_loss: 0.1969 - handed_loss: 0.0259 - years_loss: 0.5519 - level_loss: 0.4732 - gender_auc: 0.9473 - handed_auc: 0.9987 - years_auc: 0.9185 - level_auc: 0.9605 - val_loss: 2.5027 - val_gender_loss: 0.3612 - val_handed_loss: 0.1231 - val_years_loss: 1.0467 - val_level_loss: 0.9718 - val_gender_auc: 0.7737 - val_handed_auc: 0.9847 - val_years_auc: 0.7776 - val_level_auc: 0.8599 - lr: 0.0010\n",
            "Epoch 4/50\n",
            "1320/1320 [==============================] - 132s 100ms/step - loss: 1.0343 - gender_loss: 0.1677 - handed_loss: 0.0262 - years_loss: 0.4681 - level_loss: 0.3723 - gender_auc: 0.9633 - handed_auc: 0.9972 - years_auc: 0.9410 - level_auc: 0.9750 - val_loss: 2.9352 - val_gender_loss: 0.3917 - val_handed_loss: 0.1914 - val_years_loss: 0.9834 - val_level_loss: 1.3687 - val_gender_auc: 0.7950 - val_handed_auc: 0.9739 - val_years_auc: 0.8252 - val_level_auc: 0.8507 - lr: 0.0010\n",
            "Epoch 5/50\n",
            "1320/1320 [==============================] - 126s 95ms/step - loss: 0.9048 - gender_loss: 0.1425 - handed_loss: 0.0205 - years_loss: 0.3971 - level_loss: 0.3447 - gender_auc: 0.9729 - handed_auc: 0.9990 - years_auc: 0.9577 - level_auc: 0.9783 - val_loss: 2.6523 - val_gender_loss: 0.3948 - val_handed_loss: 0.1889 - val_years_loss: 0.9823 - val_level_loss: 1.0863 - val_gender_auc: 0.8168 - val_handed_auc: 0.9752 - val_years_auc: 0.8319 - val_level_auc: 0.8868 - lr: 0.0010\n",
            "Epoch 6/50\n",
            "1320/1320 [==============================] - 128s 97ms/step - loss: 0.7210 - gender_loss: 0.1177 - handed_loss: 0.0152 - years_loss: 0.3133 - level_loss: 0.2748 - gender_auc: 0.9807 - handed_auc: 0.9992 - years_auc: 0.9730 - level_auc: 0.9857 - val_loss: 2.9801 - val_gender_loss: 0.4897 - val_handed_loss: 0.4193 - val_years_loss: 0.9284 - val_level_loss: 1.1427 - val_gender_auc: 0.7718 - val_handed_auc: 0.8901 - val_years_auc: 0.8418 - val_level_auc: 0.8763 - lr: 0.0010\n",
            "Epoch 7/50\n",
            "1320/1320 [==============================] - 139s 105ms/step - loss: 0.6350 - gender_loss: 0.0979 - handed_loss: 0.0121 - years_loss: 0.2805 - level_loss: 0.2445 - gender_auc: 0.9866 - handed_auc: 0.9995 - years_auc: 0.9783 - level_auc: 0.9884 - val_loss: 2.8139 - val_gender_loss: 0.4019 - val_handed_loss: 0.2226 - val_years_loss: 1.1096 - val_level_loss: 1.0798 - val_gender_auc: 0.8003 - val_handed_auc: 0.9612 - val_years_auc: 0.7966 - val_level_auc: 0.8745 - lr: 0.0010\n",
            "Epoch 8/50\n",
            "1320/1320 [==============================] - 137s 104ms/step - loss: 0.5556 - gender_loss: 0.0872 - handed_loss: 0.0130 - years_loss: 0.2447 - level_loss: 0.2107 - gender_auc: 0.9898 - handed_auc: 0.9992 - years_auc: 0.9831 - level_auc: 0.9911 - val_loss: 3.2931 - val_gender_loss: 0.4247 - val_handed_loss: 0.1967 - val_years_loss: 1.2372 - val_level_loss: 1.4346 - val_gender_auc: 0.8282 - val_handed_auc: 0.9685 - val_years_auc: 0.8300 - val_level_auc: 0.8759 - lr: 0.0010\n",
            "Epoch 9/50\n",
            "1320/1320 [==============================] - 136s 103ms/step - loss: 0.5027 - gender_loss: 0.0790 - handed_loss: 0.0116 - years_loss: 0.2231 - level_loss: 0.1890 - gender_auc: 0.9917 - handed_auc: 0.9993 - years_auc: 0.9856 - level_auc: 0.9926 - val_loss: 2.6884 - val_gender_loss: 0.3964 - val_handed_loss: 0.1319 - val_years_loss: 1.0722 - val_level_loss: 1.0879 - val_gender_auc: 0.8008 - val_handed_auc: 0.9862 - val_years_auc: 0.8428 - val_level_auc: 0.8879 - lr: 0.0010\n",
            "Epoch 10/50\n",
            "1320/1320 [==============================] - 135s 102ms/step - loss: 0.4535 - gender_loss: 0.0719 - handed_loss: 0.0110 - years_loss: 0.2050 - level_loss: 0.1656 - gender_auc: 0.9930 - handed_auc: 0.9995 - years_auc: 0.9876 - level_auc: 0.9942 - val_loss: 3.2966 - val_gender_loss: 0.4538 - val_handed_loss: 0.2816 - val_years_loss: 1.1128 - val_level_loss: 1.4484 - val_gender_auc: 0.8089 - val_handed_auc: 0.9532 - val_years_auc: 0.8387 - val_level_auc: 0.8710 - lr: 0.0010\n",
            "Epoch 11/50\n",
            "1320/1320 [==============================] - 135s 102ms/step - loss: 0.4196 - gender_loss: 0.0643 - handed_loss: 0.0121 - years_loss: 0.1802 - level_loss: 0.1630 - gender_auc: 0.9931 - handed_auc: 0.9992 - years_auc: 0.9902 - level_auc: 0.9941 - val_loss: 2.8850 - val_gender_loss: 0.4242 - val_handed_loss: 0.3004 - val_years_loss: 1.0898 - val_level_loss: 1.0706 - val_gender_auc: 0.8292 - val_handed_auc: 0.9435 - val_years_auc: 0.8448 - val_level_auc: 0.8852 - lr: 0.0010\n",
            "Epoch 12/50\n",
            "1320/1320 [==============================] - 135s 102ms/step - loss: 0.3794 - gender_loss: 0.0566 - handed_loss: 0.0140 - years_loss: 0.1662 - level_loss: 0.1425 - gender_auc: 0.9948 - handed_auc: 0.9992 - years_auc: 0.9914 - level_auc: 0.9952 - val_loss: 3.8894 - val_gender_loss: 0.5632 - val_handed_loss: 0.1419 - val_years_loss: 1.4532 - val_level_loss: 1.7310 - val_gender_auc: 0.7690 - val_handed_auc: 0.9827 - val_years_auc: 0.8116 - val_level_auc: 0.8487 - lr: 0.0010\n",
            "Epoch 13/50\n",
            "1320/1320 [==============================] - 135s 102ms/step - loss: 0.3496 - gender_loss: 0.0543 - handed_loss: 0.0112 - years_loss: 0.1516 - level_loss: 0.1325 - gender_auc: 0.9949 - handed_auc: 0.9993 - years_auc: 0.9928 - level_auc: 0.9958 - val_loss: 3.9791 - val_gender_loss: 0.6655 - val_handed_loss: 0.2399 - val_years_loss: 1.3446 - val_level_loss: 1.7291 - val_gender_auc: 0.7846 - val_handed_auc: 0.9584 - val_years_auc: 0.8122 - val_level_auc: 0.8506 - lr: 0.0010\n",
            "Epoch 14/50\n",
            "1320/1320 [==============================] - 135s 102ms/step - loss: 0.3642 - gender_loss: 0.0635 - handed_loss: 0.0113 - years_loss: 0.1493 - level_loss: 0.1400 - gender_auc: 0.9930 - handed_auc: 0.9993 - years_auc: 0.9930 - level_auc: 0.9952 - val_loss: 3.0847 - val_gender_loss: 0.4673 - val_handed_loss: 0.2273 - val_years_loss: 1.1578 - val_level_loss: 1.2324 - val_gender_auc: 0.7917 - val_handed_auc: 0.9612 - val_years_auc: 0.8619 - val_level_auc: 0.8895 - lr: 0.0010\n",
            "Epoch 15/50\n",
            "1320/1320 [==============================] - 134s 102ms/step - loss: 0.3154 - gender_loss: 0.0481 - handed_loss: 0.0131 - years_loss: 0.1377 - level_loss: 0.1165 - gender_auc: 0.9953 - handed_auc: 0.9991 - years_auc: 0.9938 - level_auc: 0.9965 - val_loss: 2.8091 - val_gender_loss: 0.5065 - val_handed_loss: 0.1780 - val_years_loss: 0.9522 - val_level_loss: 1.1724 - val_gender_auc: 0.8165 - val_handed_auc: 0.9765 - val_years_auc: 0.8707 - val_level_auc: 0.8975 - lr: 0.0010\n",
            "Epoch 16/50\n",
            "1320/1320 [==============================] - 134s 101ms/step - loss: 0.3045 - gender_loss: 0.0476 - handed_loss: 0.0068 - years_loss: 0.1366 - level_loss: 0.1134 - gender_auc: 0.9956 - handed_auc: 0.9998 - years_auc: 0.9939 - level_auc: 0.9965 - val_loss: 3.0759 - val_gender_loss: 0.5676 - val_handed_loss: 0.1294 - val_years_loss: 1.0364 - val_level_loss: 1.3425 - val_gender_auc: 0.7725 - val_handed_auc: 0.9868 - val_years_auc: 0.8479 - val_level_auc: 0.8810 - lr: 0.0010\n",
            "Epoch 17/50\n",
            "1320/1320 [==============================] - 134s 101ms/step - loss: 0.2724 - gender_loss: 0.0462 - handed_loss: 0.0075 - years_loss: 0.1221 - level_loss: 0.0966 - gender_auc: 0.9957 - handed_auc: 0.9997 - years_auc: 0.9948 - level_auc: 0.9974 - val_loss: 4.7435 - val_gender_loss: 0.7207 - val_handed_loss: 0.3780 - val_years_loss: 1.6729 - val_level_loss: 1.9720 - val_gender_auc: 0.7676 - val_handed_auc: 0.9185 - val_years_auc: 0.8040 - val_level_auc: 0.8522 - lr: 0.0010\n",
            "Epoch 18/50\n",
            "1320/1320 [==============================] - 133s 101ms/step - loss: 0.2732 - gender_loss: 0.0393 - handed_loss: 0.0096 - years_loss: 0.1193 - level_loss: 0.1050 - gender_auc: 0.9969 - handed_auc: 0.9995 - years_auc: 0.9951 - level_auc: 0.9971 - val_loss: 3.1835 - val_gender_loss: 0.4223 - val_handed_loss: 0.1390 - val_years_loss: 1.3422 - val_level_loss: 1.2801 - val_gender_auc: 0.8416 - val_handed_auc: 0.9794 - val_years_auc: 0.8528 - val_level_auc: 0.8991 - lr: 0.0010\n",
            "Epoch 19/50\n",
            "1320/1320 [==============================] - 134s 101ms/step - loss: 0.2475 - gender_loss: 0.0401 - handed_loss: 0.0075 - years_loss: 0.1111 - level_loss: 0.0888 - gender_auc: 0.9973 - handed_auc: 0.9996 - years_auc: 0.9958 - level_auc: 0.9978 - val_loss: 3.8643 - val_gender_loss: 0.4979 - val_handed_loss: 0.1659 - val_years_loss: 1.3587 - val_level_loss: 1.8419 - val_gender_auc: 0.8359 - val_handed_auc: 0.9750 - val_years_auc: 0.8513 - val_level_auc: 0.8709 - lr: 0.0010\n",
            "Epoch 20/50\n",
            "1320/1320 [==============================] - 134s 101ms/step - loss: 0.2392 - gender_loss: 0.0362 - handed_loss: 0.0107 - years_loss: 0.1067 - level_loss: 0.0856 - gender_auc: 0.9976 - handed_auc: 0.9994 - years_auc: 0.9959 - level_auc: 0.9977 - val_loss: 3.4943 - val_gender_loss: 0.6471 - val_handed_loss: 0.1623 - val_years_loss: 1.1402 - val_level_loss: 1.5446 - val_gender_auc: 0.7739 - val_handed_auc: 0.9795 - val_years_auc: 0.8521 - val_level_auc: 0.8801 - lr: 0.0010\n",
            "Epoch 21/50\n",
            "1320/1320 [==============================] - 132s 100ms/step - loss: 0.2533 - gender_loss: 0.0407 - handed_loss: 0.0087 - years_loss: 0.1068 - level_loss: 0.0970 - gender_auc: 0.9969 - handed_auc: 0.9993 - years_auc: 0.9960 - level_auc: 0.9973 - val_loss: 3.4962 - val_gender_loss: 0.5178 - val_handed_loss: 0.1937 - val_years_loss: 1.3142 - val_level_loss: 1.4706 - val_gender_auc: 0.8207 - val_handed_auc: 0.9689 - val_years_auc: 0.8539 - val_level_auc: 0.8810 - lr: 0.0010\n",
            "Epoch 22/50\n",
            "1320/1320 [==============================] - 135s 102ms/step - loss: 0.2091 - gender_loss: 0.0348 - handed_loss: 0.0070 - years_loss: 0.0938 - level_loss: 0.0735 - gender_auc: 0.9976 - handed_auc: 0.9996 - years_auc: 0.9966 - level_auc: 0.9984 - val_loss: 3.4751 - val_gender_loss: 0.4988 - val_handed_loss: 0.1467 - val_years_loss: 1.3632 - val_level_loss: 1.4665 - val_gender_auc: 0.8444 - val_handed_auc: 0.9795 - val_years_auc: 0.8552 - val_level_auc: 0.8880 - lr: 0.0010\n",
            "Epoch 23/50\n",
            "1320/1320 [==============================] - ETA: 0s - loss: 0.2132 - gender_loss: 0.0369 - handed_loss: 0.0061 - years_loss: 0.0948 - level_loss: 0.0755 - gender_auc: 0.9972 - handed_auc: 0.9998 - years_auc: 0.9967 - level_auc: 0.9982\n",
            "Epoch 23: ReduceLROnPlateau reducing learning rate to 0.0005000000237487257.\n",
            "1320/1320 [==============================] - 135s 102ms/step - loss: 0.2132 - gender_loss: 0.0369 - handed_loss: 0.0061 - years_loss: 0.0948 - level_loss: 0.0755 - gender_auc: 0.9972 - handed_auc: 0.9998 - years_auc: 0.9967 - level_auc: 0.9982 - val_loss: 3.7832 - val_gender_loss: 0.5370 - val_handed_loss: 0.1727 - val_years_loss: 1.4847 - val_level_loss: 1.5889 - val_gender_auc: 0.8450 - val_handed_auc: 0.9706 - val_years_auc: 0.8423 - val_level_auc: 0.8860 - lr: 0.0010\n",
            "Epoch 24/50\n",
            "1320/1320 [==============================] - 135s 103ms/step - loss: 0.1257 - gender_loss: 0.0203 - handed_loss: 0.0035 - years_loss: 0.0571 - level_loss: 0.0448 - gender_auc: 0.9990 - handed_auc: 0.9999 - years_auc: 0.9987 - level_auc: 0.9992 - val_loss: 3.9356 - val_gender_loss: 0.5290 - val_handed_loss: 0.2386 - val_years_loss: 1.4554 - val_level_loss: 1.7126 - val_gender_auc: 0.8339 - val_handed_auc: 0.9620 - val_years_auc: 0.8545 - val_level_auc: 0.8867 - lr: 5.0000e-04\n",
            "Epoch 25/50\n",
            "1320/1320 [==============================] - 135s 102ms/step - loss: 0.0987 - gender_loss: 0.0172 - handed_loss: 0.0028 - years_loss: 0.0432 - level_loss: 0.0355 - gender_auc: 0.9994 - handed_auc: 0.9999 - years_auc: 0.9990 - level_auc: 0.9993 - val_loss: 4.2160 - val_gender_loss: 0.5372 - val_handed_loss: 0.2413 - val_years_loss: 1.5961 - val_level_loss: 1.8414 - val_gender_auc: 0.8131 - val_handed_auc: 0.9555 - val_years_auc: 0.8394 - val_level_auc: 0.8644 - lr: 5.0000e-04\n"
          ]
        },
        {
          "data": {
            "text/plain": [
              "<keras.src.callbacks.History at 0x240106688b0>"
            ]
          },
          "execution_count": 14,
          "metadata": {},
          "output_type": "execute_result"
        }
      ],
      "source": [
        "import numpy as np\n",
        "import pandas as pd\n",
        "from pathlib import Path\n",
        "from tqdm import tqdm\n",
        "from sklearn.model_selection import GroupShuffleSplit\n",
        "from sklearn.preprocessing import LabelEncoder, StandardScaler\n",
        "from sklearn.metrics import roc_auc_score\n",
        "from tensorflow.keras.utils import Sequence, to_categorical\n",
        "from tensorflow.keras.models import Model, load_model\n",
        "from tensorflow.keras.layers import Input, Conv1D, MaxPooling1D, BatchNormalization, Dropout, Bidirectional, LSTM, GlobalAveragePooling1D, Dense, concatenate\n",
        "from tensorflow.keras.callbacks import EarlyStopping, ReduceLROnPlateau\n",
        "from tensorflow.keras.metrics import AUC\n",
        "import tensorflow as tf\n",
        "import joblib\n",
        "from tensorflow.keras.layers import LayerNormalization\n",
        "from tensorflow.keras.layers import MultiHeadAttention\n",
        "\n",
        "\n",
        "# === 參數設定 ===\n",
        "SEQ_DIR = Path('./AICUP/sequence_data_train')\n",
        "TAB_DIR = Path('./AICUP/tabular_data_train')\n",
        "INFO_CSV = './AICUP/train_info.csv'\n",
        "WINDOW = 40\n",
        "STRIDE = 10\n",
        "BATCH_SIZE = 32\n",
        "\n",
        "# === 讀取訓練資訊 ===\n",
        "info = pd.read_csv(INFO_CSV).set_index(\"unique_id\")\n",
        "\n",
        "# === 產生 sliding window 切片清單 ===\n",
        "samples = []\n",
        "for file in sorted(SEQ_DIR.glob(\"*.npy\")):\n",
        "    uid, seg_id = file.stem.split(\"_\")\n",
        "    uid, seg_id = int(uid), int(seg_id)\n",
        "    if uid not in info.index: continue\n",
        "    samples.append({'uid': uid, 'seg_id': seg_id, 'seq_path': file, 'tab_path': TAB_DIR / f\"{uid}.csv\"})\n",
        "\n",
        "samples_df = pd.DataFrame(samples)\n",
        "\n",
        "# === 分群切 train/val ===\n",
        "gss = GroupShuffleSplit(n_splits=1, test_size=0.2, random_state=42)\n",
        "train_idx, val_idx = next(gss.split(samples_df, groups=samples_df['uid']))\n",
        "train_samples = samples_df.iloc[train_idx].reset_index(drop=True)\n",
        "val_samples = samples_df.iloc[val_idx].reset_index(drop=True)\n",
        "\n",
        "# === tabular scaler ===\n",
        "tab_all = []\n",
        "for s in samples:\n",
        "    tab = pd.read_csv(s['tab_path']).values\n",
        "    tab_all.append(tab)\n",
        "tab_all = np.vstack(tab_all)\n",
        "scaler = StandardScaler().fit(tab_all)\n",
        "joblib.dump(scaler, './tabular_scaler.pkl')\n",
        "\n",
        "# === label encoding ===\n",
        "label_encoders = {}\n",
        "for col in ['gender', 'hold racket handed', 'play years', 'level']:\n",
        "    le = LabelEncoder()\n",
        "    info[col] = le.fit_transform(info[col])\n",
        "    label_encoders[col] = le\n",
        "joblib.dump(label_encoders, './label_encoders.pkl')\n",
        "\n",
        "# === 資料產生器 ===\n",
        "class DualInputGenerator(Sequence):\n",
        "    def __init__(self, df, batch_size, scaler, info_df):\n",
        "        self.df = df\n",
        "        self.batch_size = batch_size\n",
        "        self.scaler = scaler\n",
        "        self.info_df = info_df\n",
        "\n",
        "    def __len__(self):\n",
        "        return int(np.ceil(len(self.df) / self.batch_size))\n",
        "\n",
        "    def __getitem__(self, idx):\n",
        "        batch = self.df.iloc[idx * self.batch_size:(idx + 1) * self.batch_size]\n",
        "        X_seq, X_tab, y_gender, y_handed, y_years, y_level = [], [], [], [], [], []\n",
        "\n",
        "        for _, row in batch.iterrows():\n",
        "            seq = np.load(row['seq_path'])\n",
        "            if seq.shape[0] < WINDOW:\n",
        "                pad = np.zeros((WINDOW - seq.shape[0], 6))\n",
        "                seq = np.vstack([seq, pad])\n",
        "            elif seq.shape[0] > WINDOW:\n",
        "                seq = seq[:WINDOW]\n",
        "\n",
        "            tab = pd.read_csv(row['tab_path']).iloc[row['seg_id']].values.astype(np.float32)\n",
        "            tab = self.scaler.transform([tab])[0]\n",
        "\n",
        "            label_row = self.info_df.loc[row['uid']]\n",
        "            yg, yh = label_row['gender'], label_row['hold racket handed']\n",
        "            yy, yl = label_row['play years'], label_row['level']\n",
        "\n",
        "            X_seq.append(seq)\n",
        "            X_tab.append(tab)\n",
        "            y_gender.append(yg)\n",
        "            y_handed.append(yh)\n",
        "            y_years.append(yy)\n",
        "            y_level.append(yl)\n",
        "\n",
        "        return (\n",
        "            [np.array(X_seq), np.array(X_tab)],\n",
        "            {\n",
        "                'gender': np.array(y_gender).astype(np.float32),\n",
        "                'handed': np.array(y_handed).astype(np.float32),\n",
        "                'years': to_categorical(y_years, num_classes=3),\n",
        "                'level': to_categorical(y_level, num_classes=4),\n",
        "            }\n",
        "        )\n",
        "\n",
        "train_gen = DualInputGenerator(train_samples, BATCH_SIZE, scaler, info)\n",
        "val_gen = DualInputGenerator(val_samples, BATCH_SIZE, scaler, info)\n",
        "\n",
        "# === 建立模型 ===\n",
        "seq_input = Input(shape=(40, 6))\n",
        "x = Conv1D(64, 3, activation='relu', padding='same')(seq_input)\n",
        "x = BatchNormalization()(x)\n",
        "x = Conv1D(128, 5, activation='relu', padding='same')(x)\n",
        "x = BatchNormalization()(x)\n",
        "x = MaxPooling1D(2)(x)\n",
        "x = Dropout(0.4)(x)\n",
        "x = Bidirectional(LSTM(128, return_sequences=True))(x)\n",
        "x = LayerNormalization()(x)\n",
        "attn2 = MultiHeadAttention(num_heads=4, key_dim=32)(x, x)\n",
        "x = LayerNormalization()(x + attn2)\n",
        "x = GlobalAveragePooling1D()(x)\n",
        "\n",
        "# 強化 Tabular 分支\n",
        "tab_input = Input(shape=(34,))\n",
        "t = Dense(256, activation='relu')(tab_input)\n",
        "t = BatchNormalization()(t)\n",
        "t = Dropout(0.4)(t)\n",
        "t = Dense(128, activation='relu')(t)\n",
        "t = BatchNormalization()(t)\n",
        "t = Dropout(0.4)(t)\n",
        "t = Dense(64, activation='relu')(t)\n",
        "t = Dropout(0.4)(t)\n",
        "\n",
        "merged = concatenate([x, t])\n",
        "merged = Dense(128, activation='relu')(merged)\n",
        "merged = Dropout(0.4)(merged)\n",
        "\n",
        "output_gender = Dense(1, activation='sigmoid', name='gender')(merged)\n",
        "output_handed = Dense(1, activation='sigmoid', name='handed')(merged)\n",
        "output_years = Dense(3, activation='softmax', name='years')(merged)\n",
        "output_level = Dense(4, activation='softmax', name='level')(merged)\n",
        "\n",
        "model = Model(inputs=[seq_input, tab_input], outputs=[output_gender, output_handed, output_years, output_level])\n",
        "\n",
        "model.compile(\n",
        "    optimizer=tf.keras.optimizers.Adam(learning_rate=1e-3),\n",
        "    loss={\n",
        "        'gender': 'binary_crossentropy',\n",
        "        'handed': 'binary_crossentropy',\n",
        "        'years': 'categorical_crossentropy',\n",
        "        'level': 'categorical_crossentropy'\n",
        "    },\n",
        "    metrics={\n",
        "        'gender': AUC(name='auc'),\n",
        "        'handed': AUC(name='auc'),\n",
        "        'years': AUC(name='auc'),\n",
        "        'level': AUC(name='auc')\n",
        "    }\n",
        ")\n",
        "\n",
        "model.summary()\n",
        "\n",
        "# === 訓練 ===\n",
        "model.fit(\n",
        "    train_gen,\n",
        "    validation_data=val_gen,\n",
        "    epochs=50,\n",
        "    callbacks=[\n",
        "        EarlyStopping(monitor='val_level_auc', patience=7, mode='max', restore_best_weights=True),\n",
        "        ReduceLROnPlateau(monitor='val_level_auc', factor=0.5, patience=5, verbose=1, mode='max')\n",
        "    ]\n",
        ")\n"
      ]
    },
    {
      "cell_type": "code",
      "execution_count": 16,
      "metadata": {},
      "outputs": [
        {
          "name": "stdout",
          "output_type": "stream",
          "text": [
            "✅ 模型已儲存至 ./AICUP/model_fusion.keras\n"
          ]
        }
      ],
      "source": [
        "# 儲存模型（建議格式）\n",
        "model.save(\"./AICUP/model_fusion.keras\")\n",
        "print(\"✅ 模型已儲存至 ./AICUP/model_fusion.keras\")\n"
      ]
    },
    {
      "cell_type": "code",
      "execution_count": 22,
      "metadata": {},
      "outputs": [
        {
          "name": "stderr",
          "output_type": "stream",
          "text": [
            "🧠 推論中: 100%|██████████| 1430/1430 [13:26<00:00,  1.77it/s]"
          ]
        },
        {
          "name": "stdout",
          "output_type": "stream",
          "text": [
            "\n",
            "✅ 已儲存預測結果至: ./AICUP/sample_submission.csv\n"
          ]
        },
        {
          "name": "stderr",
          "output_type": "stream",
          "text": [
            "\n"
          ]
        }
      ],
      "source": [
        "import numpy as np\n",
        "import pandas as pd\n",
        "from pathlib import Path\n",
        "from tensorflow.keras.models import load_model\n",
        "import joblib\n",
        "from collections import defaultdict\n",
        "from tqdm import tqdm\n",
        "\n",
        "# === 路徑設定 ===\n",
        "MODEL_PATH = \"./AICUP/model_fusion.keras\"\n",
        "SCALER_PATH = \"./tabular_scaler.pkl\"\n",
        "SEQ_DIR = Path(\"./AICUP/sequence_data_test\")\n",
        "TAB_DIR = Path(\"./AICUP/tabular_data_test\")\n",
        "SUBMIT_PATH = \"./AICUP/sample_submission.csv\"\n",
        "WINDOW = 40\n",
        "\n",
        "# === 載入模型與 scaler ===\n",
        "model = load_model(MODEL_PATH, compile=False)\n",
        "scaler = joblib.load(SCALER_PATH)\n",
        "# === 補空白的壞掉檔案 ===\n",
        "# for f in invalid_files:\n",
        "#     np.save(f, np.zeros((85, 6), dtype=np.float32))\n",
        "# === 整理每位選手所有段落 ===\n",
        "uid_dict = defaultdict(list)\n",
        "for file in sorted(SEQ_DIR.glob(\"*.npy\")):\n",
        "    uid_str = \"_\".join(file.stem.split(\"_\")[:-1])  # e.g. '1968.0'\n",
        "    uid = int(float(uid_str))  # 先 float 再 int\n",
        "    uid_dict[uid].append(file)\n",
        "\n",
        "submit_rows = []\n",
        "\n",
        "for uid in tqdm(sorted(uid_dict.keys()), desc=\"🧠 推論中\"):\n",
        "    segments_seq, segments_tab = [], []\n",
        "\n",
        "    for file in sorted(uid_dict[uid]):\n",
        "        seg_id = int(file.stem.split(\"_\")[-1])\n",
        "        seq = np.load(file, allow_pickle=True)\n",
        "        if seq.shape[0] < WINDOW:\n",
        "            pad = np.zeros((WINDOW - seq.shape[0], 6))\n",
        "            seq = np.vstack([seq, pad])\n",
        "        elif seq.shape[0] > WINDOW:\n",
        "            seq = seq[:WINDOW]\n",
        "        segments_seq.append(seq)\n",
        "\n",
        "        tab_path = TAB_DIR / f\"{uid}.csv\"\n",
        "        if not tab_path.exists():\n",
        "            print(f\"⚠️ 找不到 tabular 資料: {tab_path}\")\n",
        "            continue\n",
        "        tab_df = pd.read_csv(tab_path)\n",
        "        if seg_id >= len(tab_df):\n",
        "            print(f\"⚠️ 跳過 {uid}_{seg_id}，tabular 無對應資料\")\n",
        "            continue\n",
        "        tab = tab_df.iloc[seg_id].values.astype(np.float32)\n",
        "        tab = scaler.transform([tab])[0]\n",
        "        segments_tab.append(tab)\n",
        "\n",
        "    if not segments_seq or len(segments_seq) != len(segments_tab):\n",
        "        print(f\"⚠️ UID {uid} 的段數不一致，跳過\")\n",
        "        continue\n",
        "\n",
        "    X_seq = np.array(segments_seq)\n",
        "    X_tab = np.array(segments_tab)\n",
        "\n",
        "    preds = model.predict([X_seq, X_tab], verbose=0)\n",
        "    if not isinstance(preds, list):\n",
        "        preds = [preds]\n",
        "\n",
        "    weighted_preds = []\n",
        "    for i, p in enumerate(preds):\n",
        "        if p.shape[1] == 1:\n",
        "            # sigmoid：先 squeeze，再反轉 → 預測 label=1 的機率（男/右手）\n",
        "            p = p.squeeze(axis=1)\n",
        "            p = 1.0 - p  # 👈 反轉：原本是 label=0（女/左手）的機率\n",
        "            weights = p\n",
        "            weighted_avg = np.average(p, weights=weights)\n",
        "            weighted_preds.append(weighted_avg)\n",
        "        else:\n",
        "            # softmax\n",
        "            weights = np.max(p, axis=1)\n",
        "            weighted_avg = np.average(p, axis=0, weights=weights)\n",
        "            weighted_preds.append(weighted_avg)\n",
        "\n",
        "    row = [\n",
        "        uid,\n",
        "        np.float32(weighted_preds[0]),         # gender → 男生機率\n",
        "        np.float32(weighted_preds[1]),         # handed → 右手機率\n",
        "        *map(np.float32, weighted_preds[2]),   # play years softmax: 3 類\n",
        "        *map(np.float32, weighted_preds[3])    # level softmax: 4 類\n",
        "    ]\n",
        "    submit_rows.append(row)\n",
        "\n",
        "# === 輸出 CSV ===\n",
        "columns = [\n",
        "    \"unique_id\", \"gender\", \"hold racket handed\",\n",
        "    \"play years_0\", \"play years_1\", \"play years_2\",\n",
        "    \"level_2\", \"level_3\", \"level_4\", \"level_5\"\n",
        "]\n",
        "df_submit = pd.DataFrame(submit_rows, columns=columns)\n",
        "df_submit = df_submit.sort_values(\"unique_id\")\n",
        "float_cols = df_submit.columns.difference([\"unique_id\"])\n",
        "df_submit[float_cols] = df_submit[float_cols].astype(np.float32)\n",
        "df_submit.to_csv(SUBMIT_PATH, index=False, float_format=\"%.4f\")\n",
        "\n",
        "print(f\"\\n✅ 已儲存預測結果至: {SUBMIT_PATH}\")\n"
      ]
    },
    {
      "cell_type": "code",
      "execution_count": 23,
      "metadata": {},
      "outputs": [
        {
          "name": "stdout",
          "output_type": "stream",
          "text": [
            "\n",
            "共找到 0 個無法讀取的檔案\n"
          ]
        }
      ],
      "source": [
        "from pathlib import Path\n",
        "import numpy as np\n",
        "\n",
        "invalid_files = []\n",
        "\n",
        "for file in sorted(Path(\"AICUP/sequence_data_test\").glob(\"*.npy\")):\n",
        "    try:\n",
        "        data = np.load(file, allow_pickle=False)\n",
        "    except Exception as e:\n",
        "        print(f\"❌ 無法讀取：{file.name}，原因：{e}\")\n",
        "        invalid_files.append(file)\n",
        "\n",
        "print(f\"\\n共找到 {len(invalid_files)} 個無法讀取的檔案\")\n"
      ]
    },
    {
      "cell_type": "code",
      "execution_count": 25,
      "metadata": {},
      "outputs": [
        {
          "name": "stdout",
          "output_type": "stream",
          "text": [
            "✅ 找到檔案：./AICUP/sample_submission.csv\n",
            "✅ 欄位名稱正確\n",
            "✅ 欄位數量正確\n",
            "✅ 所有機率欄位皆為數值型\n",
            "✅ 所有預測機率都在 0 ~ 1 範圍內\n",
            "🎉 CSV 格式檢查完成，一切正常！\n"
          ]
        }
      ],
      "source": [
        "import pandas as pd\n",
        "import numpy as np\n",
        "from pathlib import Path\n",
        "\n",
        "EXPECTED_COLUMNS = [\n",
        "    \"unique_id\", \"gender\", \"hold racket handed\",\n",
        "    \"play years_0\", \"play years_1\", \"play years_2\",\n",
        "    \"level_2\", \"level_3\", \"level_4\", \"level_5\"\n",
        "]\n",
        "csv_path = \"./AICUP/sample_submission.csv\"\n",
        "def check_submission_format(csv_path):\n",
        "    file_path = Path(csv_path)\n",
        "    if not file_path.exists():\n",
        "        print(f\"❌ 找不到檔案：{csv_path}\")\n",
        "        return\n",
        "\n",
        "    print(f\"✅ 找到檔案：{csv_path}\")\n",
        "    df = pd.read_csv(file_path)\n",
        "\n",
        "    # === 檢查欄位名稱 ===\n",
        "    if list(df.columns) != EXPECTED_COLUMNS:\n",
        "        print(\"❌ 欄位名稱不正確！應為：\")\n",
        "        print(EXPECTED_COLUMNS)\n",
        "        print(\"實際欄位：\")\n",
        "        print(list(df.columns))\n",
        "        return\n",
        "    print(\"✅ 欄位名稱正確\")\n",
        "\n",
        "    # === 檢查欄位數量 ===\n",
        "    if df.shape[1] != 10:\n",
        "        print(f\"❌ 欄位數量錯誤，應為 10 欄，實際為 {df.shape[1]}\")\n",
        "        return\n",
        "    print(\"✅ 欄位數量正確\")\n",
        "\n",
        "    # === 檢查欄位型別 ===\n",
        "    non_numeric = df.drop(columns=[\"unique_id\"]).select_dtypes(exclude=[np.number]).columns.tolist()\n",
        "    if non_numeric:\n",
        "        print(f\"❌ 以下欄位不是數值型：{non_numeric}\")\n",
        "        return\n",
        "    print(\"✅ 所有機率欄位皆為數值型\")\n",
        "\n",
        "    # === 檢查機率範圍是否在 0～1 ===\n",
        "    probs = df.drop(columns=[\"unique_id\"])\n",
        "    if ((probs < 0) | (probs > 1)).any().any():\n",
        "        print(\"❌ 有機率值超出 0~1 範圍\")\n",
        "        rows = probs[(probs < 0) | (probs > 1)].dropna(how='all')\n",
        "        print(\"錯誤樣本：\")\n",
        "        print(rows.head())\n",
        "        return\n",
        "    print(\"✅ 所有預測機率都在 0 ~ 1 範圍內\")\n",
        "\n",
        "    print(\"🎉 CSV 格式檢查完成，一切正常！\")\n",
        "\n",
        "# === 執行檢查 ===\n",
        "check_submission_format(\"./AICUP/sample_submission.csv\")\n"
      ]
    },
    {
      "cell_type": "code",
      "execution_count": 21,
      "metadata": {},
      "outputs": [],
      "source": [
        "from pathlib import Path\n",
        "import numpy as np\n",
        "import pandas as pd\n",
        "import math\n",
        "import csv\n",
        "from sklearn.model_selection import train_test_split\n",
        "from sklearn.ensemble import RandomForestClassifier\n",
        "from sklearn.preprocessing import MinMaxScaler, LabelEncoder\n",
        "from sklearn.metrics import roc_auc_score\n",
        "\n",
        "def FFT(xreal, ximag):    \n",
        "    n = 2\n",
        "    while(n*2 <= len(xreal)):\n",
        "        n *= 2\n",
        "    \n",
        "    p = int(math.log(n, 2))\n",
        "    \n",
        "    for i in range(0, n):\n",
        "        a = i\n",
        "        b = 0\n",
        "        for j in range(0, p):\n",
        "            b = int(b*2 + a%2)\n",
        "            a = a/2\n",
        "        if(b > i):\n",
        "            xreal[i], xreal[b] = xreal[b], xreal[i]\n",
        "            ximag[i], ximag[b] = ximag[b], ximag[i]\n",
        "            \n",
        "    wreal = []\n",
        "    wimag = []\n",
        "        \n",
        "    arg = float(-2 * math.pi / n)\n",
        "    treal = float(math.cos(arg))\n",
        "    timag = float(math.sin(arg))\n",
        "    \n",
        "    wreal.append(float(1.0))\n",
        "    wimag.append(float(0.0))\n",
        "    \n",
        "    for j in range(1, int(n/2)):\n",
        "        wreal.append(wreal[-1] * treal - wimag[-1] * timag)\n",
        "        wimag.append(wreal[-1] * timag + wimag[-1] * treal)\n",
        "        \n",
        "    m = 2\n",
        "    while(m < n + 1):\n",
        "        for k in range(0, n, m):\n",
        "            for j in range(0, int(m/2), 1):\n",
        "                index1 = k + j\n",
        "                index2 = int(index1 + m / 2)\n",
        "                t = int(n * j / m)\n",
        "                treal = wreal[t] * xreal[index2] - wimag[t] * ximag[index2]\n",
        "                timag = wreal[t] * ximag[index2] + wimag[t] * xreal[index2]\n",
        "                ureal = xreal[index1]\n",
        "                uimag = ximag[index1]\n",
        "                xreal[index1] = ureal + treal\n",
        "                ximag[index1] = uimag + timag\n",
        "                xreal[index2] = ureal - treal\n",
        "                ximag[index2] = uimag - timag\n",
        "        m *= 2\n",
        "        \n",
        "    return n, xreal, ximag   \n",
        "    \n",
        "def FFT_data(input_data, swinging_times):   \n",
        "    txtlength = swinging_times[-1] - swinging_times[0]\n",
        "    a_mean = [0] * txtlength\n",
        "    g_mean = [0] * txtlength\n",
        "       \n",
        "    for num in range(len(swinging_times)-1):\n",
        "        a = []\n",
        "        g = []\n",
        "        for swing in range(swinging_times[num], swinging_times[num+1]):\n",
        "            a.append(math.sqrt(math.pow((input_data[swing][0] + input_data[swing][1] + input_data[swing][2]), 2)))\n",
        "            g.append(math.sqrt(math.pow((input_data[swing][3] + input_data[swing][4] + input_data[swing][5]), 2)))\n",
        "\n",
        "        a_mean[num] = (sum(a) / len(a))\n",
        "        g_mean[num] = (sum(a) / len(a))\n",
        "    \n",
        "    return a_mean, g_mean\n",
        "\n",
        "def feature(input_data, swinging_now, swinging_times, n_fft, a_fft, g_fft, a_fft_imag, g_fft_imag, writer):\n",
        "    allsum = []\n",
        "    mean = []\n",
        "    var = []\n",
        "    rms = []\n",
        "    XYZmean_a = 0\n",
        "    a = []\n",
        "    g = []\n",
        "    a_s1 = 0\n",
        "    a_s2 = 0\n",
        "    g_s1 = 0\n",
        "    g_s2 = 0\n",
        "    a_k1 = 0\n",
        "    a_k2 = 0\n",
        "    g_k1 = 0\n",
        "    g_k2 = 0\n",
        "    \n",
        "    for i in range(len(input_data)):\n",
        "        if i==0:\n",
        "            allsum = input_data[i]\n",
        "            a.append(math.sqrt(math.pow((input_data[i][0] + input_data[i][1] + input_data[i][2]), 2)))\n",
        "            g.append(math.sqrt(math.pow((input_data[i][3] + input_data[i][4] + input_data[i][5]), 2)))\n",
        "            continue\n",
        "        \n",
        "        a.append(math.sqrt(math.pow((input_data[i][0] + input_data[i][1] + input_data[i][2]), 2)))\n",
        "        g.append(math.sqrt(math.pow((input_data[i][3] + input_data[i][4] + input_data[i][5]), 2)))\n",
        "       \n",
        "        allsum = [allsum[feature_index] + input_data[i][feature_index] for feature_index in range(len(input_data[i]))]\n",
        "        \n",
        "    mean = [allsum[feature_index] / len(input_data) for feature_index in range(len(input_data[i]))]\n",
        "    \n",
        "    for i in range(len(input_data)):\n",
        "        if i==0:\n",
        "            var = input_data[i]\n",
        "            rms = input_data[i]\n",
        "            continue\n",
        "\n",
        "        var = [var[feature_index] + math.pow((input_data[i][feature_index] - mean[feature_index]), 2) for feature_index in range(len(input_data[i]))]\n",
        "        rms = [rms[feature_index] + math.pow(input_data[i][feature_index], 2) for feature_index in range(len(input_data[i]))]\n",
        "        \n",
        "    var = [math.sqrt((var[feature_index] / len(input_data))) for feature_index in range(len(input_data[i]))]\n",
        "    rms = [math.sqrt((rms[feature_index] / len(input_data))) for feature_index in range(len(input_data[i]))]\n",
        "    \n",
        "    a_max = [max(a)]\n",
        "    a_min = [min(a)]\n",
        "    a_mean = [sum(a) / len(a)]\n",
        "    g_max = [max(g)]\n",
        "    g_min = [min(g)]\n",
        "    g_mean = [sum(g) / len(g)]\n",
        "    \n",
        "    a_var = math.sqrt(math.pow((var[0] + var[1] + var[2]), 2))\n",
        "    \n",
        "    for i in range(len(input_data)):\n",
        "        a_s1 = a_s1 + math.pow((a[i] - a_mean[0]), 4)\n",
        "        a_s2 = a_s2 + math.pow((a[i] - a_mean[0]), 2)\n",
        "        g_s1 = g_s1 + math.pow((g[i] - g_mean[0]), 4)\n",
        "        g_s2 = g_s2 + math.pow((g[i] - g_mean[0]), 2)\n",
        "        a_k1 = a_k1 + math.pow((a[i] - a_mean[0]), 3)\n",
        "        g_k1 = g_k1 + math.pow((g[i] - g_mean[0]), 3)\n",
        "    \n",
        "    a_s1 = a_s1 / len(input_data)\n",
        "    a_s2 = a_s2 / len(input_data)\n",
        "    g_s1 = g_s1 / len(input_data)\n",
        "    g_s2 = g_s2 / len(input_data)\n",
        "    a_k2 = math.pow(a_s2, 1.5)\n",
        "    g_k2 = math.pow(g_s2, 1.5)\n",
        "    a_s2 = a_s2 * a_s2\n",
        "    g_s2 = g_s2 * g_s2\n",
        "    \n",
        "    a_kurtosis = [a_s1 / a_s2]\n",
        "    g_kurtosis = [g_s1 / g_s2]\n",
        "    a_skewness = [a_k1 / a_k2]\n",
        "    g_skewness = [g_k1 / g_k2]\n",
        "    \n",
        "    a_fft_mean = 0\n",
        "    g_fft_mean = 0\n",
        "    cut = int(n_fft / swinging_times)\n",
        "    a_psd = []\n",
        "    g_psd = []\n",
        "    entropy_a = []\n",
        "    entropy_g = []\n",
        "    e1 = []\n",
        "    e3 = []\n",
        "    e2 = 0\n",
        "    e4 = 0\n",
        "    \n",
        "    for i in range(cut * swinging_now, cut * (swinging_now + 1)):\n",
        "        a_fft_mean += a_fft[i]\n",
        "        g_fft_mean += g_fft[i]\n",
        "        a_psd.append(math.pow(a_fft[i], 2) + math.pow(a_fft_imag[i], 2))\n",
        "        g_psd.append(math.pow(g_fft[i], 2) + math.pow(g_fft_imag[i], 2))\n",
        "        e1.append(math.pow(a_psd[-1], 0.5))\n",
        "        e3.append(math.pow(g_psd[-1], 0.5))\n",
        "        \n",
        "    a_fft_mean = a_fft_mean / cut\n",
        "    g_fft_mean = g_fft_mean / cut\n",
        "    \n",
        "    a_psd_mean = sum(a_psd) / len(a_psd)\n",
        "    g_psd_mean = sum(g_psd) / len(g_psd)\n",
        "    \n",
        "    for i in range(cut):\n",
        "        e2 += math.pow(a_psd[i], 0.5)\n",
        "        e4 += math.pow(g_psd[i], 0.5)\n",
        "    \n",
        "    for i in range(cut):\n",
        "        entropy_a.append((e1[i] / e2) * math.log(e1[i] / e2))\n",
        "        entropy_g.append((e3[i] / e4) * math.log(e3[i] / e4))\n",
        "    \n",
        "    a_entropy_mean = sum(entropy_a) / len(entropy_a)\n",
        "    g_entropy_mean = sum(entropy_g) / len(entropy_g)       \n",
        "        \n",
        "    \n",
        "    output = mean + var + rms + a_max + a_mean + a_min + g_max + g_mean + g_min + [a_fft_mean] + [g_fft_mean] + [a_psd_mean] + [g_psd_mean] + a_kurtosis + g_kurtosis + a_skewness + g_skewness + [a_entropy_mean] + [g_entropy_mean]\n",
        "    writer.writerow(output)\n",
        "# === 手動指定 UID ===\n",
        "uid = \"3211\"\n",
        "txt_path = Path(f\"./AICUP/test_data/{uid}.txt\")\n",
        "csv_path = Path(f\"./AICUP/tabular_data_test/{uid}.csv\")\n",
        "\n",
        "# === 讀入資料 ===\n",
        "with open(txt_path) as f:\n",
        "    lines = f.read().splitlines()\n",
        "    data = [list(map(int, l.strip().split())) for l in lines if len(l.strip().split()) == 6]\n",
        "\n",
        "swing_index = np.linspace(0, len(data), 28, dtype=int)\n",
        "headerList = ['ax_mean', 'ay_mean', 'az_mean', 'gx_mean', 'gy_mean', 'gz_mean', 'ax_var', 'ay_var', 'az_var', 'gx_var', 'gy_var', 'gz_var', 'ax_rms', 'ay_rms', 'az_rms', 'gx_rms', 'gy_rms', 'gz_rms', 'a_max', 'a_mean', 'a_min', 'g_max', 'g_mean', 'g_min', 'a_fft', 'g_fft', 'a_psd', 'g_psd', 'a_kurt', 'g_kurt', 'a_skewn', 'g_skewn', 'a_entropy', 'g_entropy']\n",
        "\n",
        "# === FFT 處理 ===\n",
        "a_fft, g_fft = FFT_data(data, swing_index)\n",
        "a_fft_imag = [0] * len(a_fft)\n",
        "g_fft_imag = [0] * len(g_fft)\n",
        "n_fft, a_fft, a_fft_imag = FFT(a_fft, a_fft_imag)\n",
        "n_fft, g_fft, g_fft_imag = FFT(g_fft, g_fft_imag)\n",
        "\n",
        "# === 寫入單一檔案 ===\n",
        "with open(csv_path, 'w', newline='') as csvfile:\n",
        "    writer = csv.writer(csvfile)\n",
        "    writer.writerow(headerList)\n",
        "    for i in range(1, len(swing_index)):\n",
        "        try:\n",
        "            seg = data[swing_index[i-1]:swing_index[i]]\n",
        "            if len(seg) == 0:\n",
        "                print(f\"⚠️ 空段：{uid}_{i-1}\")\n",
        "                continue\n",
        "            feature(seg, i - 1, len(swing_index) - 1, n_fft, a_fft, g_fft, a_fft_imag, g_fft_imag, writer)\n",
        "        except Exception as e:\n",
        "            print(f\"❌ 發生錯誤於 {uid}_{i-1}：{e}\")\n"
      ]
    }
  ],
  "metadata": {
    "accelerator": "GPU",
    "colab": {
      "gpuType": "T4",
      "provenance": []
    },
    "kernelspec": {
      "display_name": "torch-env",
      "language": "python",
      "name": "python3"
    },
    "language_info": {
      "codemirror_mode": {
        "name": "ipython",
        "version": 3
      },
      "file_extension": ".py",
      "mimetype": "text/x-python",
      "name": "python",
      "nbconvert_exporter": "python",
      "pygments_lexer": "ipython3",
      "version": "3.8.20"
    }
  },
  "nbformat": 4,
  "nbformat_minor": 0
}
